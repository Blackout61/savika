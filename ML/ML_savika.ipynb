{
 "cells": [
  {
   "cell_type": "code",
   "execution_count": 1,
   "id": "0f6ad303",
   "metadata": {},
   "outputs": [
    {
     "name": "stdout",
     "output_type": "stream",
     "text": [
      "WARNING:tensorflow:From C:\\Users\\D4rkS\\anaconda3\\lib\\site-packages\\keras\\src\\losses.py:2976: The name tf.losses.sparse_softmax_cross_entropy is deprecated. Please use tf.compat.v1.losses.sparse_softmax_cross_entropy instead.\n",
      "\n"
     ]
    }
   ],
   "source": [
    "import pandas as pd \n",
    "import numpy as np\n",
    "import matplotlib.pyplot as plt\n",
    "import seaborn as sns\n",
    "\n",
    "from sklearn.preprocessing import OneHotEncoder,MinMaxScaler,StandardScaler\n",
    "from sklearn.model_selection import train_test_split\n",
    "from sklearn.metrics import classification_report,accuracy_score,confusion_matrix\n",
    "\n",
    "from sklearn.neighbors import KNeighborsClassifier\n",
    "from sklearn.tree import DecisionTreeClassifier\n",
    "from sklearn.ensemble import RandomForestClassifier\n",
    "from sklearn.naive_bayes import MultinomialNB,BernoulliNB\n",
    "from sklearn.multioutput import MultiOutputClassifier\n",
    "\n",
    "from tensorflow.keras.models import Sequential\n",
    "from tensorflow.keras.layers import Dense,Dropout\n",
    "from tensorflow.keras.utils import to_categorical\n",
    "from sklearn.svm import SVC"
   ]
  },
  {
   "cell_type": "code",
   "execution_count": 2,
   "id": "80b16096",
   "metadata": {},
   "outputs": [],
   "source": [
    "data = pd.read_excel(\"VeriSeti_4.xlsx\")"
   ]
  },
  {
   "cell_type": "code",
   "execution_count": 3,
   "id": "d77b65ce",
   "metadata": {},
   "outputs": [
    {
     "data": {
      "text/html": [
       "<div>\n",
       "<style scoped>\n",
       "    .dataframe tbody tr th:only-of-type {\n",
       "        vertical-align: middle;\n",
       "    }\n",
       "\n",
       "    .dataframe tbody tr th {\n",
       "        vertical-align: top;\n",
       "    }\n",
       "\n",
       "    .dataframe thead th {\n",
       "        text-align: right;\n",
       "    }\n",
       "</style>\n",
       "<table border=\"1\" class=\"dataframe\">\n",
       "  <thead>\n",
       "    <tr style=\"text-align: right;\">\n",
       "      <th></th>\n",
       "      <th>Maliyet</th>\n",
       "      <th>Ağırlık Sınıfı</th>\n",
       "      <th>Özerk Yapı</th>\n",
       "      <th>Kontrol Sistemi</th>\n",
       "      <th>Faydalı Yük</th>\n",
       "      <th>Motor</th>\n",
       "      <th>Arazi Tipi</th>\n",
       "      <th>Yönlendirme Sistemi</th>\n",
       "      <th>Süspansiyon Sistemi</th>\n",
       "      <th>Gövde Malzemesi</th>\n",
       "      <th>...</th>\n",
       "      <th>Güç Aktarma Sistemi</th>\n",
       "      <th>Fren Sistemi</th>\n",
       "      <th>Isı Yönetim Sistemi</th>\n",
       "      <th>Elektrik Sistemi</th>\n",
       "      <th>Elektronik Üniteler</th>\n",
       "      <th>2 Tekerlekli</th>\n",
       "      <th>4 Tekerlekli</th>\n",
       "      <th>6 Tekerlekli</th>\n",
       "      <th>8 Tekerlekli</th>\n",
       "      <th>Paletli</th>\n",
       "    </tr>\n",
       "  </thead>\n",
       "  <tbody>\n",
       "    <tr>\n",
       "      <th>0</th>\n",
       "      <td>1</td>\n",
       "      <td>1</td>\n",
       "      <td>1</td>\n",
       "      <td>1</td>\n",
       "      <td>1</td>\n",
       "      <td>1</td>\n",
       "      <td>1</td>\n",
       "      <td>2</td>\n",
       "      <td>1</td>\n",
       "      <td>1</td>\n",
       "      <td>...</td>\n",
       "      <td>1</td>\n",
       "      <td>1</td>\n",
       "      <td>1</td>\n",
       "      <td>1</td>\n",
       "      <td>1</td>\n",
       "      <td>1</td>\n",
       "      <td>0</td>\n",
       "      <td>0</td>\n",
       "      <td>0</td>\n",
       "      <td>0</td>\n",
       "    </tr>\n",
       "    <tr>\n",
       "      <th>1</th>\n",
       "      <td>1</td>\n",
       "      <td>1</td>\n",
       "      <td>1</td>\n",
       "      <td>1</td>\n",
       "      <td>1</td>\n",
       "      <td>1</td>\n",
       "      <td>1</td>\n",
       "      <td>5</td>\n",
       "      <td>1</td>\n",
       "      <td>1</td>\n",
       "      <td>...</td>\n",
       "      <td>1</td>\n",
       "      <td>1</td>\n",
       "      <td>1</td>\n",
       "      <td>1</td>\n",
       "      <td>1</td>\n",
       "      <td>0</td>\n",
       "      <td>0</td>\n",
       "      <td>0</td>\n",
       "      <td>0</td>\n",
       "      <td>0</td>\n",
       "    </tr>\n",
       "    <tr>\n",
       "      <th>2</th>\n",
       "      <td>1</td>\n",
       "      <td>1</td>\n",
       "      <td>1</td>\n",
       "      <td>1</td>\n",
       "      <td>1</td>\n",
       "      <td>1</td>\n",
       "      <td>2</td>\n",
       "      <td>2</td>\n",
       "      <td>1</td>\n",
       "      <td>1</td>\n",
       "      <td>...</td>\n",
       "      <td>1</td>\n",
       "      <td>1</td>\n",
       "      <td>1</td>\n",
       "      <td>1</td>\n",
       "      <td>1</td>\n",
       "      <td>1</td>\n",
       "      <td>0</td>\n",
       "      <td>0</td>\n",
       "      <td>0</td>\n",
       "      <td>0</td>\n",
       "    </tr>\n",
       "    <tr>\n",
       "      <th>3</th>\n",
       "      <td>1</td>\n",
       "      <td>1</td>\n",
       "      <td>1</td>\n",
       "      <td>1</td>\n",
       "      <td>1</td>\n",
       "      <td>1</td>\n",
       "      <td>2</td>\n",
       "      <td>5</td>\n",
       "      <td>1</td>\n",
       "      <td>1</td>\n",
       "      <td>...</td>\n",
       "      <td>1</td>\n",
       "      <td>1</td>\n",
       "      <td>1</td>\n",
       "      <td>1</td>\n",
       "      <td>1</td>\n",
       "      <td>0</td>\n",
       "      <td>0</td>\n",
       "      <td>0</td>\n",
       "      <td>0</td>\n",
       "      <td>0</td>\n",
       "    </tr>\n",
       "    <tr>\n",
       "      <th>4</th>\n",
       "      <td>1</td>\n",
       "      <td>1</td>\n",
       "      <td>1</td>\n",
       "      <td>1</td>\n",
       "      <td>1</td>\n",
       "      <td>1</td>\n",
       "      <td>3</td>\n",
       "      <td>2</td>\n",
       "      <td>2</td>\n",
       "      <td>1</td>\n",
       "      <td>...</td>\n",
       "      <td>1</td>\n",
       "      <td>1</td>\n",
       "      <td>1</td>\n",
       "      <td>1</td>\n",
       "      <td>1</td>\n",
       "      <td>1</td>\n",
       "      <td>0</td>\n",
       "      <td>0</td>\n",
       "      <td>0</td>\n",
       "      <td>0</td>\n",
       "    </tr>\n",
       "    <tr>\n",
       "      <th>5</th>\n",
       "      <td>1</td>\n",
       "      <td>1</td>\n",
       "      <td>1</td>\n",
       "      <td>1</td>\n",
       "      <td>1</td>\n",
       "      <td>1</td>\n",
       "      <td>3</td>\n",
       "      <td>5</td>\n",
       "      <td>2</td>\n",
       "      <td>1</td>\n",
       "      <td>...</td>\n",
       "      <td>1</td>\n",
       "      <td>1</td>\n",
       "      <td>1</td>\n",
       "      <td>1</td>\n",
       "      <td>1</td>\n",
       "      <td>0</td>\n",
       "      <td>0</td>\n",
       "      <td>0</td>\n",
       "      <td>0</td>\n",
       "      <td>0</td>\n",
       "    </tr>\n",
       "    <tr>\n",
       "      <th>6</th>\n",
       "      <td>1</td>\n",
       "      <td>1</td>\n",
       "      <td>1</td>\n",
       "      <td>1</td>\n",
       "      <td>1</td>\n",
       "      <td>1</td>\n",
       "      <td>3</td>\n",
       "      <td>4</td>\n",
       "      <td>2</td>\n",
       "      <td>1</td>\n",
       "      <td>...</td>\n",
       "      <td>1</td>\n",
       "      <td>1</td>\n",
       "      <td>1</td>\n",
       "      <td>1</td>\n",
       "      <td>1</td>\n",
       "      <td>0</td>\n",
       "      <td>1</td>\n",
       "      <td>0</td>\n",
       "      <td>0</td>\n",
       "      <td>0</td>\n",
       "    </tr>\n",
       "    <tr>\n",
       "      <th>7</th>\n",
       "      <td>1</td>\n",
       "      <td>1</td>\n",
       "      <td>1</td>\n",
       "      <td>1</td>\n",
       "      <td>1</td>\n",
       "      <td>1</td>\n",
       "      <td>4</td>\n",
       "      <td>4</td>\n",
       "      <td>2</td>\n",
       "      <td>1</td>\n",
       "      <td>...</td>\n",
       "      <td>1</td>\n",
       "      <td>1</td>\n",
       "      <td>1</td>\n",
       "      <td>1</td>\n",
       "      <td>1</td>\n",
       "      <td>0</td>\n",
       "      <td>0</td>\n",
       "      <td>0</td>\n",
       "      <td>0</td>\n",
       "      <td>1</td>\n",
       "    </tr>\n",
       "    <tr>\n",
       "      <th>8</th>\n",
       "      <td>1</td>\n",
       "      <td>1</td>\n",
       "      <td>1</td>\n",
       "      <td>1</td>\n",
       "      <td>2</td>\n",
       "      <td>1</td>\n",
       "      <td>1</td>\n",
       "      <td>2</td>\n",
       "      <td>1</td>\n",
       "      <td>1</td>\n",
       "      <td>...</td>\n",
       "      <td>1</td>\n",
       "      <td>1</td>\n",
       "      <td>1</td>\n",
       "      <td>1</td>\n",
       "      <td>1</td>\n",
       "      <td>1</td>\n",
       "      <td>0</td>\n",
       "      <td>0</td>\n",
       "      <td>0</td>\n",
       "      <td>0</td>\n",
       "    </tr>\n",
       "    <tr>\n",
       "      <th>9</th>\n",
       "      <td>1</td>\n",
       "      <td>1</td>\n",
       "      <td>1</td>\n",
       "      <td>1</td>\n",
       "      <td>2</td>\n",
       "      <td>1</td>\n",
       "      <td>1</td>\n",
       "      <td>5</td>\n",
       "      <td>1</td>\n",
       "      <td>1</td>\n",
       "      <td>...</td>\n",
       "      <td>1</td>\n",
       "      <td>1</td>\n",
       "      <td>1</td>\n",
       "      <td>1</td>\n",
       "      <td>1</td>\n",
       "      <td>0</td>\n",
       "      <td>0</td>\n",
       "      <td>0</td>\n",
       "      <td>0</td>\n",
       "      <td>0</td>\n",
       "    </tr>\n",
       "  </tbody>\n",
       "</table>\n",
       "<p>10 rows × 21 columns</p>\n",
       "</div>"
      ],
      "text/plain": [
       "   Maliyet  Ağırlık Sınıfı  Özerk Yapı  Kontrol Sistemi  Faydalı Yük  Motor  \\\n",
       "0        1               1           1                1            1      1   \n",
       "1        1               1           1                1            1      1   \n",
       "2        1               1           1                1            1      1   \n",
       "3        1               1           1                1            1      1   \n",
       "4        1               1           1                1            1      1   \n",
       "5        1               1           1                1            1      1   \n",
       "6        1               1           1                1            1      1   \n",
       "7        1               1           1                1            1      1   \n",
       "8        1               1           1                1            2      1   \n",
       "9        1               1           1                1            2      1   \n",
       "\n",
       "   Arazi Tipi  Yönlendirme Sistemi  Süspansiyon Sistemi  Gövde Malzemesi  ...  \\\n",
       "0           1                    2                    1                1  ...   \n",
       "1           1                    5                    1                1  ...   \n",
       "2           2                    2                    1                1  ...   \n",
       "3           2                    5                    1                1  ...   \n",
       "4           3                    2                    2                1  ...   \n",
       "5           3                    5                    2                1  ...   \n",
       "6           3                    4                    2                1  ...   \n",
       "7           4                    4                    2                1  ...   \n",
       "8           1                    2                    1                1  ...   \n",
       "9           1                    5                    1                1  ...   \n",
       "\n",
       "   Güç Aktarma Sistemi  Fren Sistemi  Isı Yönetim Sistemi  Elektrik Sistemi  \\\n",
       "0                    1             1                    1                 1   \n",
       "1                    1             1                    1                 1   \n",
       "2                    1             1                    1                 1   \n",
       "3                    1             1                    1                 1   \n",
       "4                    1             1                    1                 1   \n",
       "5                    1             1                    1                 1   \n",
       "6                    1             1                    1                 1   \n",
       "7                    1             1                    1                 1   \n",
       "8                    1             1                    1                 1   \n",
       "9                    1             1                    1                 1   \n",
       "\n",
       "   Elektronik Üniteler  2 Tekerlekli  4 Tekerlekli   6 Tekerlekli   \\\n",
       "0                    1             1              0              0   \n",
       "1                    1             0              0              0   \n",
       "2                    1             1              0              0   \n",
       "3                    1             0              0              0   \n",
       "4                    1             1              0              0   \n",
       "5                    1             0              0              0   \n",
       "6                    1             0              1              0   \n",
       "7                    1             0              0              0   \n",
       "8                    1             1              0              0   \n",
       "9                    1             0              0              0   \n",
       "\n",
       "   8 Tekerlekli   Paletli   \n",
       "0              0         0  \n",
       "1              0         0  \n",
       "2              0         0  \n",
       "3              0         0  \n",
       "4              0         0  \n",
       "5              0         0  \n",
       "6              0         0  \n",
       "7              0         1  \n",
       "8              0         0  \n",
       "9              0         0  \n",
       "\n",
       "[10 rows x 21 columns]"
      ]
     },
     "execution_count": 3,
     "metadata": {},
     "output_type": "execute_result"
    }
   ],
   "source": [
    "# Veri setinin ilk 10 verisini ekrana ver\n",
    "data.head(10)"
   ]
  },
  {
   "cell_type": "code",
   "execution_count": 4,
   "id": "c23f390b",
   "metadata": {},
   "outputs": [
    {
     "data": {
      "text/plain": [
       "Maliyet                0\n",
       "Ağırlık Sınıfı         0\n",
       "Özerk Yapı             0\n",
       "Kontrol Sistemi        0\n",
       "Faydalı Yük            0\n",
       "Motor                  0\n",
       "Arazi Tipi             0\n",
       "Yönlendirme Sistemi    0\n",
       "Süspansiyon Sistemi    0\n",
       "Gövde Malzemesi        0\n",
       "Enerji Sistemi         0\n",
       "Güç Aktarma Sistemi    0\n",
       "Fren Sistemi           0\n",
       "Isı Yönetim Sistemi    0\n",
       "Elektrik Sistemi       0\n",
       "Elektronik Üniteler    0\n",
       "2 Tekerlekli           0\n",
       "4 Tekerlekli           0\n",
       "6 Tekerlekli           0\n",
       "8 Tekerlekli           0\n",
       "Paletli                0\n",
       "dtype: int64"
      ]
     },
     "execution_count": 4,
     "metadata": {},
     "output_type": "execute_result"
    }
   ],
   "source": [
    "# Veri setinde boş veya eksik veri var mi?\n",
    "data.isna().sum()"
   ]
  },
  {
   "cell_type": "code",
   "execution_count": 5,
   "id": "e35ddf7c",
   "metadata": {},
   "outputs": [
    {
     "data": {
      "text/html": [
       "<div>\n",
       "<style scoped>\n",
       "    .dataframe tbody tr th:only-of-type {\n",
       "        vertical-align: middle;\n",
       "    }\n",
       "\n",
       "    .dataframe tbody tr th {\n",
       "        vertical-align: top;\n",
       "    }\n",
       "\n",
       "    .dataframe thead th {\n",
       "        text-align: right;\n",
       "    }\n",
       "</style>\n",
       "<table border=\"1\" class=\"dataframe\">\n",
       "  <thead>\n",
       "    <tr style=\"text-align: right;\">\n",
       "      <th></th>\n",
       "      <th>Maliyet</th>\n",
       "      <th>Ağırlık Sınıfı</th>\n",
       "      <th>Özerk Yapı</th>\n",
       "      <th>Kontrol Sistemi</th>\n",
       "      <th>Faydalı Yük</th>\n",
       "      <th>Motor</th>\n",
       "      <th>Arazi Tipi</th>\n",
       "      <th>Yönlendirme Sistemi</th>\n",
       "      <th>Süspansiyon Sistemi</th>\n",
       "      <th>Gövde Malzemesi</th>\n",
       "      <th>...</th>\n",
       "      <th>Güç Aktarma Sistemi</th>\n",
       "      <th>Fren Sistemi</th>\n",
       "      <th>Isı Yönetim Sistemi</th>\n",
       "      <th>Elektrik Sistemi</th>\n",
       "      <th>Elektronik Üniteler</th>\n",
       "      <th>2 Tekerlekli</th>\n",
       "      <th>4 Tekerlekli</th>\n",
       "      <th>6 Tekerlekli</th>\n",
       "      <th>8 Tekerlekli</th>\n",
       "      <th>Paletli</th>\n",
       "    </tr>\n",
       "  </thead>\n",
       "  <tbody>\n",
       "    <tr>\n",
       "      <th>Maliyet</th>\n",
       "      <td>1.000000</td>\n",
       "      <td>0.566347</td>\n",
       "      <td>-0.010819</td>\n",
       "      <td>-0.004671</td>\n",
       "      <td>0.139245</td>\n",
       "      <td>0.265021</td>\n",
       "      <td>-0.005914</td>\n",
       "      <td>0.201652</td>\n",
       "      <td>0.830228</td>\n",
       "      <td>0.662083</td>\n",
       "      <td>...</td>\n",
       "      <td>0.269209</td>\n",
       "      <td>-0.117431</td>\n",
       "      <td>0.566579</td>\n",
       "      <td>0.473147</td>\n",
       "      <td>NaN</td>\n",
       "      <td>-0.221177</td>\n",
       "      <td>-0.274421</td>\n",
       "      <td>0.059463</td>\n",
       "      <td>0.364839</td>\n",
       "      <td>0.054104</td>\n",
       "    </tr>\n",
       "    <tr>\n",
       "      <th>Ağırlık Sınıfı</th>\n",
       "      <td>0.566347</td>\n",
       "      <td>1.000000</td>\n",
       "      <td>-0.007337</td>\n",
       "      <td>-0.006933</td>\n",
       "      <td>0.249858</td>\n",
       "      <td>0.471730</td>\n",
       "      <td>0.001125</td>\n",
       "      <td>0.062402</td>\n",
       "      <td>0.733189</td>\n",
       "      <td>0.734020</td>\n",
       "      <td>...</td>\n",
       "      <td>0.416010</td>\n",
       "      <td>0.374500</td>\n",
       "      <td>0.832614</td>\n",
       "      <td>0.831747</td>\n",
       "      <td>NaN</td>\n",
       "      <td>-0.390185</td>\n",
       "      <td>-0.200937</td>\n",
       "      <td>0.095586</td>\n",
       "      <td>0.350182</td>\n",
       "      <td>0.095296</td>\n",
       "    </tr>\n",
       "    <tr>\n",
       "      <th>Özerk Yapı</th>\n",
       "      <td>-0.010819</td>\n",
       "      <td>-0.007337</td>\n",
       "      <td>1.000000</td>\n",
       "      <td>-0.009285</td>\n",
       "      <td>-0.003233</td>\n",
       "      <td>-0.012535</td>\n",
       "      <td>0.002204</td>\n",
       "      <td>0.003819</td>\n",
       "      <td>-0.009681</td>\n",
       "      <td>-0.019154</td>\n",
       "      <td>...</td>\n",
       "      <td>-0.014975</td>\n",
       "      <td>-0.004379</td>\n",
       "      <td>-0.008569</td>\n",
       "      <td>-0.010842</td>\n",
       "      <td>NaN</td>\n",
       "      <td>0.016646</td>\n",
       "      <td>-0.011714</td>\n",
       "      <td>-0.005941</td>\n",
       "      <td>-0.009729</td>\n",
       "      <td>0.010381</td>\n",
       "    </tr>\n",
       "    <tr>\n",
       "      <th>Kontrol Sistemi</th>\n",
       "      <td>-0.004671</td>\n",
       "      <td>-0.006933</td>\n",
       "      <td>-0.009285</td>\n",
       "      <td>1.000000</td>\n",
       "      <td>-0.003363</td>\n",
       "      <td>-0.004935</td>\n",
       "      <td>0.006094</td>\n",
       "      <td>-0.001254</td>\n",
       "      <td>-0.005644</td>\n",
       "      <td>-0.010492</td>\n",
       "      <td>...</td>\n",
       "      <td>-0.007487</td>\n",
       "      <td>-0.002195</td>\n",
       "      <td>-0.006320</td>\n",
       "      <td>-0.007037</td>\n",
       "      <td>NaN</td>\n",
       "      <td>0.006936</td>\n",
       "      <td>0.003519</td>\n",
       "      <td>-0.003526</td>\n",
       "      <td>-0.005220</td>\n",
       "      <td>-0.000576</td>\n",
       "    </tr>\n",
       "    <tr>\n",
       "      <th>Faydalı Yük</th>\n",
       "      <td>0.139245</td>\n",
       "      <td>0.249858</td>\n",
       "      <td>-0.003233</td>\n",
       "      <td>-0.003363</td>\n",
       "      <td>1.000000</td>\n",
       "      <td>0.147140</td>\n",
       "      <td>-0.001336</td>\n",
       "      <td>0.000613</td>\n",
       "      <td>0.179520</td>\n",
       "      <td>0.239133</td>\n",
       "      <td>...</td>\n",
       "      <td>0.165366</td>\n",
       "      <td>0.145480</td>\n",
       "      <td>0.255212</td>\n",
       "      <td>0.262682</td>\n",
       "      <td>NaN</td>\n",
       "      <td>-0.167192</td>\n",
       "      <td>-0.013353</td>\n",
       "      <td>0.039729</td>\n",
       "      <td>0.069176</td>\n",
       "      <td>0.043760</td>\n",
       "    </tr>\n",
       "    <tr>\n",
       "      <th>Motor</th>\n",
       "      <td>0.265021</td>\n",
       "      <td>0.471730</td>\n",
       "      <td>-0.012535</td>\n",
       "      <td>-0.004935</td>\n",
       "      <td>0.147140</td>\n",
       "      <td>1.000000</td>\n",
       "      <td>0.004890</td>\n",
       "      <td>0.005069</td>\n",
       "      <td>0.325434</td>\n",
       "      <td>0.413725</td>\n",
       "      <td>...</td>\n",
       "      <td>0.851013</td>\n",
       "      <td>0.418363</td>\n",
       "      <td>0.403593</td>\n",
       "      <td>0.421920</td>\n",
       "      <td>NaN</td>\n",
       "      <td>-0.303466</td>\n",
       "      <td>-0.034062</td>\n",
       "      <td>0.078275</td>\n",
       "      <td>0.141668</td>\n",
       "      <td>0.069120</td>\n",
       "    </tr>\n",
       "    <tr>\n",
       "      <th>Arazi Tipi</th>\n",
       "      <td>-0.005914</td>\n",
       "      <td>0.001125</td>\n",
       "      <td>0.002204</td>\n",
       "      <td>0.006094</td>\n",
       "      <td>-0.001336</td>\n",
       "      <td>0.004890</td>\n",
       "      <td>1.000000</td>\n",
       "      <td>0.006004</td>\n",
       "      <td>-0.015048</td>\n",
       "      <td>-0.002548</td>\n",
       "      <td>...</td>\n",
       "      <td>0.006086</td>\n",
       "      <td>0.007165</td>\n",
       "      <td>0.001031</td>\n",
       "      <td>-0.000578</td>\n",
       "      <td>NaN</td>\n",
       "      <td>-0.004320</td>\n",
       "      <td>-0.000576</td>\n",
       "      <td>0.005280</td>\n",
       "      <td>-0.009497</td>\n",
       "      <td>0.005547</td>\n",
       "    </tr>\n",
       "    <tr>\n",
       "      <th>Yönlendirme Sistemi</th>\n",
       "      <td>0.201652</td>\n",
       "      <td>0.062402</td>\n",
       "      <td>0.003819</td>\n",
       "      <td>-0.001254</td>\n",
       "      <td>0.000613</td>\n",
       "      <td>0.005069</td>\n",
       "      <td>0.006004</td>\n",
       "      <td>1.000000</td>\n",
       "      <td>0.273453</td>\n",
       "      <td>-0.136441</td>\n",
       "      <td>...</td>\n",
       "      <td>0.011099</td>\n",
       "      <td>0.151497</td>\n",
       "      <td>0.120573</td>\n",
       "      <td>0.019163</td>\n",
       "      <td>NaN</td>\n",
       "      <td>-0.183143</td>\n",
       "      <td>-0.455412</td>\n",
       "      <td>-0.020240</td>\n",
       "      <td>0.445404</td>\n",
       "      <td>0.037451</td>\n",
       "    </tr>\n",
       "    <tr>\n",
       "      <th>Süspansiyon Sistemi</th>\n",
       "      <td>0.830228</td>\n",
       "      <td>0.733189</td>\n",
       "      <td>-0.009681</td>\n",
       "      <td>-0.005644</td>\n",
       "      <td>0.179520</td>\n",
       "      <td>0.325434</td>\n",
       "      <td>-0.015048</td>\n",
       "      <td>0.273453</td>\n",
       "      <td>1.000000</td>\n",
       "      <td>0.720653</td>\n",
       "      <td>...</td>\n",
       "      <td>0.273606</td>\n",
       "      <td>0.074316</td>\n",
       "      <td>0.665866</td>\n",
       "      <td>0.642705</td>\n",
       "      <td>NaN</td>\n",
       "      <td>-0.235574</td>\n",
       "      <td>-0.272959</td>\n",
       "      <td>0.088171</td>\n",
       "      <td>0.561253</td>\n",
       "      <td>-0.112923</td>\n",
       "    </tr>\n",
       "    <tr>\n",
       "      <th>Gövde Malzemesi</th>\n",
       "      <td>0.662083</td>\n",
       "      <td>0.734020</td>\n",
       "      <td>-0.019154</td>\n",
       "      <td>-0.010492</td>\n",
       "      <td>0.239133</td>\n",
       "      <td>0.413725</td>\n",
       "      <td>-0.002548</td>\n",
       "      <td>-0.136441</td>\n",
       "      <td>0.720653</td>\n",
       "      <td>1.000000</td>\n",
       "      <td>...</td>\n",
       "      <td>0.415673</td>\n",
       "      <td>0.049049</td>\n",
       "      <td>0.625625</td>\n",
       "      <td>0.730452</td>\n",
       "      <td>NaN</td>\n",
       "      <td>-0.446011</td>\n",
       "      <td>-0.155546</td>\n",
       "      <td>0.119385</td>\n",
       "      <td>0.310852</td>\n",
       "      <td>0.105785</td>\n",
       "    </tr>\n",
       "    <tr>\n",
       "      <th>Enerji Sistemi</th>\n",
       "      <td>0.295739</td>\n",
       "      <td>0.525281</td>\n",
       "      <td>-0.018092</td>\n",
       "      <td>-0.009740</td>\n",
       "      <td>0.204688</td>\n",
       "      <td>0.831187</td>\n",
       "      <td>0.006295</td>\n",
       "      <td>-0.027143</td>\n",
       "      <td>0.345088</td>\n",
       "      <td>0.558030</td>\n",
       "      <td>...</td>\n",
       "      <td>0.960373</td>\n",
       "      <td>0.508303</td>\n",
       "      <td>0.500460</td>\n",
       "      <td>0.539006</td>\n",
       "      <td>NaN</td>\n",
       "      <td>-0.482144</td>\n",
       "      <td>0.037569</td>\n",
       "      <td>0.130192</td>\n",
       "      <td>0.115689</td>\n",
       "      <td>0.111724</td>\n",
       "    </tr>\n",
       "    <tr>\n",
       "      <th>Güç Aktarma Sistemi</th>\n",
       "      <td>0.269209</td>\n",
       "      <td>0.416010</td>\n",
       "      <td>-0.014975</td>\n",
       "      <td>-0.007487</td>\n",
       "      <td>0.165366</td>\n",
       "      <td>0.851013</td>\n",
       "      <td>0.006086</td>\n",
       "      <td>0.011099</td>\n",
       "      <td>0.273606</td>\n",
       "      <td>0.415673</td>\n",
       "      <td>...</td>\n",
       "      <td>1.000000</td>\n",
       "      <td>0.455224</td>\n",
       "      <td>0.427786</td>\n",
       "      <td>0.426473</td>\n",
       "      <td>NaN</td>\n",
       "      <td>-0.399437</td>\n",
       "      <td>0.037567</td>\n",
       "      <td>0.108368</td>\n",
       "      <td>0.089414</td>\n",
       "      <td>0.091647</td>\n",
       "    </tr>\n",
       "    <tr>\n",
       "      <th>Fren Sistemi</th>\n",
       "      <td>-0.117431</td>\n",
       "      <td>0.374500</td>\n",
       "      <td>-0.004379</td>\n",
       "      <td>-0.002195</td>\n",
       "      <td>0.145480</td>\n",
       "      <td>0.418363</td>\n",
       "      <td>0.007165</td>\n",
       "      <td>0.151497</td>\n",
       "      <td>0.074316</td>\n",
       "      <td>0.049049</td>\n",
       "      <td>...</td>\n",
       "      <td>0.455224</td>\n",
       "      <td>1.000000</td>\n",
       "      <td>0.401869</td>\n",
       "      <td>0.397061</td>\n",
       "      <td>NaN</td>\n",
       "      <td>-0.314432</td>\n",
       "      <td>0.134475</td>\n",
       "      <td>0.086468</td>\n",
       "      <td>-0.038896</td>\n",
       "      <td>0.067899</td>\n",
       "    </tr>\n",
       "    <tr>\n",
       "      <th>Isı Yönetim Sistemi</th>\n",
       "      <td>0.566579</td>\n",
       "      <td>0.832614</td>\n",
       "      <td>-0.008569</td>\n",
       "      <td>-0.006320</td>\n",
       "      <td>0.255212</td>\n",
       "      <td>0.403593</td>\n",
       "      <td>0.001031</td>\n",
       "      <td>0.120573</td>\n",
       "      <td>0.665866</td>\n",
       "      <td>0.625625</td>\n",
       "      <td>...</td>\n",
       "      <td>0.427786</td>\n",
       "      <td>0.401869</td>\n",
       "      <td>1.000000</td>\n",
       "      <td>0.894093</td>\n",
       "      <td>NaN</td>\n",
       "      <td>-0.348140</td>\n",
       "      <td>-0.124395</td>\n",
       "      <td>0.092136</td>\n",
       "      <td>0.246176</td>\n",
       "      <td>0.083390</td>\n",
       "    </tr>\n",
       "    <tr>\n",
       "      <th>Elektrik Sistemi</th>\n",
       "      <td>0.473147</td>\n",
       "      <td>0.831747</td>\n",
       "      <td>-0.010842</td>\n",
       "      <td>-0.007037</td>\n",
       "      <td>0.262682</td>\n",
       "      <td>0.421920</td>\n",
       "      <td>-0.000578</td>\n",
       "      <td>0.019163</td>\n",
       "      <td>0.642705</td>\n",
       "      <td>0.730452</td>\n",
       "      <td>...</td>\n",
       "      <td>0.426473</td>\n",
       "      <td>0.397061</td>\n",
       "      <td>0.894093</td>\n",
       "      <td>1.000000</td>\n",
       "      <td>NaN</td>\n",
       "      <td>-0.389519</td>\n",
       "      <td>-0.104412</td>\n",
       "      <td>0.104030</td>\n",
       "      <td>0.239048</td>\n",
       "      <td>0.091461</td>\n",
       "    </tr>\n",
       "    <tr>\n",
       "      <th>Elektronik Üniteler</th>\n",
       "      <td>NaN</td>\n",
       "      <td>NaN</td>\n",
       "      <td>NaN</td>\n",
       "      <td>NaN</td>\n",
       "      <td>NaN</td>\n",
       "      <td>NaN</td>\n",
       "      <td>NaN</td>\n",
       "      <td>NaN</td>\n",
       "      <td>NaN</td>\n",
       "      <td>NaN</td>\n",
       "      <td>...</td>\n",
       "      <td>NaN</td>\n",
       "      <td>NaN</td>\n",
       "      <td>NaN</td>\n",
       "      <td>NaN</td>\n",
       "      <td>NaN</td>\n",
       "      <td>NaN</td>\n",
       "      <td>NaN</td>\n",
       "      <td>NaN</td>\n",
       "      <td>NaN</td>\n",
       "      <td>NaN</td>\n",
       "    </tr>\n",
       "    <tr>\n",
       "      <th>2 Tekerlekli</th>\n",
       "      <td>-0.221177</td>\n",
       "      <td>-0.390185</td>\n",
       "      <td>0.016646</td>\n",
       "      <td>0.006936</td>\n",
       "      <td>-0.167192</td>\n",
       "      <td>-0.303466</td>\n",
       "      <td>-0.004320</td>\n",
       "      <td>-0.183143</td>\n",
       "      <td>-0.235574</td>\n",
       "      <td>-0.446011</td>\n",
       "      <td>...</td>\n",
       "      <td>-0.399437</td>\n",
       "      <td>-0.314432</td>\n",
       "      <td>-0.348140</td>\n",
       "      <td>-0.389519</td>\n",
       "      <td>NaN</td>\n",
       "      <td>1.000000</td>\n",
       "      <td>-0.081031</td>\n",
       "      <td>-0.120699</td>\n",
       "      <td>-0.072382</td>\n",
       "      <td>-0.119942</td>\n",
       "    </tr>\n",
       "    <tr>\n",
       "      <th>4 Tekerlekli</th>\n",
       "      <td>-0.274421</td>\n",
       "      <td>-0.200937</td>\n",
       "      <td>-0.011714</td>\n",
       "      <td>0.003519</td>\n",
       "      <td>-0.013353</td>\n",
       "      <td>-0.034062</td>\n",
       "      <td>-0.000576</td>\n",
       "      <td>-0.455412</td>\n",
       "      <td>-0.272959</td>\n",
       "      <td>-0.155546</td>\n",
       "      <td>...</td>\n",
       "      <td>0.037567</td>\n",
       "      <td>0.134475</td>\n",
       "      <td>-0.124395</td>\n",
       "      <td>-0.104412</td>\n",
       "      <td>NaN</td>\n",
       "      <td>-0.081031</td>\n",
       "      <td>1.000000</td>\n",
       "      <td>-0.307609</td>\n",
       "      <td>-0.184470</td>\n",
       "      <td>-0.305678</td>\n",
       "    </tr>\n",
       "    <tr>\n",
       "      <th>6 Tekerlekli</th>\n",
       "      <td>0.059463</td>\n",
       "      <td>0.095586</td>\n",
       "      <td>-0.005941</td>\n",
       "      <td>-0.003526</td>\n",
       "      <td>0.039729</td>\n",
       "      <td>0.078275</td>\n",
       "      <td>0.005280</td>\n",
       "      <td>-0.020240</td>\n",
       "      <td>0.088171</td>\n",
       "      <td>0.119385</td>\n",
       "      <td>...</td>\n",
       "      <td>0.108368</td>\n",
       "      <td>0.086468</td>\n",
       "      <td>0.092136</td>\n",
       "      <td>0.104030</td>\n",
       "      <td>NaN</td>\n",
       "      <td>-0.120699</td>\n",
       "      <td>-0.307609</td>\n",
       "      <td>1.000000</td>\n",
       "      <td>-0.274777</td>\n",
       "      <td>-0.455320</td>\n",
       "    </tr>\n",
       "    <tr>\n",
       "      <th>8 Tekerlekli</th>\n",
       "      <td>0.364839</td>\n",
       "      <td>0.350182</td>\n",
       "      <td>-0.009729</td>\n",
       "      <td>-0.005220</td>\n",
       "      <td>0.069176</td>\n",
       "      <td>0.141668</td>\n",
       "      <td>-0.009497</td>\n",
       "      <td>0.445404</td>\n",
       "      <td>0.561253</td>\n",
       "      <td>0.310852</td>\n",
       "      <td>...</td>\n",
       "      <td>0.089414</td>\n",
       "      <td>-0.038896</td>\n",
       "      <td>0.246176</td>\n",
       "      <td>0.239048</td>\n",
       "      <td>NaN</td>\n",
       "      <td>-0.072382</td>\n",
       "      <td>-0.184470</td>\n",
       "      <td>-0.274777</td>\n",
       "      <td>1.000000</td>\n",
       "      <td>-0.273052</td>\n",
       "    </tr>\n",
       "    <tr>\n",
       "      <th>Paletli</th>\n",
       "      <td>0.054104</td>\n",
       "      <td>0.095296</td>\n",
       "      <td>0.010381</td>\n",
       "      <td>-0.000576</td>\n",
       "      <td>0.043760</td>\n",
       "      <td>0.069120</td>\n",
       "      <td>0.005547</td>\n",
       "      <td>0.037451</td>\n",
       "      <td>-0.112923</td>\n",
       "      <td>0.105785</td>\n",
       "      <td>...</td>\n",
       "      <td>0.091647</td>\n",
       "      <td>0.067899</td>\n",
       "      <td>0.083390</td>\n",
       "      <td>0.091461</td>\n",
       "      <td>NaN</td>\n",
       "      <td>-0.119942</td>\n",
       "      <td>-0.305678</td>\n",
       "      <td>-0.455320</td>\n",
       "      <td>-0.273052</td>\n",
       "      <td>1.000000</td>\n",
       "    </tr>\n",
       "  </tbody>\n",
       "</table>\n",
       "<p>21 rows × 21 columns</p>\n",
       "</div>"
      ],
      "text/plain": [
       "                      Maliyet  Ağırlık Sınıfı  Özerk Yapı  Kontrol Sistemi  \\\n",
       "Maliyet              1.000000        0.566347   -0.010819        -0.004671   \n",
       "Ağırlık Sınıfı       0.566347        1.000000   -0.007337        -0.006933   \n",
       "Özerk Yapı          -0.010819       -0.007337    1.000000        -0.009285   \n",
       "Kontrol Sistemi     -0.004671       -0.006933   -0.009285         1.000000   \n",
       "Faydalı Yük          0.139245        0.249858   -0.003233        -0.003363   \n",
       "Motor                0.265021        0.471730   -0.012535        -0.004935   \n",
       "Arazi Tipi          -0.005914        0.001125    0.002204         0.006094   \n",
       "Yönlendirme Sistemi  0.201652        0.062402    0.003819        -0.001254   \n",
       "Süspansiyon Sistemi  0.830228        0.733189   -0.009681        -0.005644   \n",
       "Gövde Malzemesi      0.662083        0.734020   -0.019154        -0.010492   \n",
       "Enerji Sistemi       0.295739        0.525281   -0.018092        -0.009740   \n",
       "Güç Aktarma Sistemi  0.269209        0.416010   -0.014975        -0.007487   \n",
       "Fren Sistemi        -0.117431        0.374500   -0.004379        -0.002195   \n",
       "Isı Yönetim Sistemi  0.566579        0.832614   -0.008569        -0.006320   \n",
       "Elektrik Sistemi     0.473147        0.831747   -0.010842        -0.007037   \n",
       "Elektronik Üniteler       NaN             NaN         NaN              NaN   \n",
       "2 Tekerlekli        -0.221177       -0.390185    0.016646         0.006936   \n",
       "4 Tekerlekli        -0.274421       -0.200937   -0.011714         0.003519   \n",
       "6 Tekerlekli         0.059463        0.095586   -0.005941        -0.003526   \n",
       "8 Tekerlekli         0.364839        0.350182   -0.009729        -0.005220   \n",
       "Paletli              0.054104        0.095296    0.010381        -0.000576   \n",
       "\n",
       "                     Faydalı Yük     Motor  Arazi Tipi  Yönlendirme Sistemi  \\\n",
       "Maliyet                 0.139245  0.265021   -0.005914             0.201652   \n",
       "Ağırlık Sınıfı          0.249858  0.471730    0.001125             0.062402   \n",
       "Özerk Yapı             -0.003233 -0.012535    0.002204             0.003819   \n",
       "Kontrol Sistemi        -0.003363 -0.004935    0.006094            -0.001254   \n",
       "Faydalı Yük             1.000000  0.147140   -0.001336             0.000613   \n",
       "Motor                   0.147140  1.000000    0.004890             0.005069   \n",
       "Arazi Tipi             -0.001336  0.004890    1.000000             0.006004   \n",
       "Yönlendirme Sistemi     0.000613  0.005069    0.006004             1.000000   \n",
       "Süspansiyon Sistemi     0.179520  0.325434   -0.015048             0.273453   \n",
       "Gövde Malzemesi         0.239133  0.413725   -0.002548            -0.136441   \n",
       "Enerji Sistemi          0.204688  0.831187    0.006295            -0.027143   \n",
       "Güç Aktarma Sistemi     0.165366  0.851013    0.006086             0.011099   \n",
       "Fren Sistemi            0.145480  0.418363    0.007165             0.151497   \n",
       "Isı Yönetim Sistemi     0.255212  0.403593    0.001031             0.120573   \n",
       "Elektrik Sistemi        0.262682  0.421920   -0.000578             0.019163   \n",
       "Elektronik Üniteler          NaN       NaN         NaN                  NaN   \n",
       "2 Tekerlekli           -0.167192 -0.303466   -0.004320            -0.183143   \n",
       "4 Tekerlekli           -0.013353 -0.034062   -0.000576            -0.455412   \n",
       "6 Tekerlekli            0.039729  0.078275    0.005280            -0.020240   \n",
       "8 Tekerlekli            0.069176  0.141668   -0.009497             0.445404   \n",
       "Paletli                 0.043760  0.069120    0.005547             0.037451   \n",
       "\n",
       "                     Süspansiyon Sistemi  Gövde Malzemesi  ...  \\\n",
       "Maliyet                         0.830228         0.662083  ...   \n",
       "Ağırlık Sınıfı                  0.733189         0.734020  ...   \n",
       "Özerk Yapı                     -0.009681        -0.019154  ...   \n",
       "Kontrol Sistemi                -0.005644        -0.010492  ...   \n",
       "Faydalı Yük                     0.179520         0.239133  ...   \n",
       "Motor                           0.325434         0.413725  ...   \n",
       "Arazi Tipi                     -0.015048        -0.002548  ...   \n",
       "Yönlendirme Sistemi             0.273453        -0.136441  ...   \n",
       "Süspansiyon Sistemi             1.000000         0.720653  ...   \n",
       "Gövde Malzemesi                 0.720653         1.000000  ...   \n",
       "Enerji Sistemi                  0.345088         0.558030  ...   \n",
       "Güç Aktarma Sistemi             0.273606         0.415673  ...   \n",
       "Fren Sistemi                    0.074316         0.049049  ...   \n",
       "Isı Yönetim Sistemi             0.665866         0.625625  ...   \n",
       "Elektrik Sistemi                0.642705         0.730452  ...   \n",
       "Elektronik Üniteler                  NaN              NaN  ...   \n",
       "2 Tekerlekli                   -0.235574        -0.446011  ...   \n",
       "4 Tekerlekli                   -0.272959        -0.155546  ...   \n",
       "6 Tekerlekli                    0.088171         0.119385  ...   \n",
       "8 Tekerlekli                    0.561253         0.310852  ...   \n",
       "Paletli                        -0.112923         0.105785  ...   \n",
       "\n",
       "                     Güç Aktarma Sistemi  Fren Sistemi  Isı Yönetim Sistemi  \\\n",
       "Maliyet                         0.269209     -0.117431             0.566579   \n",
       "Ağırlık Sınıfı                  0.416010      0.374500             0.832614   \n",
       "Özerk Yapı                     -0.014975     -0.004379            -0.008569   \n",
       "Kontrol Sistemi                -0.007487     -0.002195            -0.006320   \n",
       "Faydalı Yük                     0.165366      0.145480             0.255212   \n",
       "Motor                           0.851013      0.418363             0.403593   \n",
       "Arazi Tipi                      0.006086      0.007165             0.001031   \n",
       "Yönlendirme Sistemi             0.011099      0.151497             0.120573   \n",
       "Süspansiyon Sistemi             0.273606      0.074316             0.665866   \n",
       "Gövde Malzemesi                 0.415673      0.049049             0.625625   \n",
       "Enerji Sistemi                  0.960373      0.508303             0.500460   \n",
       "Güç Aktarma Sistemi             1.000000      0.455224             0.427786   \n",
       "Fren Sistemi                    0.455224      1.000000             0.401869   \n",
       "Isı Yönetim Sistemi             0.427786      0.401869             1.000000   \n",
       "Elektrik Sistemi                0.426473      0.397061             0.894093   \n",
       "Elektronik Üniteler                  NaN           NaN                  NaN   \n",
       "2 Tekerlekli                   -0.399437     -0.314432            -0.348140   \n",
       "4 Tekerlekli                    0.037567      0.134475            -0.124395   \n",
       "6 Tekerlekli                    0.108368      0.086468             0.092136   \n",
       "8 Tekerlekli                    0.089414     -0.038896             0.246176   \n",
       "Paletli                         0.091647      0.067899             0.083390   \n",
       "\n",
       "                     Elektrik Sistemi  Elektronik Üniteler  2 Tekerlekli  \\\n",
       "Maliyet                      0.473147                  NaN     -0.221177   \n",
       "Ağırlık Sınıfı               0.831747                  NaN     -0.390185   \n",
       "Özerk Yapı                  -0.010842                  NaN      0.016646   \n",
       "Kontrol Sistemi             -0.007037                  NaN      0.006936   \n",
       "Faydalı Yük                  0.262682                  NaN     -0.167192   \n",
       "Motor                        0.421920                  NaN     -0.303466   \n",
       "Arazi Tipi                  -0.000578                  NaN     -0.004320   \n",
       "Yönlendirme Sistemi          0.019163                  NaN     -0.183143   \n",
       "Süspansiyon Sistemi          0.642705                  NaN     -0.235574   \n",
       "Gövde Malzemesi              0.730452                  NaN     -0.446011   \n",
       "Enerji Sistemi               0.539006                  NaN     -0.482144   \n",
       "Güç Aktarma Sistemi          0.426473                  NaN     -0.399437   \n",
       "Fren Sistemi                 0.397061                  NaN     -0.314432   \n",
       "Isı Yönetim Sistemi          0.894093                  NaN     -0.348140   \n",
       "Elektrik Sistemi             1.000000                  NaN     -0.389519   \n",
       "Elektronik Üniteler               NaN                  NaN           NaN   \n",
       "2 Tekerlekli                -0.389519                  NaN      1.000000   \n",
       "4 Tekerlekli                -0.104412                  NaN     -0.081031   \n",
       "6 Tekerlekli                 0.104030                  NaN     -0.120699   \n",
       "8 Tekerlekli                 0.239048                  NaN     -0.072382   \n",
       "Paletli                      0.091461                  NaN     -0.119942   \n",
       "\n",
       "                     4 Tekerlekli   6 Tekerlekli   8 Tekerlekli   Paletli   \n",
       "Maliyet                  -0.274421       0.059463       0.364839  0.054104  \n",
       "Ağırlık Sınıfı           -0.200937       0.095586       0.350182  0.095296  \n",
       "Özerk Yapı               -0.011714      -0.005941      -0.009729  0.010381  \n",
       "Kontrol Sistemi           0.003519      -0.003526      -0.005220 -0.000576  \n",
       "Faydalı Yük              -0.013353       0.039729       0.069176  0.043760  \n",
       "Motor                    -0.034062       0.078275       0.141668  0.069120  \n",
       "Arazi Tipi               -0.000576       0.005280      -0.009497  0.005547  \n",
       "Yönlendirme Sistemi      -0.455412      -0.020240       0.445404  0.037451  \n",
       "Süspansiyon Sistemi      -0.272959       0.088171       0.561253 -0.112923  \n",
       "Gövde Malzemesi          -0.155546       0.119385       0.310852  0.105785  \n",
       "Enerji Sistemi            0.037569       0.130192       0.115689  0.111724  \n",
       "Güç Aktarma Sistemi       0.037567       0.108368       0.089414  0.091647  \n",
       "Fren Sistemi              0.134475       0.086468      -0.038896  0.067899  \n",
       "Isı Yönetim Sistemi      -0.124395       0.092136       0.246176  0.083390  \n",
       "Elektrik Sistemi         -0.104412       0.104030       0.239048  0.091461  \n",
       "Elektronik Üniteler            NaN            NaN            NaN       NaN  \n",
       "2 Tekerlekli             -0.081031      -0.120699      -0.072382 -0.119942  \n",
       "4 Tekerlekli              1.000000      -0.307609      -0.184470 -0.305678  \n",
       "6 Tekerlekli             -0.307609       1.000000      -0.274777 -0.455320  \n",
       "8 Tekerlekli             -0.184470      -0.274777       1.000000 -0.273052  \n",
       "Paletli                  -0.305678      -0.455320      -0.273052  1.000000  \n",
       "\n",
       "[21 rows x 21 columns]"
      ]
     },
     "execution_count": 5,
     "metadata": {},
     "output_type": "execute_result"
    }
   ],
   "source": [
    "# Veri Setindeki corelasyon\n",
    "data.corr()"
   ]
  },
  {
   "cell_type": "code",
   "execution_count": 6,
   "id": "7acf8e4d",
   "metadata": {},
   "outputs": [
    {
     "data": {
      "text/plain": [
       "<Axes: >"
      ]
     },
     "execution_count": 6,
     "metadata": {},
     "output_type": "execute_result"
    },
    {
     "data": {
      "image/png": "[encoded data removed]",
      "text/plain": [
       "<Figure size 640x480 with 2 Axes>"
      ]
     },
     "metadata": {},
     "output_type": "display_data"
    }
   ],
   "source": [
    "sns.heatmap(data.corr())"
   ]
  },
  {
   "cell_type": "code",
   "execution_count": 7,
   "id": "2bd6a166",
   "metadata": {},
   "outputs": [],
   "source": [
    "X = data.iloc[:,:15]"
   ]
  },
  {
   "cell_type": "code",
   "execution_count": 8,
   "id": "c42b8dce",
   "metadata": {},
   "outputs": [],
   "source": [
    "y = data.iloc[:,16:]"
   ]
  },
  {
   "cell_type": "code",
   "execution_count": 9,
   "id": "e1eaa5e5",
   "metadata": {},
   "outputs": [],
   "source": [
    "from sklearn.preprocessing import OneHotEncoder\n",
    "import pickle"
   ]
  },
  {
   "cell_type": "code",
   "execution_count": 10,
   "id": "401d135c",
   "metadata": {},
   "outputs": [
    {
     "data": {
      "text/plain": [
       "(10709, 15)"
      ]
     },
     "execution_count": 10,
     "metadata": {},
     "output_type": "execute_result"
    }
   ],
   "source": [
    "X.shape"
   ]
  },
  {
   "cell_type": "code",
   "execution_count": 11,
   "id": "fa7b2383",
   "metadata": {},
   "outputs": [],
   "source": [
    "oneHotEncoder = OneHotEncoder()"
   ]
  },
  {
   "cell_type": "code",
   "execution_count": 12,
   "id": "d8ef049d",
   "metadata": {},
   "outputs": [
    {
     "data": {
      "text/html": [
       "<style>#sk-container-id-1 {color: black;}#sk-container-id-1 pre{padding: 0;}#sk-container-id-1 div.sk-toggleable {background-color: white;}#sk-container-id-1 label.sk-toggleable__label {cursor: pointer;display: block;width: 100%;margin-bottom: 0;padding: 0.3em;box-sizing: border-box;text-align: center;}#sk-container-id-1 label.sk-toggleable__label-arrow:before {content: \"▸\";float: left;margin-right: 0.25em;color: #696969;}#sk-container-id-1 label.sk-toggleable__label-arrow:hover:before {color: black;}#sk-container-id-1 div.sk-estimator:hover label.sk-toggleable__label-arrow:before {color: black;}#sk-container-id-1 div.sk-toggleable__content {max-height: 0;max-width: 0;overflow: hidden;text-align: left;background-color: #f0f8ff;}#sk-container-id-1 div.sk-toggleable__content pre {margin: 0.2em;color: black;border-radius: 0.25em;background-color: #f0f8ff;}#sk-container-id-1 input.sk-toggleable__control:checked~div.sk-toggleable__content {max-height: 200px;max-width: 100%;overflow: auto;}#sk-container-id-1 input.sk-toggleable__control:checked~label.sk-toggleable__label-arrow:before {content: \"▾\";}#sk-container-id-1 div.sk-estimator input.sk-toggleable__control:checked~label.sk-toggleable__label {background-color: #d4ebff;}#sk-container-id-1 div.sk-label input.sk-toggleable__control:checked~label.sk-toggleable__label {background-color: #d4ebff;}#sk-container-id-1 input.sk-hidden--visually {border: 0;clip: rect(1px 1px 1px 1px);clip: rect(1px, 1px, 1px, 1px);height: 1px;margin: -1px;overflow: hidden;padding: 0;position: absolute;width: 1px;}#sk-container-id-1 div.sk-estimator {font-family: monospace;background-color: #f0f8ff;border: 1px dotted black;border-radius: 0.25em;box-sizing: border-box;margin-bottom: 0.5em;}#sk-container-id-1 div.sk-estimator:hover {background-color: #d4ebff;}#sk-container-id-1 div.sk-parallel-item::after {content: \"\";width: 100%;border-bottom: 1px solid gray;flex-grow: 1;}#sk-container-id-1 div.sk-label:hover label.sk-toggleable__label {background-color: #d4ebff;}#sk-container-id-1 div.sk-serial::before {content: \"\";position: absolute;border-left: 1px solid gray;box-sizing: border-box;top: 0;bottom: 0;left: 50%;z-index: 0;}#sk-container-id-1 div.sk-serial {display: flex;flex-direction: column;align-items: center;background-color: white;padding-right: 0.2em;padding-left: 0.2em;position: relative;}#sk-container-id-1 div.sk-item {position: relative;z-index: 1;}#sk-container-id-1 div.sk-parallel {display: flex;align-items: stretch;justify-content: center;background-color: white;position: relative;}#sk-container-id-1 div.sk-item::before, #sk-container-id-1 div.sk-parallel-item::before {content: \"\";position: absolute;border-left: 1px solid gray;box-sizing: border-box;top: 0;bottom: 0;left: 50%;z-index: -1;}#sk-container-id-1 div.sk-parallel-item {display: flex;flex-direction: column;z-index: 1;position: relative;background-color: white;}#sk-container-id-1 div.sk-parallel-item:first-child::after {align-self: flex-end;width: 50%;}#sk-container-id-1 div.sk-parallel-item:last-child::after {align-self: flex-start;width: 50%;}#sk-container-id-1 div.sk-parallel-item:only-child::after {width: 0;}#sk-container-id-1 div.sk-dashed-wrapped {border: 1px dashed gray;margin: 0 0.4em 0.5em 0.4em;box-sizing: border-box;padding-bottom: 0.4em;background-color: white;}#sk-container-id-1 div.sk-label label {font-family: monospace;font-weight: bold;display: inline-block;line-height: 1.2em;}#sk-container-id-1 div.sk-label-container {text-align: center;}#sk-container-id-1 div.sk-container {/* jupyter's `normalize.less` sets `[hidden] { display: none; }` but bootstrap.min.css set `[hidden] { display: none !important; }` so we also need the `!important` here to be able to override the default hidden behavior on the sphinx rendered scikit-learn.org. See: https://github.com/scikit-learn/scikit-learn/issues/21755 */display: inline-block !important;position: relative;}#sk-container-id-1 div.sk-text-repr-fallback {display: none;}</style><div id=\"sk-container-id-1\" class=\"sk-top-container\"><div class=\"sk-text-repr-fallback\"><pre>OneHotEncoder()</pre><b>In a Jupyter environment, please rerun this cell to show the HTML representation or trust the notebook. <br />On GitHub, the HTML representation is unable to render, please try loading this page with nbviewer.org.</b></div><div class=\"sk-container\" hidden><div class=\"sk-item\"><div class=\"sk-estimator sk-toggleable\"><input class=\"sk-toggleable__control sk-hidden--visually\" id=\"sk-estimator-id-1\" type=\"checkbox\" checked><label for=\"sk-estimator-id-1\" class=\"sk-toggleable__label sk-toggleable__label-arrow\">OneHotEncoder</label><div class=\"sk-toggleable__content\"><pre>OneHotEncoder()</pre></div></div></div></div></div>"
      ],
      "text/plain": [
       "OneHotEncoder()"
      ]
     },
     "execution_count": 12,
     "metadata": {},
     "output_type": "execute_result"
    }
   ],
   "source": [
    "oneHotEncoder.fit(X)"
   ]
  },
  {
   "cell_type": "code",
   "execution_count": 13,
   "id": "3766cc57",
   "metadata": {},
   "outputs": [
    {
     "data": {
      "text/plain": [
       "(10709, 15)"
      ]
     },
     "execution_count": 13,
     "metadata": {},
     "output_type": "execute_result"
    }
   ],
   "source": [
    "X.shape"
   ]
  },
  {
   "cell_type": "code",
   "execution_count": 14,
   "id": "b58a6e12",
   "metadata": {},
   "outputs": [],
   "source": [
    "X = oneHotEncoder.transform(X).toarray()\n"
   ]
  },
  {
   "cell_type": "code",
   "execution_count": 15,
   "id": "02640b2a",
   "metadata": {},
   "outputs": [
    {
     "data": {
      "text/plain": [
       "(66,)"
      ]
     },
     "execution_count": 15,
     "metadata": {},
     "output_type": "execute_result"
    }
   ],
   "source": [
    "X[1].shape"
   ]
  },
  {
   "cell_type": "code",
   "execution_count": null,
   "id": "41d8fa00",
   "metadata": {},
   "outputs": [],
   "source": [
    "# with open('encoder2','wb') as f:\n",
    "#    pickle.dump(oneHotEncoder,f)"
   ]
  },
  {
   "cell_type": "code",
   "execution_count": null,
   "id": "0265dd06",
   "metadata": {},
   "outputs": [],
   "source": []
  },
  {
   "cell_type": "code",
   "execution_count": null,
   "id": "7e137182",
   "metadata": {},
   "outputs": [],
   "source": []
  },
  {
   "cell_type": "code",
   "execution_count": null,
   "id": "0d82c50a",
   "metadata": {},
   "outputs": [],
   "source": [
    "#X = pd.get_dummies(X,columns=['Maliyet', 'Ağırlık Sınıfı', 'Özerk Yapı', 'Kontrol Sistemi',\n",
    "#       'Faydalı Yük', 'Motor', 'Arazi Tipi', 'Yönlendirme Sistemi',\n",
    "#       'Süspansiyon Sistemi', 'Gövde Malzemesi', 'Enerji Sistemi',\n",
    "#       'Güç Aktarma Sistemi', 'Fren Sistemi', 'Isı Yönetim Sistemi',\n",
    "#       'Elektrik Sistemi'],drop_first=True)"
   ]
  },
  {
   "cell_type": "code",
   "execution_count": 16,
   "id": "f1d0bdee",
   "metadata": {},
   "outputs": [],
   "source": [
    "x_train, x_test, y_train, y_test = train_test_split(X,y,test_size=0.2,shuffle=True)"
   ]
  },
  {
   "cell_type": "code",
   "execution_count": 17,
   "id": "4cb2e8e2",
   "metadata": {},
   "outputs": [],
   "source": [
    "x_train, x_valid, y_train, y_valid = train_test_split(x_train,y_train,test_size=0.25,shuffle=True)"
   ]
  },
  {
   "cell_type": "code",
   "execution_count": 18,
   "id": "a97bd315",
   "metadata": {},
   "outputs": [
    {
     "data": {
      "text/plain": [
       "(10709, 66)"
      ]
     },
     "execution_count": 18,
     "metadata": {},
     "output_type": "execute_result"
    }
   ],
   "source": [
    "X.shape"
   ]
  },
  {
   "cell_type": "code",
   "execution_count": 21,
   "id": "54af3dc4",
   "metadata": {},
   "outputs": [
    {
     "data": {
      "text/plain": [
       "array([[1., 0., 0., 0., 1., 0., 0., 0., 1., 0., 1., 0., 0., 1., 0., 0.,\n",
       "        0., 0., 0., 0., 0., 0., 0., 0., 0., 1., 0., 0., 1., 0., 0., 0.,\n",
       "        0., 0., 0., 1., 0., 0., 1., 0., 0., 0., 0., 0., 0., 0., 1., 0.,\n",
       "        0., 0., 0., 1., 0., 0., 1., 0., 0., 1., 0., 1., 0., 0., 0., 1.,\n",
       "        0., 0.]])"
      ]
     },
     "execution_count": 21,
     "metadata": {},
     "output_type": "execute_result"
    }
   ],
   "source": [
    "x_test[:1]"
   ]
  },
  {
   "cell_type": "code",
   "execution_count": 22,
   "id": "c7176886",
   "metadata": {},
   "outputs": [],
   "source": [
    "from tensorflow.keras import optimizers\n",
    "adam = optimizers.Adam(learning_rate=0.01)\n",
    "adagrad = optimizers.Adagrad(learning_rate=0.01)\n",
    "nadam = optimizers.Nadam(learning_rate=0.001)\n",
    "\n",
    "sgd = optimizers.SGD(learning_rate=0.01)"
   ]
  },
  {
   "cell_type": "markdown",
   "id": "f2f49cc0",
   "metadata": {},
   "source": [
    "### KNN Classification"
   ]
  },
  {
   "cell_type": "code",
   "execution_count": null,
   "id": "b52a4960",
   "metadata": {},
   "outputs": [],
   "source": [
    "knn = KNeighborsClassifier(n_neighbors=41)"
   ]
  },
  {
   "cell_type": "code",
   "execution_count": null,
   "id": "57641ed8",
   "metadata": {},
   "outputs": [],
   "source": [
    "knn.fit(x_train,y_train)"
   ]
  },
  {
   "cell_type": "code",
   "execution_count": null,
   "id": "e084d8c4",
   "metadata": {},
   "outputs": [],
   "source": [
    "predict = knn.predict(x_test)"
   ]
  },
  {
   "cell_type": "code",
   "execution_count": null,
   "id": "cd910ce5",
   "metadata": {},
   "outputs": [],
   "source": [
    "f1_score = classification_report(predict,y_test)"
   ]
  },
  {
   "cell_type": "code",
   "execution_count": null,
   "id": "7c6e73f1",
   "metadata": {},
   "outputs": [],
   "source": [
    "acc = accuracy_score(predict,y_test)\n",
    "acc"
   ]
  },
  {
   "cell_type": "markdown",
   "id": "f487be67",
   "metadata": {},
   "source": [
    "### Decision Tree"
   ]
  },
  {
   "cell_type": "code",
   "execution_count": null,
   "id": "c48f93b1",
   "metadata": {},
   "outputs": [],
   "source": [
    "dt = DecisionTreeClassifier(criterion='gini',\n",
    "    splitter='best')"
   ]
  },
  {
   "cell_type": "code",
   "execution_count": null,
   "id": "a0d0e52a",
   "metadata": {},
   "outputs": [],
   "source": [
    "dt.fit(x_train,y_train)"
   ]
  },
  {
   "cell_type": "code",
   "execution_count": null,
   "id": "3f235682",
   "metadata": {},
   "outputs": [],
   "source": [
    "predict = dt.predict(x_test)"
   ]
  },
  {
   "cell_type": "code",
   "execution_count": null,
   "id": "d234807a",
   "metadata": {},
   "outputs": [],
   "source": [
    "acc = accuracy_score(predict,y_test)"
   ]
  },
  {
   "cell_type": "code",
   "execution_count": null,
   "id": "721fcdbd",
   "metadata": {},
   "outputs": [],
   "source": [
    "acc"
   ]
  },
  {
   "cell_type": "markdown",
   "id": "685f9883",
   "metadata": {},
   "source": [
    "### Random Forest"
   ]
  },
  {
   "cell_type": "code",
   "execution_count": null,
   "id": "f975b67a",
   "metadata": {},
   "outputs": [],
   "source": [
    "rf = RandomForestClassifier(n_estimators=150)"
   ]
  },
  {
   "cell_type": "code",
   "execution_count": null,
   "id": "6b4544d2",
   "metadata": {},
   "outputs": [],
   "source": [
    "rf.fit(x_train,y_train)"
   ]
  },
  {
   "cell_type": "code",
   "execution_count": null,
   "id": "2bc09a2b",
   "metadata": {},
   "outputs": [],
   "source": [
    "predict = rf.predict(x_test)"
   ]
  },
  {
   "cell_type": "code",
   "execution_count": null,
   "id": "c071c4d1",
   "metadata": {},
   "outputs": [],
   "source": [
    "acc = accuracy_score(predict,y_test)"
   ]
  },
  {
   "cell_type": "code",
   "execution_count": null,
   "id": "17b87d42",
   "metadata": {},
   "outputs": [],
   "source": [
    "acc"
   ]
  },
  {
   "cell_type": "markdown",
   "id": "e7d02fd6",
   "metadata": {},
   "source": [
    "### Naive Biase"
   ]
  },
  {
   "cell_type": "code",
   "execution_count": null,
   "id": "ad059018",
   "metadata": {},
   "outputs": [],
   "source": [
    "nb = MultiOutputClassifier(MultinomialNB())"
   ]
  },
  {
   "cell_type": "code",
   "execution_count": null,
   "id": "4a8dc659",
   "metadata": {},
   "outputs": [],
   "source": [
    "nb.fit(x_train,y_train)"
   ]
  },
  {
   "cell_type": "code",
   "execution_count": null,
   "id": "46b2d7f0",
   "metadata": {},
   "outputs": [],
   "source": [
    "predict = nb.predict(x_test)"
   ]
  },
  {
   "cell_type": "code",
   "execution_count": null,
   "id": "09d78b8a",
   "metadata": {},
   "outputs": [],
   "source": [
    "acc = accuracy_score(predict,y_test)"
   ]
  },
  {
   "cell_type": "code",
   "execution_count": null,
   "id": "609abe72",
   "metadata": {},
   "outputs": [],
   "source": [
    "acc"
   ]
  },
  {
   "cell_type": "code",
   "execution_count": null,
   "id": "b9be849e",
   "metadata": {},
   "outputs": [],
   "source": [
    "x_train.shape\n",
    "x_train.shape"
   ]
  },
  {
   "cell_type": "markdown",
   "id": "a045c77e",
   "metadata": {},
   "source": [
    "### Support Vector Machine"
   ]
  },
  {
   "cell_type": "code",
   "execution_count": null,
   "id": "7cf0b8f6",
   "metadata": {},
   "outputs": [],
   "source": [
    "svm = SVC()"
   ]
  },
  {
   "cell_type": "code",
   "execution_count": null,
   "id": "50da3162",
   "metadata": {},
   "outputs": [],
   "source": [
    "y_train_new = y_train.to_numpy()\n",
    "y_new = y_train_new.reshape(-1,1)\n",
    "x_train = x_train.to_numpy()"
   ]
  },
  {
   "cell_type": "code",
   "execution_count": null,
   "id": "b9faac31",
   "metadata": {},
   "outputs": [],
   "source": [
    "print(x_train.shape)\n",
    "print(y_new.shape)"
   ]
  },
  {
   "cell_type": "code",
   "execution_count": null,
   "id": "f457bd38",
   "metadata": {},
   "outputs": [],
   "source": [
    "svm.fit(x_train,y_train_new.argmax(axis=1))"
   ]
  },
  {
   "cell_type": "code",
   "execution_count": null,
   "id": "a0784762",
   "metadata": {},
   "outputs": [],
   "source": [
    "predictions = svm.predict(x_test.to_numpy())"
   ]
  },
  {
   "cell_type": "code",
   "execution_count": null,
   "id": "b43c8b78",
   "metadata": {},
   "outputs": [],
   "source": [
    "acc = accuracy_score(predictions,y_test.to_numpy().argmax(axis=1))"
   ]
  },
  {
   "cell_type": "code",
   "execution_count": null,
   "id": "2b5cae42",
   "metadata": {},
   "outputs": [],
   "source": [
    "acc"
   ]
  },
  {
   "cell_type": "code",
   "execution_count": null,
   "id": "7fa8e0ed",
   "metadata": {},
   "outputs": [],
   "source": []
  },
  {
   "cell_type": "code",
   "execution_count": null,
   "id": "bfdea436",
   "metadata": {},
   "outputs": [],
   "source": [
    "from tensorflow.keras.callbacks import EarlyStopping"
   ]
  },
  {
   "cell_type": "code",
   "execution_count": null,
   "id": "0112ef69",
   "metadata": {},
   "outputs": [],
   "source": [
    "early_stop = EarlyStopping(monitor='val_loss',patience=5,verbose=1,restore_best_weights=True)"
   ]
  },
  {
   "cell_type": "markdown",
   "id": "7a0c51cd",
   "metadata": {},
   "source": [
    "### ANN"
   ]
  },
  {
   "cell_type": "code",
   "execution_count": 23,
   "id": "78070e29",
   "metadata": {},
   "outputs": [
    {
     "name": "stdout",
     "output_type": "stream",
     "text": [
      "WARNING:tensorflow:From C:\\Users\\D4rkS\\anaconda3\\lib\\site-packages\\keras\\src\\backend.py:873: The name tf.get_default_graph is deprecated. Please use tf.compat.v1.get_default_graph instead.\n",
      "\n"
     ]
    }
   ],
   "source": [
    "model = Sequential()\n",
    "\n",
    "# 'relu' 'sigmoid'\n",
    "\n",
    "model.add(Dense(64,activation=\"tanh\",input_shape=(None,66)))\n",
    "model.add(Dropout(0.5))\n",
    "model.add(Dense(128,activation=\"tanh\"))\n",
    "model.add(Dropout(0.5))\n",
    "model.add(Dense(64,activation=\"tanh\"))\n",
    "model.add(Dropout(0.5))\n",
    "model.add(Dense(16,activation=\"tanh\"));\n",
    "model.add(Dropout(0.5))\n",
    "model.add(Dense(5,activation=\"softmax\"))\n",
    "\n",
    "model.compile(optimizer=sgd, loss=\"categorical_crossentropy\", metrics=[\"accuracy\"])"
   ]
  },
  {
   "cell_type": "code",
   "execution_count": 24,
   "id": "e2f69494",
   "metadata": {
    "scrolled": true
   },
   "outputs": [
    {
     "name": "stdout",
     "output_type": "stream",
     "text": [
      "Model: \"sequential\"\n",
      "_________________________________________________________________\n",
      " Layer (type)                Output Shape              Param #   \n",
      "=================================================================\n",
      " dense (Dense)               (None, None, 64)          4288      \n",
      "                                                                 \n",
      " dropout (Dropout)           (None, None, 64)          0         \n",
      "                                                                 \n",
      " dense_1 (Dense)             (None, None, 128)         8320      \n",
      "                                                                 \n",
      " dropout_1 (Dropout)         (None, None, 128)         0         \n",
      "                                                                 \n",
      " dense_2 (Dense)             (None, None, 64)          8256      \n",
      "                                                                 \n",
      " dropout_2 (Dropout)         (None, None, 64)          0         \n",
      "                                                                 \n",
      " dense_3 (Dense)             (None, None, 16)          1040      \n",
      "                                                                 \n",
      " dropout_3 (Dropout)         (None, None, 16)          0         \n",
      "                                                                 \n",
      " dense_4 (Dense)             (None, None, 5)           85        \n",
      "                                                                 \n",
      "=================================================================\n",
      "Total params: 21989 (85.89 KB)\n",
      "Trainable params: 21989 (85.89 KB)\n",
      "Non-trainable params: 0 (0.00 Byte)\n",
      "_________________________________________________________________\n"
     ]
    }
   ],
   "source": [
    "model.summary()"
   ]
  },
  {
   "cell_type": "code",
   "execution_count": 25,
   "id": "a63a90bb",
   "metadata": {},
   "outputs": [
    {
     "name": "stdout",
     "output_type": "stream",
     "text": [
      "Epoch 1/200\n",
      "WARNING:tensorflow:From C:\\Users\\D4rkS\\anaconda3\\lib\\site-packages\\keras\\src\\utils\\tf_utils.py:492: The name tf.ragged.RaggedTensorValue is deprecated. Please use tf.compat.v1.ragged.RaggedTensorValue instead.\n",
      "\n",
      "WARNING:tensorflow:From C:\\Users\\D4rkS\\anaconda3\\lib\\site-packages\\keras\\src\\engine\\base_layer_utils.py:384: The name tf.executing_eagerly_outside_functions is deprecated. Please use tf.compat.v1.executing_eagerly_outside_functions instead.\n",
      "\n",
      "201/201 [==============================] - 1s 3ms/step - loss: 1.8074 - accuracy: 0.2196 - val_loss: 1.4846 - val_accuracy: 0.2848\n",
      "Epoch 2/200\n",
      "201/201 [==============================] - 0s 2ms/step - loss: 1.7232 - accuracy: 0.2397 - val_loss: 1.3863 - val_accuracy: 0.3235\n",
      "Epoch 3/200\n",
      "201/201 [==============================] - 0s 2ms/step - loss: 1.6482 - accuracy: 0.2633 - val_loss: 1.3243 - val_accuracy: 0.3436\n",
      "Epoch 4/200\n",
      "201/201 [==============================] - 0s 2ms/step - loss: 1.5923 - accuracy: 0.2884 - val_loss: 1.2799 - val_accuracy: 0.3702\n",
      "Epoch 5/200\n",
      "201/201 [==============================] - 0s 2ms/step - loss: 1.5701 - accuracy: 0.2937 - val_loss: 1.2458 - val_accuracy: 0.4178\n",
      "Epoch 6/200\n",
      "201/201 [==============================] - 0s 2ms/step - loss: 1.5242 - accuracy: 0.3136 - val_loss: 1.2171 - val_accuracy: 0.4510\n",
      "Epoch 7/200\n",
      "201/201 [==============================] - 0s 2ms/step - loss: 1.5043 - accuracy: 0.3146 - val_loss: 1.1927 - val_accuracy: 0.4879\n",
      "Epoch 8/200\n",
      "201/201 [==============================] - 0s 2ms/step - loss: 1.4740 - accuracy: 0.3262 - val_loss: 1.1690 - val_accuracy: 0.5051\n",
      "Epoch 9/200\n",
      "201/201 [==============================] - 0s 2ms/step - loss: 1.4441 - accuracy: 0.3404 - val_loss: 1.1460 - val_accuracy: 0.5345\n",
      "Epoch 10/200\n",
      "201/201 [==============================] - 0s 2ms/step - loss: 1.4310 - accuracy: 0.3423 - val_loss: 1.1246 - val_accuracy: 0.5518\n",
      "Epoch 11/200\n",
      "201/201 [==============================] - 0s 2ms/step - loss: 1.3950 - accuracy: 0.3583 - val_loss: 1.1037 - val_accuracy: 0.5621\n",
      "Epoch 12/200\n",
      "201/201 [==============================] - 0s 2ms/step - loss: 1.3714 - accuracy: 0.3756 - val_loss: 1.0815 - val_accuracy: 0.5756\n",
      "Epoch 13/200\n",
      "201/201 [==============================] - 0s 2ms/step - loss: 1.3555 - accuracy: 0.3763 - val_loss: 1.0616 - val_accuracy: 0.5859\n",
      "Epoch 14/200\n",
      "201/201 [==============================] - 0s 2ms/step - loss: 1.3325 - accuracy: 0.3947 - val_loss: 1.0403 - val_accuracy: 0.5985\n",
      "Epoch 15/200\n",
      "201/201 [==============================] - 0s 2ms/step - loss: 1.3315 - accuracy: 0.3930 - val_loss: 1.0195 - val_accuracy: 0.6064\n",
      "Epoch 16/200\n",
      "201/201 [==============================] - 0s 2ms/step - loss: 1.3071 - accuracy: 0.4023 - val_loss: 0.9978 - val_accuracy: 0.6148\n",
      "Epoch 17/200\n",
      "201/201 [==============================] - 0s 2ms/step - loss: 1.2831 - accuracy: 0.4195 - val_loss: 0.9761 - val_accuracy: 0.6195\n",
      "Epoch 18/200\n",
      "201/201 [==============================] - 0s 2ms/step - loss: 1.2662 - accuracy: 0.4244 - val_loss: 0.9552 - val_accuracy: 0.6261\n",
      "Epoch 19/200\n",
      "201/201 [==============================] - 0s 2ms/step - loss: 1.2668 - accuracy: 0.4149 - val_loss: 0.9344 - val_accuracy: 0.6373\n",
      "Epoch 20/200\n",
      "201/201 [==============================] - 0s 2ms/step - loss: 1.2283 - accuracy: 0.4521 - val_loss: 0.9134 - val_accuracy: 0.6443\n",
      "Epoch 21/200\n",
      "201/201 [==============================] - 0s 2ms/step - loss: 1.2177 - accuracy: 0.4447 - val_loss: 0.8918 - val_accuracy: 0.6499\n",
      "Epoch 22/200\n",
      "201/201 [==============================] - 0s 2ms/step - loss: 1.1984 - accuracy: 0.4649 - val_loss: 0.8706 - val_accuracy: 0.6587\n",
      "Epoch 23/200\n",
      "201/201 [==============================] - 0s 2ms/step - loss: 1.1797 - accuracy: 0.4658 - val_loss: 0.8503 - val_accuracy: 0.6704\n",
      "Epoch 24/200\n",
      "201/201 [==============================] - 0s 2ms/step - loss: 1.1620 - accuracy: 0.4819 - val_loss: 0.8295 - val_accuracy: 0.6788\n",
      "Epoch 25/200\n",
      "201/201 [==============================] - 0s 2ms/step - loss: 1.1451 - accuracy: 0.4873 - val_loss: 0.8093 - val_accuracy: 0.6853\n",
      "Epoch 26/200\n",
      "201/201 [==============================] - 0s 2ms/step - loss: 1.1369 - accuracy: 0.4879 - val_loss: 0.7896 - val_accuracy: 0.6928\n",
      "Epoch 27/200\n",
      "201/201 [==============================] - 0s 2ms/step - loss: 1.1147 - accuracy: 0.5114 - val_loss: 0.7709 - val_accuracy: 0.6961\n",
      "Epoch 28/200\n",
      "201/201 [==============================] - 0s 2ms/step - loss: 1.0882 - accuracy: 0.5156 - val_loss: 0.7514 - val_accuracy: 0.7077\n",
      "Epoch 29/200\n",
      "201/201 [==============================] - 0s 2ms/step - loss: 1.0818 - accuracy: 0.5228 - val_loss: 0.7337 - val_accuracy: 0.7115\n",
      "Epoch 30/200\n",
      "201/201 [==============================] - 0s 2ms/step - loss: 1.0514 - accuracy: 0.5284 - val_loss: 0.7164 - val_accuracy: 0.7171\n",
      "Epoch 31/200\n",
      "201/201 [==============================] - 0s 2ms/step - loss: 1.0335 - accuracy: 0.5541 - val_loss: 0.6987 - val_accuracy: 0.7232\n",
      "Epoch 32/200\n",
      "201/201 [==============================] - 0s 2ms/step - loss: 1.0190 - accuracy: 0.5511 - val_loss: 0.6826 - val_accuracy: 0.7316\n",
      "Epoch 33/200\n",
      "201/201 [==============================] - 0s 2ms/step - loss: 0.9961 - accuracy: 0.5575 - val_loss: 0.6666 - val_accuracy: 0.7395\n",
      "Epoch 34/200\n",
      "201/201 [==============================] - 0s 2ms/step - loss: 0.9730 - accuracy: 0.5614 - val_loss: 0.6508 - val_accuracy: 0.7446\n",
      "Epoch 35/200\n",
      "201/201 [==============================] - 0s 2ms/step - loss: 0.9604 - accuracy: 0.5732 - val_loss: 0.6370 - val_accuracy: 0.7512\n",
      "Epoch 36/200\n",
      "201/201 [==============================] - 0s 2ms/step - loss: 0.9425 - accuracy: 0.5861 - val_loss: 0.6222 - val_accuracy: 0.7544\n",
      "Epoch 37/200\n",
      "201/201 [==============================] - 0s 2ms/step - loss: 0.9397 - accuracy: 0.5813 - val_loss: 0.6087 - val_accuracy: 0.7591\n",
      "Epoch 38/200\n",
      "201/201 [==============================] - 0s 2ms/step - loss: 0.9199 - accuracy: 0.5939 - val_loss: 0.5963 - val_accuracy: 0.7624\n",
      "Epoch 39/200\n",
      "201/201 [==============================] - 0s 2ms/step - loss: 0.9155 - accuracy: 0.5961 - val_loss: 0.5848 - val_accuracy: 0.7642\n",
      "Epoch 40/200\n",
      "201/201 [==============================] - 0s 2ms/step - loss: 0.8919 - accuracy: 0.6042 - val_loss: 0.5729 - val_accuracy: 0.7666\n",
      "Epoch 41/200\n",
      "201/201 [==============================] - 0s 2ms/step - loss: 0.8762 - accuracy: 0.6163 - val_loss: 0.5618 - val_accuracy: 0.7684\n",
      "Epoch 42/200\n",
      "201/201 [==============================] - 0s 2ms/step - loss: 0.8516 - accuracy: 0.6221 - val_loss: 0.5500 - val_accuracy: 0.7703\n",
      "Epoch 43/200\n",
      "201/201 [==============================] - 0s 2ms/step - loss: 0.8509 - accuracy: 0.6249 - val_loss: 0.5400 - val_accuracy: 0.7726\n",
      "Epoch 44/200\n",
      "201/201 [==============================] - 0s 2ms/step - loss: 0.8300 - accuracy: 0.6282 - val_loss: 0.5304 - val_accuracy: 0.7745\n",
      "Epoch 45/200\n",
      "201/201 [==============================] - 0s 2ms/step - loss: 0.8277 - accuracy: 0.6316 - val_loss: 0.5214 - val_accuracy: 0.7764\n",
      "Epoch 46/200\n",
      "201/201 [==============================] - 0s 2ms/step - loss: 0.8160 - accuracy: 0.6459 - val_loss: 0.5121 - val_accuracy: 0.7778\n",
      "Epoch 47/200\n",
      "201/201 [==============================] - 0s 2ms/step - loss: 0.7999 - accuracy: 0.6433 - val_loss: 0.5034 - val_accuracy: 0.7787\n",
      "Epoch 48/200\n",
      "201/201 [==============================] - 0s 2ms/step - loss: 0.7887 - accuracy: 0.6487 - val_loss: 0.4946 - val_accuracy: 0.7796\n",
      "Epoch 49/200\n",
      "201/201 [==============================] - 0s 2ms/step - loss: 0.7788 - accuracy: 0.6486 - val_loss: 0.4867 - val_accuracy: 0.7806\n",
      "Epoch 50/200\n",
      "201/201 [==============================] - 0s 2ms/step - loss: 0.7560 - accuracy: 0.6584 - val_loss: 0.4793 - val_accuracy: 0.7824\n",
      "Epoch 51/200\n",
      "201/201 [==============================] - 0s 2ms/step - loss: 0.7496 - accuracy: 0.6610 - val_loss: 0.4712 - val_accuracy: 0.7834\n",
      "Epoch 52/200\n",
      "201/201 [==============================] - 0s 2ms/step - loss: 0.7485 - accuracy: 0.6619 - val_loss: 0.4639 - val_accuracy: 0.7838\n",
      "Epoch 53/200\n",
      "201/201 [==============================] - 0s 2ms/step - loss: 0.7299 - accuracy: 0.6691 - val_loss: 0.4564 - val_accuracy: 0.7848\n",
      "Epoch 54/200\n",
      "201/201 [==============================] - 0s 2ms/step - loss: 0.7289 - accuracy: 0.6694 - val_loss: 0.4497 - val_accuracy: 0.7857\n"
     ]
    },
    {
     "name": "stdout",
     "output_type": "stream",
     "text": [
      "Epoch 55/200\n",
      "201/201 [==============================] - 0s 2ms/step - loss: 0.7055 - accuracy: 0.6814 - val_loss: 0.4436 - val_accuracy: 0.7852\n",
      "Epoch 56/200\n",
      "201/201 [==============================] - 0s 2ms/step - loss: 0.6951 - accuracy: 0.6940 - val_loss: 0.4377 - val_accuracy: 0.7899\n",
      "Epoch 57/200\n",
      "201/201 [==============================] - 0s 2ms/step - loss: 0.6945 - accuracy: 0.6909 - val_loss: 0.4318 - val_accuracy: 0.7899\n",
      "Epoch 58/200\n",
      "201/201 [==============================] - 0s 2ms/step - loss: 0.6713 - accuracy: 0.6890 - val_loss: 0.4265 - val_accuracy: 0.7899\n",
      "Epoch 59/200\n",
      "201/201 [==============================] - 0s 2ms/step - loss: 0.6693 - accuracy: 0.6976 - val_loss: 0.4210 - val_accuracy: 0.7904\n",
      "Epoch 60/200\n",
      "201/201 [==============================] - 0s 2ms/step - loss: 0.6781 - accuracy: 0.6951 - val_loss: 0.4159 - val_accuracy: 0.7955\n",
      "Epoch 61/200\n",
      "201/201 [==============================] - 0s 2ms/step - loss: 0.6519 - accuracy: 0.7096 - val_loss: 0.4107 - val_accuracy: 0.7974\n",
      "Epoch 62/200\n",
      "201/201 [==============================] - 0s 2ms/step - loss: 0.6643 - accuracy: 0.6981 - val_loss: 0.4063 - val_accuracy: 0.8002\n",
      "Epoch 63/200\n",
      "201/201 [==============================] - 0s 2ms/step - loss: 0.6473 - accuracy: 0.7080 - val_loss: 0.4017 - val_accuracy: 0.8039\n",
      "Epoch 64/200\n",
      "201/201 [==============================] - 0s 2ms/step - loss: 0.6350 - accuracy: 0.7156 - val_loss: 0.3973 - val_accuracy: 0.8044\n",
      "Epoch 65/200\n",
      "201/201 [==============================] - 0s 2ms/step - loss: 0.6344 - accuracy: 0.7069 - val_loss: 0.3935 - val_accuracy: 0.8049\n",
      "Epoch 66/200\n",
      "201/201 [==============================] - 0s 2ms/step - loss: 0.6220 - accuracy: 0.7161 - val_loss: 0.3900 - val_accuracy: 0.8053\n",
      "Epoch 67/200\n",
      "201/201 [==============================] - 0s 2ms/step - loss: 0.6262 - accuracy: 0.7144 - val_loss: 0.3850 - val_accuracy: 0.8128\n",
      "Epoch 68/200\n",
      "201/201 [==============================] - 0s 2ms/step - loss: 0.6180 - accuracy: 0.7214 - val_loss: 0.3802 - val_accuracy: 0.8170\n",
      "Epoch 69/200\n",
      "201/201 [==============================] - 0s 2ms/step - loss: 0.6114 - accuracy: 0.7200 - val_loss: 0.3770 - val_accuracy: 0.8170\n",
      "Epoch 70/200\n",
      "201/201 [==============================] - 0s 2ms/step - loss: 0.5996 - accuracy: 0.7239 - val_loss: 0.3732 - val_accuracy: 0.8179\n",
      "Epoch 71/200\n",
      "201/201 [==============================] - 0s 2ms/step - loss: 0.6041 - accuracy: 0.7209 - val_loss: 0.3699 - val_accuracy: 0.8198\n",
      "Epoch 72/200\n",
      "201/201 [==============================] - 0s 2ms/step - loss: 0.5908 - accuracy: 0.7261 - val_loss: 0.3660 - val_accuracy: 0.8240\n",
      "Epoch 73/200\n",
      "201/201 [==============================] - 0s 2ms/step - loss: 0.5745 - accuracy: 0.7410 - val_loss: 0.3626 - val_accuracy: 0.8235\n",
      "Epoch 74/200\n",
      "201/201 [==============================] - 0s 2ms/step - loss: 0.5799 - accuracy: 0.7253 - val_loss: 0.3593 - val_accuracy: 0.8273\n",
      "Epoch 75/200\n",
      "201/201 [==============================] - 0s 2ms/step - loss: 0.5713 - accuracy: 0.7391 - val_loss: 0.3558 - val_accuracy: 0.8305\n",
      "Epoch 76/200\n",
      "201/201 [==============================] - 0s 2ms/step - loss: 0.5644 - accuracy: 0.7419 - val_loss: 0.3523 - val_accuracy: 0.8273\n",
      "Epoch 77/200\n",
      "201/201 [==============================] - 0s 2ms/step - loss: 0.5721 - accuracy: 0.7334 - val_loss: 0.3487 - val_accuracy: 0.8310\n",
      "Epoch 78/200\n",
      "201/201 [==============================] - 0s 2ms/step - loss: 0.5496 - accuracy: 0.7430 - val_loss: 0.3457 - val_accuracy: 0.8343\n",
      "Epoch 79/200\n",
      "201/201 [==============================] - 0s 2ms/step - loss: 0.5660 - accuracy: 0.7424 - val_loss: 0.3424 - val_accuracy: 0.8375\n",
      "Epoch 80/200\n",
      "201/201 [==============================] - 0s 2ms/step - loss: 0.5468 - accuracy: 0.7477 - val_loss: 0.3389 - val_accuracy: 0.8450\n",
      "Epoch 81/200\n",
      "201/201 [==============================] - 0s 2ms/step - loss: 0.5371 - accuracy: 0.7567 - val_loss: 0.3361 - val_accuracy: 0.8441\n",
      "Epoch 82/200\n",
      "201/201 [==============================] - 0s 2ms/step - loss: 0.5368 - accuracy: 0.7518 - val_loss: 0.3332 - val_accuracy: 0.8473\n",
      "Epoch 83/200\n",
      "201/201 [==============================] - 0s 2ms/step - loss: 0.5426 - accuracy: 0.7530 - val_loss: 0.3310 - val_accuracy: 0.8590\n",
      "Epoch 84/200\n",
      "201/201 [==============================] - 0s 2ms/step - loss: 0.5287 - accuracy: 0.7612 - val_loss: 0.3288 - val_accuracy: 0.8665\n",
      "Epoch 85/200\n",
      "201/201 [==============================] - 0s 2ms/step - loss: 0.5402 - accuracy: 0.7542 - val_loss: 0.3265 - val_accuracy: 0.8716\n",
      "Epoch 86/200\n",
      "201/201 [==============================] - 0s 2ms/step - loss: 0.5324 - accuracy: 0.7584 - val_loss: 0.3239 - val_accuracy: 0.8749\n",
      "Epoch 87/200\n",
      "201/201 [==============================] - 0s 2ms/step - loss: 0.5327 - accuracy: 0.7546 - val_loss: 0.3205 - val_accuracy: 0.8725\n",
      "Epoch 88/200\n",
      "201/201 [==============================] - 0s 2ms/step - loss: 0.5210 - accuracy: 0.7650 - val_loss: 0.3181 - val_accuracy: 0.8721\n",
      "Epoch 89/200\n",
      "201/201 [==============================] - 0s 2ms/step - loss: 0.5239 - accuracy: 0.7588 - val_loss: 0.3148 - val_accuracy: 0.8805\n",
      "Epoch 90/200\n",
      "201/201 [==============================] - 0s 2ms/step - loss: 0.5167 - accuracy: 0.7648 - val_loss: 0.3123 - val_accuracy: 0.9029\n",
      "Epoch 91/200\n",
      "201/201 [==============================] - 0s 2ms/step - loss: 0.5103 - accuracy: 0.7682 - val_loss: 0.3095 - val_accuracy: 0.9043\n",
      "Epoch 92/200\n",
      "201/201 [==============================] - 0s 2ms/step - loss: 0.5037 - accuracy: 0.7732 - val_loss: 0.3063 - val_accuracy: 0.9127\n",
      "Epoch 93/200\n",
      "201/201 [==============================] - 0s 2ms/step - loss: 0.5062 - accuracy: 0.7782 - val_loss: 0.3035 - val_accuracy: 0.9202\n",
      "Epoch 94/200\n",
      "201/201 [==============================] - 0s 2ms/step - loss: 0.5017 - accuracy: 0.7715 - val_loss: 0.3005 - val_accuracy: 0.9211\n",
      "Epoch 95/200\n",
      "201/201 [==============================] - 0s 2ms/step - loss: 0.4943 - accuracy: 0.7762 - val_loss: 0.2975 - val_accuracy: 0.9286\n",
      "Epoch 96/200\n",
      "201/201 [==============================] - 0s 2ms/step - loss: 0.4845 - accuracy: 0.7858 - val_loss: 0.2951 - val_accuracy: 0.9398\n",
      "Epoch 97/200\n",
      "201/201 [==============================] - 0s 1ms/step - loss: 0.4927 - accuracy: 0.7729 - val_loss: 0.2923 - val_accuracy: 0.9519\n",
      "Epoch 98/200\n",
      "201/201 [==============================] - 0s 2ms/step - loss: 0.4829 - accuracy: 0.7852 - val_loss: 0.2892 - val_accuracy: 0.9463\n",
      "Epoch 99/200\n",
      "201/201 [==============================] - 0s 2ms/step - loss: 0.4856 - accuracy: 0.7805 - val_loss: 0.2864 - val_accuracy: 0.9552\n",
      "Epoch 100/200\n",
      "201/201 [==============================] - 0s 2ms/step - loss: 0.4818 - accuracy: 0.7858 - val_loss: 0.2835 - val_accuracy: 0.9743\n",
      "Epoch 101/200\n",
      "201/201 [==============================] - 0s 2ms/step - loss: 0.4781 - accuracy: 0.7889 - val_loss: 0.2801 - val_accuracy: 0.9692\n",
      "Epoch 102/200\n",
      "201/201 [==============================] - 0s 2ms/step - loss: 0.4701 - accuracy: 0.7846 - val_loss: 0.2776 - val_accuracy: 0.9739\n",
      "Epoch 103/200\n",
      "201/201 [==============================] - 0s 2ms/step - loss: 0.4787 - accuracy: 0.7821 - val_loss: 0.2742 - val_accuracy: 0.9855\n",
      "Epoch 104/200\n",
      "201/201 [==============================] - 0s 2ms/step - loss: 0.4698 - accuracy: 0.7902 - val_loss: 0.2710 - val_accuracy: 0.9869\n",
      "Epoch 105/200\n",
      "201/201 [==============================] - 0s 2ms/step - loss: 0.4639 - accuracy: 0.7986 - val_loss: 0.2670 - val_accuracy: 0.9869\n",
      "Epoch 106/200\n",
      "201/201 [==============================] - 0s 2ms/step - loss: 0.4645 - accuracy: 0.7941 - val_loss: 0.2638 - val_accuracy: 0.9897\n",
      "Epoch 107/200\n",
      "201/201 [==============================] - 0s 2ms/step - loss: 0.4592 - accuracy: 0.7974 - val_loss: 0.2604 - val_accuracy: 0.9907\n",
      "Epoch 108/200\n",
      "201/201 [==============================] - 0s 2ms/step - loss: 0.4526 - accuracy: 0.8012 - val_loss: 0.2563 - val_accuracy: 0.9907\n",
      "Epoch 109/200\n",
      "201/201 [==============================] - 0s 2ms/step - loss: 0.4674 - accuracy: 0.7916 - val_loss: 0.2534 - val_accuracy: 0.9939\n",
      "Epoch 110/200\n",
      "201/201 [==============================] - 0s 2ms/step - loss: 0.4553 - accuracy: 0.7992 - val_loss: 0.2505 - val_accuracy: 0.9939\n",
      "Epoch 111/200\n",
      "201/201 [==============================] - 0s 2ms/step - loss: 0.4479 - accuracy: 0.7918 - val_loss: 0.2481 - val_accuracy: 0.9953\n"
     ]
    },
    {
     "name": "stdout",
     "output_type": "stream",
     "text": [
      "Epoch 112/200\n",
      "201/201 [==============================] - 0s 1ms/step - loss: 0.4472 - accuracy: 0.8008 - val_loss: 0.2441 - val_accuracy: 0.9949\n",
      "Epoch 113/200\n",
      "201/201 [==============================] - 0s 2ms/step - loss: 0.4364 - accuracy: 0.8090 - val_loss: 0.2400 - val_accuracy: 0.9949\n",
      "Epoch 114/200\n",
      "201/201 [==============================] - 0s 2ms/step - loss: 0.4401 - accuracy: 0.8078 - val_loss: 0.2361 - val_accuracy: 0.9953\n",
      "Epoch 115/200\n",
      "201/201 [==============================] - 0s 2ms/step - loss: 0.4318 - accuracy: 0.8067 - val_loss: 0.2320 - val_accuracy: 0.9953\n",
      "Epoch 116/200\n",
      "201/201 [==============================] - 0s 2ms/step - loss: 0.4343 - accuracy: 0.8104 - val_loss: 0.2293 - val_accuracy: 0.9958\n",
      "Epoch 117/200\n",
      "201/201 [==============================] - 0s 2ms/step - loss: 0.4290 - accuracy: 0.8128 - val_loss: 0.2259 - val_accuracy: 0.9958\n",
      "Epoch 118/200\n",
      "201/201 [==============================] - 0s 1ms/step - loss: 0.4259 - accuracy: 0.8137 - val_loss: 0.2221 - val_accuracy: 0.9958\n",
      "Epoch 119/200\n",
      "201/201 [==============================] - 0s 2ms/step - loss: 0.4193 - accuracy: 0.8157 - val_loss: 0.2177 - val_accuracy: 0.9958\n",
      "Epoch 120/200\n",
      "201/201 [==============================] - 0s 2ms/step - loss: 0.4214 - accuracy: 0.8202 - val_loss: 0.2149 - val_accuracy: 0.9958\n",
      "Epoch 121/200\n",
      "201/201 [==============================] - 0s 2ms/step - loss: 0.4231 - accuracy: 0.8143 - val_loss: 0.2118 - val_accuracy: 0.9958\n",
      "Epoch 122/200\n",
      "201/201 [==============================] - 0s 2ms/step - loss: 0.4081 - accuracy: 0.8268 - val_loss: 0.2085 - val_accuracy: 0.9958\n",
      "Epoch 123/200\n",
      "201/201 [==============================] - 0s 2ms/step - loss: 0.4093 - accuracy: 0.8227 - val_loss: 0.2054 - val_accuracy: 0.9958\n",
      "Epoch 124/200\n",
      "201/201 [==============================] - 0s 2ms/step - loss: 0.3977 - accuracy: 0.8299 - val_loss: 0.2016 - val_accuracy: 0.9958\n",
      "Epoch 125/200\n",
      "201/201 [==============================] - 0s 2ms/step - loss: 0.3959 - accuracy: 0.8294 - val_loss: 0.1978 - val_accuracy: 0.9958\n",
      "Epoch 126/200\n",
      "201/201 [==============================] - 0s 2ms/step - loss: 0.4033 - accuracy: 0.8258 - val_loss: 0.1954 - val_accuracy: 0.9958\n",
      "Epoch 127/200\n",
      "201/201 [==============================] - 0s 2ms/step - loss: 0.4035 - accuracy: 0.8327 - val_loss: 0.1919 - val_accuracy: 0.9958\n",
      "Epoch 128/200\n",
      "201/201 [==============================] - 0s 2ms/step - loss: 0.3912 - accuracy: 0.8419 - val_loss: 0.1890 - val_accuracy: 0.9958\n",
      "Epoch 129/200\n",
      "201/201 [==============================] - 0s 2ms/step - loss: 0.3957 - accuracy: 0.8386 - val_loss: 0.1862 - val_accuracy: 0.9958\n",
      "Epoch 130/200\n",
      "201/201 [==============================] - 0s 2ms/step - loss: 0.3928 - accuracy: 0.8325 - val_loss: 0.1831 - val_accuracy: 0.9958\n",
      "Epoch 131/200\n",
      "201/201 [==============================] - 0s 2ms/step - loss: 0.3885 - accuracy: 0.8333 - val_loss: 0.1800 - val_accuracy: 0.9958\n",
      "Epoch 132/200\n",
      "201/201 [==============================] - 0s 2ms/step - loss: 0.3799 - accuracy: 0.8442 - val_loss: 0.1778 - val_accuracy: 0.9958\n",
      "Epoch 133/200\n",
      "201/201 [==============================] - 0s 2ms/step - loss: 0.3857 - accuracy: 0.8388 - val_loss: 0.1744 - val_accuracy: 0.9958\n",
      "Epoch 134/200\n",
      "201/201 [==============================] - 0s 2ms/step - loss: 0.3854 - accuracy: 0.8391 - val_loss: 0.1710 - val_accuracy: 0.9958\n",
      "Epoch 135/200\n",
      "201/201 [==============================] - 0s 2ms/step - loss: 0.3817 - accuracy: 0.8356 - val_loss: 0.1682 - val_accuracy: 0.9958\n",
      "Epoch 136/200\n",
      "201/201 [==============================] - 0s 2ms/step - loss: 0.3735 - accuracy: 0.8437 - val_loss: 0.1654 - val_accuracy: 0.9958\n",
      "Epoch 137/200\n",
      "201/201 [==============================] - 0s 2ms/step - loss: 0.3620 - accuracy: 0.8537 - val_loss: 0.1624 - val_accuracy: 0.9958\n",
      "Epoch 138/200\n",
      "201/201 [==============================] - 0s 2ms/step - loss: 0.3639 - accuracy: 0.8565 - val_loss: 0.1600 - val_accuracy: 0.9958\n",
      "Epoch 139/200\n",
      "201/201 [==============================] - 0s 2ms/step - loss: 0.3725 - accuracy: 0.8437 - val_loss: 0.1570 - val_accuracy: 0.9958\n",
      "Epoch 140/200\n",
      "201/201 [==============================] - 0s 2ms/step - loss: 0.3559 - accuracy: 0.8539 - val_loss: 0.1544 - val_accuracy: 0.9958\n",
      "Epoch 141/200\n",
      "201/201 [==============================] - 0s 2ms/step - loss: 0.3636 - accuracy: 0.8526 - val_loss: 0.1524 - val_accuracy: 0.9958\n",
      "Epoch 142/200\n",
      "201/201 [==============================] - 0s 2ms/step - loss: 0.3692 - accuracy: 0.8468 - val_loss: 0.1503 - val_accuracy: 0.9958\n",
      "Epoch 143/200\n",
      "201/201 [==============================] - 0s 2ms/step - loss: 0.3606 - accuracy: 0.8556 - val_loss: 0.1477 - val_accuracy: 0.9958\n",
      "Epoch 144/200\n",
      "201/201 [==============================] - 0s 1ms/step - loss: 0.3514 - accuracy: 0.8565 - val_loss: 0.1453 - val_accuracy: 0.9958\n",
      "Epoch 145/200\n",
      "201/201 [==============================] - 0s 1ms/step - loss: 0.3467 - accuracy: 0.8632 - val_loss: 0.1424 - val_accuracy: 0.9958\n",
      "Epoch 146/200\n",
      "201/201 [==============================] - 0s 1ms/step - loss: 0.3480 - accuracy: 0.8581 - val_loss: 0.1399 - val_accuracy: 0.9958\n",
      "Epoch 147/200\n",
      "201/201 [==============================] - 0s 1ms/step - loss: 0.3613 - accuracy: 0.8503 - val_loss: 0.1375 - val_accuracy: 0.9958\n",
      "Epoch 148/200\n",
      "201/201 [==============================] - 0s 1ms/step - loss: 0.3397 - accuracy: 0.8563 - val_loss: 0.1355 - val_accuracy: 0.9958\n",
      "Epoch 149/200\n",
      "201/201 [==============================] - 0s 1ms/step - loss: 0.3405 - accuracy: 0.8623 - val_loss: 0.1335 - val_accuracy: 0.9958\n",
      "Epoch 150/200\n",
      "201/201 [==============================] - 0s 1ms/step - loss: 0.3329 - accuracy: 0.8644 - val_loss: 0.1314 - val_accuracy: 0.9958\n",
      "Epoch 151/200\n",
      "201/201 [==============================] - 0s 2ms/step - loss: 0.3370 - accuracy: 0.8635 - val_loss: 0.1291 - val_accuracy: 0.9958\n",
      "Epoch 152/200\n",
      "201/201 [==============================] - 0s 2ms/step - loss: 0.3290 - accuracy: 0.8719 - val_loss: 0.1268 - val_accuracy: 0.9958\n",
      "Epoch 153/200\n",
      "201/201 [==============================] - 0s 2ms/step - loss: 0.3349 - accuracy: 0.8582 - val_loss: 0.1246 - val_accuracy: 0.9958\n",
      "Epoch 154/200\n",
      "201/201 [==============================] - 0s 2ms/step - loss: 0.3245 - accuracy: 0.8674 - val_loss: 0.1230 - val_accuracy: 0.9958\n",
      "Epoch 155/200\n",
      "201/201 [==============================] - 0s 2ms/step - loss: 0.3247 - accuracy: 0.8702 - val_loss: 0.1212 - val_accuracy: 0.9958\n",
      "Epoch 156/200\n",
      "201/201 [==============================] - 0s 2ms/step - loss: 0.3309 - accuracy: 0.8674 - val_loss: 0.1191 - val_accuracy: 0.9958\n",
      "Epoch 157/200\n",
      "201/201 [==============================] - 0s 1ms/step - loss: 0.3260 - accuracy: 0.8682 - val_loss: 0.1176 - val_accuracy: 0.9958\n",
      "Epoch 158/200\n",
      "201/201 [==============================] - 0s 2ms/step - loss: 0.3239 - accuracy: 0.8669 - val_loss: 0.1157 - val_accuracy: 0.9958\n",
      "Epoch 159/200\n",
      "201/201 [==============================] - 0s 1ms/step - loss: 0.3241 - accuracy: 0.8689 - val_loss: 0.1138 - val_accuracy: 0.9958\n",
      "Epoch 160/200\n",
      "201/201 [==============================] - 0s 2ms/step - loss: 0.3190 - accuracy: 0.8696 - val_loss: 0.1121 - val_accuracy: 0.9958\n",
      "Epoch 161/200\n",
      "201/201 [==============================] - 0s 1ms/step - loss: 0.3075 - accuracy: 0.8811 - val_loss: 0.1107 - val_accuracy: 0.9958\n",
      "Epoch 162/200\n",
      "201/201 [==============================] - 0s 2ms/step - loss: 0.3126 - accuracy: 0.8781 - val_loss: 0.1087 - val_accuracy: 0.9958\n",
      "Epoch 163/200\n",
      "201/201 [==============================] - 0s 1ms/step - loss: 0.3122 - accuracy: 0.8760 - val_loss: 0.1072 - val_accuracy: 0.9958\n",
      "Epoch 164/200\n",
      "201/201 [==============================] - 0s 1ms/step - loss: 0.3110 - accuracy: 0.8728 - val_loss: 0.1051 - val_accuracy: 0.9958\n",
      "Epoch 165/200\n",
      "201/201 [==============================] - 0s 2ms/step - loss: 0.2987 - accuracy: 0.8848 - val_loss: 0.1034 - val_accuracy: 0.9958\n",
      "Epoch 166/200\n",
      "201/201 [==============================] - 0s 2ms/step - loss: 0.3194 - accuracy: 0.8705 - val_loss: 0.1019 - val_accuracy: 0.9958\n",
      "Epoch 167/200\n",
      "201/201 [==============================] - 0s 2ms/step - loss: 0.3110 - accuracy: 0.8714 - val_loss: 0.1004 - val_accuracy: 0.9958\n",
      "Epoch 168/200\n"
     ]
    },
    {
     "name": "stdout",
     "output_type": "stream",
     "text": [
      "201/201 [==============================] - 0s 2ms/step - loss: 0.2943 - accuracy: 0.8882 - val_loss: 0.0990 - val_accuracy: 0.9958\n",
      "Epoch 169/200\n",
      "201/201 [==============================] - 0s 2ms/step - loss: 0.3060 - accuracy: 0.8814 - val_loss: 0.0977 - val_accuracy: 0.9958\n",
      "Epoch 170/200\n",
      "201/201 [==============================] - 0s 2ms/step - loss: 0.3007 - accuracy: 0.8816 - val_loss: 0.0962 - val_accuracy: 0.9958\n",
      "Epoch 171/200\n",
      "201/201 [==============================] - 0s 2ms/step - loss: 0.3030 - accuracy: 0.8733 - val_loss: 0.0946 - val_accuracy: 0.9958\n",
      "Epoch 172/200\n",
      "201/201 [==============================] - 0s 2ms/step - loss: 0.2952 - accuracy: 0.8814 - val_loss: 0.0932 - val_accuracy: 0.9958\n",
      "Epoch 173/200\n",
      "201/201 [==============================] - 0s 1ms/step - loss: 0.2886 - accuracy: 0.8854 - val_loss: 0.0919 - val_accuracy: 0.9958\n",
      "Epoch 174/200\n",
      "201/201 [==============================] - 0s 2ms/step - loss: 0.2857 - accuracy: 0.8861 - val_loss: 0.0903 - val_accuracy: 0.9958\n",
      "Epoch 175/200\n",
      "201/201 [==============================] - 0s 1ms/step - loss: 0.2909 - accuracy: 0.8806 - val_loss: 0.0889 - val_accuracy: 0.9958\n",
      "Epoch 176/200\n",
      "201/201 [==============================] - 0s 2ms/step - loss: 0.2878 - accuracy: 0.8904 - val_loss: 0.0878 - val_accuracy: 0.9958\n",
      "Epoch 177/200\n",
      "201/201 [==============================] - 0s 2ms/step - loss: 0.2773 - accuracy: 0.8911 - val_loss: 0.0865 - val_accuracy: 0.9958\n",
      "Epoch 178/200\n",
      "201/201 [==============================] - 0s 2ms/step - loss: 0.2922 - accuracy: 0.8850 - val_loss: 0.0854 - val_accuracy: 0.9958\n",
      "Epoch 179/200\n",
      "201/201 [==============================] - 0s 2ms/step - loss: 0.2799 - accuracy: 0.8917 - val_loss: 0.0844 - val_accuracy: 0.9958\n",
      "Epoch 180/200\n",
      "201/201 [==============================] - 0s 2ms/step - loss: 0.2821 - accuracy: 0.8886 - val_loss: 0.0833 - val_accuracy: 0.9958\n",
      "Epoch 181/200\n",
      "201/201 [==============================] - 0s 2ms/step - loss: 0.2792 - accuracy: 0.8915 - val_loss: 0.0826 - val_accuracy: 0.9958\n",
      "Epoch 182/200\n",
      "201/201 [==============================] - 0s 2ms/step - loss: 0.2764 - accuracy: 0.8893 - val_loss: 0.0813 - val_accuracy: 0.9958\n",
      "Epoch 183/200\n",
      "201/201 [==============================] - 0s 2ms/step - loss: 0.2781 - accuracy: 0.8928 - val_loss: 0.0801 - val_accuracy: 0.9958\n",
      "Epoch 184/200\n",
      "201/201 [==============================] - 0s 2ms/step - loss: 0.2675 - accuracy: 0.8945 - val_loss: 0.0792 - val_accuracy: 0.9958\n",
      "Epoch 185/200\n",
      "201/201 [==============================] - 0s 1ms/step - loss: 0.2617 - accuracy: 0.8965 - val_loss: 0.0780 - val_accuracy: 0.9958\n",
      "Epoch 186/200\n",
      "201/201 [==============================] - 0s 2ms/step - loss: 0.2582 - accuracy: 0.8963 - val_loss: 0.0770 - val_accuracy: 0.9958\n",
      "Epoch 187/200\n",
      "201/201 [==============================] - 0s 2ms/step - loss: 0.2618 - accuracy: 0.8991 - val_loss: 0.0763 - val_accuracy: 0.9958\n",
      "Epoch 188/200\n",
      "201/201 [==============================] - 0s 2ms/step - loss: 0.2639 - accuracy: 0.8951 - val_loss: 0.0751 - val_accuracy: 0.9958\n",
      "Epoch 189/200\n",
      "201/201 [==============================] - 0s 2ms/step - loss: 0.2742 - accuracy: 0.8931 - val_loss: 0.0743 - val_accuracy: 0.9958\n",
      "Epoch 190/200\n",
      "201/201 [==============================] - 0s 2ms/step - loss: 0.2589 - accuracy: 0.8985 - val_loss: 0.0730 - val_accuracy: 0.9958\n",
      "Epoch 191/200\n",
      "201/201 [==============================] - 0s 2ms/step - loss: 0.2711 - accuracy: 0.8923 - val_loss: 0.0722 - val_accuracy: 0.9958\n",
      "Epoch 192/200\n",
      "201/201 [==============================] - 0s 2ms/step - loss: 0.2665 - accuracy: 0.8946 - val_loss: 0.0713 - val_accuracy: 0.9958\n",
      "Epoch 193/200\n",
      "201/201 [==============================] - 0s 2ms/step - loss: 0.2545 - accuracy: 0.9032 - val_loss: 0.0704 - val_accuracy: 0.9958\n",
      "Epoch 194/200\n",
      "201/201 [==============================] - 0s 2ms/step - loss: 0.2468 - accuracy: 0.9013 - val_loss: 0.0694 - val_accuracy: 0.9958\n",
      "Epoch 195/200\n",
      "201/201 [==============================] - 0s 2ms/step - loss: 0.2601 - accuracy: 0.8956 - val_loss: 0.0689 - val_accuracy: 0.9958\n",
      "Epoch 196/200\n",
      "201/201 [==============================] - 0s 2ms/step - loss: 0.2588 - accuracy: 0.8981 - val_loss: 0.0683 - val_accuracy: 0.9958\n",
      "Epoch 197/200\n",
      "201/201 [==============================] - 0s 2ms/step - loss: 0.2453 - accuracy: 0.9013 - val_loss: 0.0675 - val_accuracy: 0.9958\n",
      "Epoch 198/200\n",
      "201/201 [==============================] - 0s 2ms/step - loss: 0.2476 - accuracy: 0.9072 - val_loss: 0.0665 - val_accuracy: 0.9958\n",
      "Epoch 199/200\n",
      "201/201 [==============================] - 0s 2ms/step - loss: 0.2451 - accuracy: 0.9055 - val_loss: 0.0658 - val_accuracy: 0.9958\n",
      "Epoch 200/200\n",
      "201/201 [==============================] - 0s 2ms/step - loss: 0.2414 - accuracy: 0.9065 - val_loss: 0.0652 - val_accuracy: 0.9958\n"
     ]
    },
    {
     "data": {
      "text/plain": [
       "<keras.src.callbacks.History at 0x1e52b22ecb0>"
      ]
     },
     "execution_count": 25,
     "metadata": {},
     "output_type": "execute_result"
    }
   ],
   "source": [
    "model.fit(x_train,\n",
    "          y_train,\n",
    "          verbose=1,\n",
    "          epochs=200,\n",
    "          batch_size=32,\n",
    "          validation_data=(x_valid,y_valid)\n",
    "         )"
   ]
  },
  {
   "cell_type": "code",
   "execution_count": null,
   "id": "dabb91e9",
   "metadata": {},
   "outputs": [],
   "source": [
    "# print(model.history.history)"
   ]
  },
  {
   "cell_type": "code",
   "execution_count": 26,
   "id": "9325d174",
   "metadata": {},
   "outputs": [
    {
     "data": {
      "image/png": "[encoded data removed]",
      "text/plain": [
       "<Figure size 640x480 with 1 Axes>"
      ]
     },
     "metadata": {},
     "output_type": "display_data"
    }
   ],
   "source": [
    "plt.plot(model.history.history['accuracy'])\n",
    "plt.plot(model.history.history['val_accuracy'])\n",
    "plt.title('model accuracy')\n",
    "plt.ylabel('Accuracy')\n",
    "plt.xlabel('Epoch')\n",
    "plt.legend(['train', 'val'], loc='lower right')\n",
    "plt.savefig('acc.png')\n",
    "plt.show()"
   ]
  },
  {
   "cell_type": "code",
   "execution_count": 27,
   "id": "e673cf53",
   "metadata": {
    "scrolled": false
   },
   "outputs": [
    {
     "data": {
      "image/png": "[encoded data removed]",
      "text/plain": [
       "<Figure size 640x480 with 1 Axes>"
      ]
     },
     "metadata": {},
     "output_type": "display_data"
    }
   ],
   "source": [
    "plt.plot(model.history.history['loss'])\n",
    "plt.plot(model.history.history['val_loss'])\n",
    "plt.title('model loss')\n",
    "plt.ylabel('loss')\n",
    "plt.xlabel('epoch')\n",
    "plt.legend(['train', 'val'], loc='upper right')\n",
    "plt.savefig('loss.png')\n",
    "plt.show()"
   ]
  },
  {
   "cell_type": "code",
   "execution_count": null,
   "id": "787fd854",
   "metadata": {},
   "outputs": [],
   "source": [
    "h = model.history.history"
   ]
  },
  {
   "cell_type": "code",
   "execution_count": null,
   "id": "8dbaf3c7",
   "metadata": {},
   "outputs": [],
   "source": [
    "from tensorflow.keras.models import load_model"
   ]
  },
  {
   "cell_type": "code",
   "execution_count": null,
   "id": "759d963c",
   "metadata": {},
   "outputs": [],
   "source": [
    " model.save(\"ysa_sgd_tanh2.keras\")"
   ]
  },
  {
   "cell_type": "code",
   "execution_count": null,
   "id": "511974b3",
   "metadata": {},
   "outputs": [],
   "source": [
    "model = load_model('ysa_sgd_tanh2.keras')"
   ]
  },
  {
   "cell_type": "code",
   "execution_count": 30,
   "id": "f034134e",
   "metadata": {},
   "outputs": [
    {
     "name": "stdout",
     "output_type": "stream",
     "text": [
      "67/67 [==============================] - 0s 712us/step\n"
     ]
    }
   ],
   "source": [
    "predict = model.predict(x_test)\n",
    "predict = (predict>0.5)*1\n",
    "acc = accuracy_score(y_test,predict)"
   ]
  },
  {
   "cell_type": "code",
   "execution_count": 31,
   "id": "b376ff43",
   "metadata": {},
   "outputs": [
    {
     "data": {
      "text/plain": [
       "0.9705882352941176"
      ]
     },
     "execution_count": 31,
     "metadata": {},
     "output_type": "execute_result"
    }
   ],
   "source": [
    "acc"
   ]
  },
  {
   "cell_type": "code",
   "execution_count": null,
   "id": "acbe148f",
   "metadata": {},
   "outputs": [],
   "source": [
    "predict"
   ]
  },
  {
   "cell_type": "code",
   "execution_count": null,
   "id": "1680864a",
   "metadata": {},
   "outputs": [],
   "source": [
    "data.shape"
   ]
  },
  {
   "cell_type": "markdown",
   "id": "f0c1f03b",
   "metadata": {},
   "source": [
    "### Cross Validaiton on ANN"
   ]
  },
  {
   "cell_type": "code",
   "execution_count": null,
   "id": "bcee5e75",
   "metadata": {},
   "outputs": [],
   "source": [
    "# from sklearn.model_selection import cross_val_score, KFold,cross_validate"
   ]
  },
  {
   "cell_type": "code",
   "execution_count": 40,
   "id": "64768526",
   "metadata": {},
   "outputs": [],
   "source": [
    "# X*1"
   ]
  },
  {
   "cell_type": "code",
   "execution_count": null,
   "id": "31ae33e7",
   "metadata": {},
   "outputs": [],
   "source": [
    "# X = np.array(X)*1\n",
    "# y = np.array(y)*1"
   ]
  },
  {
   "cell_type": "code",
   "execution_count": null,
   "id": "d4a38be0",
   "metadata": {},
   "outputs": [],
   "source": [
    "# kf = KFold(n_splits=10, shuffle=True, random_state=42)\n"
   ]
  },
  {
   "cell_type": "code",
   "execution_count": null,
   "id": "432edd81",
   "metadata": {},
   "outputs": [],
   "source": [
    "# epoch = 50\n",
    "\n",
    "# fold_number = 1\n",
    "\n",
    "# batch_size = 32\n",
    "\n",
    "# acc_per_fold = []\n",
    "\n",
    "# loss_per_fold = []\n",
    "\n",
    "for train,test in kf.split(X,y):\n",
    "    \n",
    "    model = Sequential()\n",
    "\n",
    "    model.add(Dense(32,activation=\"relu\",input_shape=(None,51)))\n",
    "    model.add(Dropout(0.5))\n",
    "    model.add(Dense(64,activation=\"relu\"))\n",
    "    model.add(Dropout(0.5))\n",
    "    model.add(Dense(128,activation=\"relu\"))\n",
    "    model.add(Dropout(0.5))\n",
    "    model.add(Dense(64,activation=\"relu\"))\n",
    "    model.add(Dropout(0.5))\n",
    "    model.add(Dense(6,activation=\"softmax\"))\n",
    "\n",
    "    model.compile(loss=\"categorical_crossentropy\",optimizer=\"adam\", metrics=[\"accuracy\"])\n",
    "    \n",
    "    print('------------------------------------------------------------')\n",
    "    print(f'Trainin for {fold_number} fold')\n",
    "    \n",
    "    model.fit(X[train],\n",
    "              y[train],\n",
    "              batch_size=batch_size,\n",
    "              epochs=epoch)\n",
    "    \n",
    "    scores = model.evaluate(X[test],y[test])\n",
    "    print(f\"Score for {fold_number} fold: = {model.metrics_names[0]} of {scores[0]}; {model.metrics_names[1]} of {scores[1]*100}%\")\n",
    "    \n",
    "    acc_per_fold.append(scores[1]*100)\n",
    "    loss_per_fold.append(scores[0])\n",
    "    \n",
    "    fold_number +=1"
   ]
  },
  {
   "cell_type": "code",
   "execution_count": null,
   "id": "ebc88162",
   "metadata": {},
   "outputs": [],
   "source": [
    "# acc_per_fold"
   ]
  },
  {
   "cell_type": "markdown",
   "id": "d7dbf6de",
   "metadata": {},
   "source": [
    "### Plot the result of the model"
   ]
  },
  {
   "cell_type": "code",
   "execution_count": 44,
   "id": "87fefcac",
   "metadata": {},
   "outputs": [],
   "source": [
    "from sklearn.metrics import confusion_matrix,classification_report,f1_score"
   ]
  },
  {
   "cell_type": "code",
   "execution_count": 45,
   "id": "9dd1a09c",
   "metadata": {
    "scrolled": false
   },
   "outputs": [
    {
     "name": "stdout",
     "output_type": "stream",
     "text": [
      "              precision    recall  f1-score   support\n",
      "\n",
      "           0       1.00      1.00      1.00       128\n",
      "           1       1.00      0.99      1.00       333\n",
      "           2       1.00      1.00      1.00       685\n",
      "           3       1.00      1.00      1.00       312\n",
      "           4       1.00      1.00      1.00       684\n",
      "\n",
      "    accuracy                           1.00      2142\n",
      "   macro avg       1.00      1.00      1.00      2142\n",
      "weighted avg       1.00      1.00      1.00      2142\n",
      "\n"
     ]
    }
   ],
   "source": [
    "print(classification_report(np.array(y_test).argmax(axis=1),predict.argmax(axis=1)))"
   ]
  },
  {
   "cell_type": "code",
   "execution_count": 38,
   "id": "2d2d3085",
   "metadata": {},
   "outputs": [],
   "source": [
    "cm = confusion_matrix(np.array(y_test).argmax(axis=1),predict.argmax(axis=1))"
   ]
  },
  {
   "cell_type": "code",
   "execution_count": 39,
   "id": "797586f3",
   "metadata": {},
   "outputs": [
    {
     "data": {
      "text/plain": [
       "0.9985994397759104"
      ]
     },
     "execution_count": 39,
     "metadata": {},
     "output_type": "execute_result"
    }
   ],
   "source": [
    "f1_score_ = f1_score(np.array(y_test).argmax(axis=1),predict.argmax(axis=1),\n",
    "                                           average='micro') \n",
    "f1_score_"
   ]
  },
  {
   "cell_type": "code",
   "execution_count": 36,
   "id": "3c0136be",
   "metadata": {},
   "outputs": [
    {
     "data": {
      "image/png": "[encoded data removed]",
      "text/plain": [
       "<Figure size 1000x800 with 2 Axes>"
      ]
     },
     "metadata": {},
     "output_type": "display_data"
    }
   ],
   "source": [
    "class_labels = ['2 Tekerlekli', '4 Tekerlekli', '6 Tekerlekli', '8 Tekerlekli', 'Paletli']\n",
    "\n",
    "# Create a heatmap using Seaborn\n",
    "plt.figure(figsize=(10, 8))\n",
    "sns.heatmap(cm,annot=True,  annot_kws={\"size\": 12},fmt='d', cmap='Blues', xticklabels=class_labels, yticklabels=class_labels)\n",
    "plt.xlabel('Predicted Labels')\n",
    "plt.ylabel('True Labels')\n",
    "plt.title('Confusion Matrix')\n",
    "plt.savefig('confusion.png')\n",
    "plt.show()"
   ]
  },
  {
   "cell_type": "code",
   "execution_count": null,
   "id": "c58ea60e",
   "metadata": {},
   "outputs": [],
   "source": [
    "y_test['3 Tekerlekli'].sum()\n"
   ]
  },
  {
   "cell_type": "code",
   "execution_count": null,
   "id": "97c9bcd5",
   "metadata": {},
   "outputs": [],
   "source": [
    "predict"
   ]
  },
  {
   "cell_type": "code",
   "execution_count": null,
   "id": "1cd41032",
   "metadata": {},
   "outputs": [],
   "source": [
    "np.array(predict).argmax(axis=1)"
   ]
  },
  {
   "cell_type": "code",
   "execution_count": null,
   "id": "02104e9a",
   "metadata": {},
   "outputs": [],
   "source": [
    "cr = classification_report(predict,y_test)"
   ]
  },
  {
   "cell_type": "code",
   "execution_count": null,
   "id": "08f73d03",
   "metadata": {},
   "outputs": [],
   "source": [
    "predict = model.predict(x_test)"
   ]
  },
  {
   "cell_type": "code",
   "execution_count": null,
   "id": "d26c35e7",
   "metadata": {},
   "outputs": [],
   "source": [
    "predict = predict>0.5"
   ]
  },
  {
   "cell_type": "code",
   "execution_count": null,
   "id": "80cb1115",
   "metadata": {},
   "outputs": [],
   "source": [
    "predict = predict*1"
   ]
  },
  {
   "cell_type": "code",
   "execution_count": null,
   "id": "28b06b9a",
   "metadata": {},
   "outputs": [],
   "source": [
    "sum_ = []"
   ]
  },
  {
   "cell_type": "code",
   "execution_count": null,
   "id": "1f68ee9e",
   "metadata": {},
   "outputs": [],
   "source": [
    "for x in predict:\n",
    "    if x[1]==1:\n",
    "        sum_.append(x[1])"
   ]
  },
  {
   "cell_type": "code",
   "execution_count": null,
   "id": "d8aab56d",
   "metadata": {},
   "outputs": [],
   "source": []
  },
  {
   "cell_type": "code",
   "execution_count": null,
   "id": "e3fe4dcb",
   "metadata": {},
   "outputs": [],
   "source": [
    "len(sum_)"
   ]
  },
  {
   "cell_type": "code",
   "execution_count": null,
   "id": "4347bc40",
   "metadata": {},
   "outputs": [],
   "source": [
    "len(y_test)"
   ]
  },
  {
   "cell_type": "code",
   "execution_count": null,
   "id": "bf3e16d7",
   "metadata": {},
   "outputs": [],
   "source": [
    "len(predict)"
   ]
  },
  {
   "cell_type": "code",
   "execution_count": null,
   "id": "d12894da",
   "metadata": {},
   "outputs": [],
   "source": [
    "predict = model.predict(x_test)"
   ]
  },
  {
   "cell_type": "code",
   "execution_count": null,
   "id": "2af55c00",
   "metadata": {},
   "outputs": [],
   "source": [
    "for x in predict:\n",
    "    print(x[1]>0.5)"
   ]
  },
  {
   "cell_type": "code",
   "execution_count": null,
   "id": "246dba79",
   "metadata": {},
   "outputs": [],
   "source": [
    "a = 1\n",
    "for x in np.array(y):        \n",
    "    if x[1]==1:\n",
    "        a+=1\n",
    "    "
   ]
  },
  {
   "cell_type": "code",
   "execution_count": null,
   "id": "102a0922",
   "metadata": {},
   "outputs": [],
   "source": [
    "a"
   ]
  },
  {
   "cell_type": "code",
   "execution_count": null,
   "id": "06a804c4",
   "metadata": {},
   "outputs": [],
   "source": [
    "model.history.history"
   ]
  },
  {
   "cell_type": "code",
   "execution_count": null,
   "id": "ec98efc3",
   "metadata": {},
   "outputs": [],
   "source": [
    "data_input = {'maliyet': 1, 'agirlik_sinifi': 2, 'ozerk_yapi': 1, 'kontrol_sis': 2, 'faydali_yuk': 1, 'motor': 2, 'arazi_tipi': 1, 'yonlendirme_sis': 4, 'suspansiyon_sis': 2, 'govde_malzemesi': 3, 'enerji_sis': 2, 'guc_aktarma': 1, 'fren_sistemi': 1, 'isi_yonetim': 1, 'elektrik_sistemi': 2, 'elektronik_unite': 1}"
   ]
  },
  {
   "cell_type": "code",
   "execution_count": null,
   "id": "d2c8aa2a",
   "metadata": {},
   "outputs": [],
   "source": [
    "df = pd.DataFrame(data_input,index=[0])"
   ]
  },
  {
   "cell_type": "code",
   "execution_count": null,
   "id": "630e5037",
   "metadata": {},
   "outputs": [],
   "source": [
    "df.columns"
   ]
  },
  {
   "cell_type": "code",
   "execution_count": null,
   "id": "3fe589bf",
   "metadata": {},
   "outputs": [],
   "source": [
    "inputs = df.iloc[0].values"
   ]
  },
  {
   "cell_type": "code",
   "execution_count": null,
   "id": "a32fd497",
   "metadata": {},
   "outputs": [],
   "source": [
    "new_in = inputs[:15]\n",
    "new_in=new_in.reshape(1, -1)\n",
    "new_in.shape"
   ]
  },
  {
   "cell_type": "code",
   "execution_count": null,
   "id": "94dc9c7c",
   "metadata": {},
   "outputs": [],
   "source": [
    "#array([1, 1, 1, 1, 1, 1, 2, 5, 1, 1, 1, 1, 1, 1, 1], dtype=int64)"
   ]
  },
  {
   "cell_type": "code",
   "execution_count": null,
   "id": "e8bcad9c",
   "metadata": {},
   "outputs": [],
   "source": [
    "res = oneHotEncoder.transform(new_in)"
   ]
  },
  {
   "cell_type": "code",
   "execution_count": null,
   "id": "d603ec89",
   "metadata": {},
   "outputs": [],
   "source": [
    "res = res.toarray()"
   ]
  },
  {
   "cell_type": "code",
   "execution_count": null,
   "id": "1b5fedc3",
   "metadata": {},
   "outputs": [],
   "source": [
    "res"
   ]
  },
  {
   "cell_type": "code",
   "execution_count": null,
   "id": "54cc7021",
   "metadata": {},
   "outputs": [],
   "source": [
    "prediction=model.predict(res)"
   ]
  },
  {
   "cell_type": "code",
   "execution_count": null,
   "id": "f82b541b",
   "metadata": {},
   "outputs": [],
   "source": [
    "x_test.iloc[:1]"
   ]
  },
  {
   "cell_type": "code",
   "execution_count": null,
   "id": "56d6e1b1",
   "metadata": {},
   "outputs": [],
   "source": [
    "prediction = prediction>0.5\n"
   ]
  },
  {
   "cell_type": "code",
   "execution_count": null,
   "id": "b3909d7e",
   "metadata": {},
   "outputs": [],
   "source": [
    "prediction[0]"
   ]
  },
  {
   "cell_type": "code",
   "execution_count": null,
   "id": "b0aec2f4",
   "metadata": {},
   "outputs": [],
   "source": [
    "def model_sonuc(inputs,encoder,model) -> str:\n",
    "    \n",
    "    inputs = pd.DataFrame(inputs,index=[0])\n",
    "    \n",
    "    inputs = inputs.iloc[0].values\n",
    "    \n",
    "    inputs = inputs[:15].reshape(1, -1)\n",
    "    \n",
    "    encoded = oneHotEncoder.transform(inputs).toarray()\n",
    "    \n",
    "    predictions = model.predict(encoded)\n",
    "    \n",
    "    predictions = predictions>0.5\n",
    "    \n",
    "    if(predictions[0][0]==True):\n",
    "        return \"2 Tekerlekli\"\n",
    "    \n",
    "    elif(predictions[0][1]==True):\n",
    "        return \"4 Tekerlekli\"\n",
    "    \n",
    "    elif(predictions[0][2]==True):\n",
    "        return \"6 Tekerlekli\"\n",
    "    \n",
    "    elif(predictions[0][3]==True):\n",
    "        return \"8 Tekerlekli\"\n",
    "    \n",
    "    elif(predictions[0][4]==True):\n",
    "        return \"Paletli\"\n",
    "    "
   ]
  },
  {
   "cell_type": "code",
   "execution_count": null,
   "id": "bdd54caa",
   "metadata": {},
   "outputs": [],
   "source": [
    "res = model_sonuc(data_input,oneHotEncoder,model)\n",
    "res"
   ]
  },
  {
   "cell_type": "code",
   "execution_count": null,
   "id": "3b0f1a22",
   "metadata": {},
   "outputs": [],
   "source": [
    "with open('encoder', 'rb') as f:\n",
    "        oneHotEncoder = pickle.load(f)"
   ]
  },
  {
   "cell_type": "code",
   "execution_count": null,
   "id": "534ae4e5",
   "metadata": {},
   "outputs": [],
   "source": [
    "def model_sonuc(inputs) -> str:\n",
    "\n",
    "    with open('encoder2', 'rb') as f:\n",
    "        oneHotEncoder = pickle.load(f)\n",
    "\n",
    "    model = load_model(\"ysa_sgd_tanh2.keras\")\n",
    "\n",
    "    inputs = pd.DataFrame(inputs, index=[0])\n",
    "\n",
    "    inputs = inputs.iloc[0].values\n",
    "\n",
    "    inputs = inputs[:15].reshape(1, -1)\n",
    "\n",
    "    encoded = oneHotEncoder.transform(inputs).toarray()\n",
    "\n",
    "    predictions = model.predict(encoded)\n",
    "\n",
    "    predictions = predictions > 0.5\n",
    "\n",
    "    if (predictions[0][0] == True):\n",
    "        return \"2 Tekerlekli\"\n",
    "\n",
    "    elif (predictions[0][1] == True):\n",
    "        return \"4 Tekerlekli\"\n",
    "\n",
    "    elif (predictions[0][2] == True):\n",
    "        return \"6 Tekerlekli\"\n",
    "\n",
    "    elif (predictions[0][3] == True):\n",
    "        return \"8 Tekerlekli\"\n",
    "\n",
    "    elif (predictions[0][4] == True):\n",
    "        return \"Paletli\"\n"
   ]
  },
  {
   "cell_type": "code",
   "execution_count": null,
   "id": "023bd29a",
   "metadata": {},
   "outputs": [],
   "source": [
    "res = model_sonuc({'maliyet': 1, 'agirlik_sinifi': 2, 'ozerk_yapi': 1, 'kontrol_sis': 2, 'faydali_yuk': 1, 'motor': 2, 'arazi_tipi': 1, 'yonlendirme_sis': 4, 'suspansiyon_sis': 2, 'govde_malzemesi': 3, 'enerji_sis': 2, 'guc_aktarma': 1, 'fren_sistemi': 1, 'isi_yonetim': 1, 'elektrik_sistemi': 2, 'elektronik_unite': 1})"
   ]
  },
  {
   "cell_type": "code",
   "execution_count": null,
   "id": "f5159742",
   "metadata": {},
   "outputs": [],
   "source": [
    "res"
   ]
  },
  {
   "cell_type": "code",
   "execution_count": null,
   "id": "2197f6d4",
   "metadata": {},
   "outputs": [],
   "source": []
  }
 ],
 "metadata": {
  "kernelspec": {
   "display_name": "Python 3 (ipykernel)",
   "language": "python",
   "name": "python3"
  },
  "language_info": {
   "codemirror_mode": {
    "name": "ipython",
    "version": 3
   },
   "file_extension": ".py",
   "mimetype": "text/x-python",
   "name": "python",
   "nbconvert_exporter": "python",
   "pygments_lexer": "ipython3",
   "version": "3.10.13"
  }
 },
 "nbformat": 4,
 "nbformat_minor": 5
}
