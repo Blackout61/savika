{
 "cells": [
  {
   "cell_type": "code",
   "execution_count": 27,
   "id": "0f6ad303",
   "metadata": {},
   "outputs": [],
   "source": [
    "import pandas as pd \n",
    "import numpy as np\n",
    "import matplotlib.pyplot as plt\n",
    "import seaborn as sns\n",
    "\n",
    "from sklearn.preprocessing import OneHotEncoder,MinMaxScaler,StandardScaler\n",
    "from sklearn.model_selection import train_test_split\n",
    "from sklearn.metrics import classification_report,accuracy_score,confusion_matrix\n",
    "\n",
    "from sklearn.neighbors import KNeighborsClassifier\n",
    "from sklearn.tree import DecisionTreeClassifier\n",
    "from sklearn.ensemble import RandomForestClassifier\n",
    "from sklearn.naive_bayes import MultinomialNB,BernoulliNB\n",
    "from sklearn.multioutput import MultiOutputClassifier\n",
    "\n",
    "from tensorflow.keras.models import Sequential\n",
    "from tensorflow.keras.layers import Dense,Dropout\n",
    "from tensorflow.keras.utils import to_categorical\n",
    "from sklearn.svm import SVC"
   ]
  },
  {
   "cell_type": "code",
   "execution_count": 2,
   "id": "80b16096",
   "metadata": {},
   "outputs": [],
   "source": [
    "data = pd.read_excel(\"VeriSeti_4.xlsx\")"
   ]
  },
  {
   "cell_type": "code",
   "execution_count": 3,
   "id": "d77b65ce",
   "metadata": {},
   "outputs": [
    {
     "data": {
      "text/html": [
       "<div>\n",
       "<style scoped>\n",
       "    .dataframe tbody tr th:only-of-type {\n",
       "        vertical-align: middle;\n",
       "    }\n",
       "\n",
       "    .dataframe tbody tr th {\n",
       "        vertical-align: top;\n",
       "    }\n",
       "\n",
       "    .dataframe thead th {\n",
       "        text-align: right;\n",
       "    }\n",
       "</style>\n",
       "<table border=\"1\" class=\"dataframe\">\n",
       "  <thead>\n",
       "    <tr style=\"text-align: right;\">\n",
       "      <th></th>\n",
       "      <th>Maliyet</th>\n",
       "      <th>Ağırlık Sınıfı</th>\n",
       "      <th>Özerk Yapı</th>\n",
       "      <th>Kontrol Sistemi</th>\n",
       "      <th>Faydalı Yük</th>\n",
       "      <th>Motor</th>\n",
       "      <th>Arazi Tipi</th>\n",
       "      <th>Yönlendirme Sistemi</th>\n",
       "      <th>Süspansiyon Sistemi</th>\n",
       "      <th>Gövde Malzemesi</th>\n",
       "      <th>...</th>\n",
       "      <th>Güç Aktarma Sistemi</th>\n",
       "      <th>Fren Sistemi</th>\n",
       "      <th>Isı Yönetim Sistemi</th>\n",
       "      <th>Elektrik Sistemi</th>\n",
       "      <th>Elektronik Üniteler</th>\n",
       "      <th>2 Tekerlekli</th>\n",
       "      <th>4 Tekerlekli</th>\n",
       "      <th>6 Tekerlekli</th>\n",
       "      <th>8 Tekerlekli</th>\n",
       "      <th>Paletli</th>\n",
       "    </tr>\n",
       "  </thead>\n",
       "  <tbody>\n",
       "    <tr>\n",
       "      <th>0</th>\n",
       "      <td>1</td>\n",
       "      <td>1</td>\n",
       "      <td>1</td>\n",
       "      <td>1</td>\n",
       "      <td>1</td>\n",
       "      <td>1</td>\n",
       "      <td>1</td>\n",
       "      <td>2</td>\n",
       "      <td>1</td>\n",
       "      <td>1</td>\n",
       "      <td>...</td>\n",
       "      <td>1</td>\n",
       "      <td>1</td>\n",
       "      <td>1</td>\n",
       "      <td>1</td>\n",
       "      <td>1</td>\n",
       "      <td>1</td>\n",
       "      <td>0</td>\n",
       "      <td>0</td>\n",
       "      <td>0</td>\n",
       "      <td>0</td>\n",
       "    </tr>\n",
       "    <tr>\n",
       "      <th>1</th>\n",
       "      <td>1</td>\n",
       "      <td>1</td>\n",
       "      <td>1</td>\n",
       "      <td>1</td>\n",
       "      <td>1</td>\n",
       "      <td>1</td>\n",
       "      <td>1</td>\n",
       "      <td>5</td>\n",
       "      <td>1</td>\n",
       "      <td>1</td>\n",
       "      <td>...</td>\n",
       "      <td>1</td>\n",
       "      <td>1</td>\n",
       "      <td>1</td>\n",
       "      <td>1</td>\n",
       "      <td>1</td>\n",
       "      <td>0</td>\n",
       "      <td>0</td>\n",
       "      <td>0</td>\n",
       "      <td>0</td>\n",
       "      <td>0</td>\n",
       "    </tr>\n",
       "    <tr>\n",
       "      <th>2</th>\n",
       "      <td>1</td>\n",
       "      <td>1</td>\n",
       "      <td>1</td>\n",
       "      <td>1</td>\n",
       "      <td>1</td>\n",
       "      <td>1</td>\n",
       "      <td>2</td>\n",
       "      <td>2</td>\n",
       "      <td>1</td>\n",
       "      <td>1</td>\n",
       "      <td>...</td>\n",
       "      <td>1</td>\n",
       "      <td>1</td>\n",
       "      <td>1</td>\n",
       "      <td>1</td>\n",
       "      <td>1</td>\n",
       "      <td>1</td>\n",
       "      <td>0</td>\n",
       "      <td>0</td>\n",
       "      <td>0</td>\n",
       "      <td>0</td>\n",
       "    </tr>\n",
       "    <tr>\n",
       "      <th>3</th>\n",
       "      <td>1</td>\n",
       "      <td>1</td>\n",
       "      <td>1</td>\n",
       "      <td>1</td>\n",
       "      <td>1</td>\n",
       "      <td>1</td>\n",
       "      <td>2</td>\n",
       "      <td>5</td>\n",
       "      <td>1</td>\n",
       "      <td>1</td>\n",
       "      <td>...</td>\n",
       "      <td>1</td>\n",
       "      <td>1</td>\n",
       "      <td>1</td>\n",
       "      <td>1</td>\n",
       "      <td>1</td>\n",
       "      <td>0</td>\n",
       "      <td>0</td>\n",
       "      <td>0</td>\n",
       "      <td>0</td>\n",
       "      <td>0</td>\n",
       "    </tr>\n",
       "    <tr>\n",
       "      <th>4</th>\n",
       "      <td>1</td>\n",
       "      <td>1</td>\n",
       "      <td>1</td>\n",
       "      <td>1</td>\n",
       "      <td>1</td>\n",
       "      <td>1</td>\n",
       "      <td>3</td>\n",
       "      <td>2</td>\n",
       "      <td>2</td>\n",
       "      <td>1</td>\n",
       "      <td>...</td>\n",
       "      <td>1</td>\n",
       "      <td>1</td>\n",
       "      <td>1</td>\n",
       "      <td>1</td>\n",
       "      <td>1</td>\n",
       "      <td>1</td>\n",
       "      <td>0</td>\n",
       "      <td>0</td>\n",
       "      <td>0</td>\n",
       "      <td>0</td>\n",
       "    </tr>\n",
       "    <tr>\n",
       "      <th>5</th>\n",
       "      <td>1</td>\n",
       "      <td>1</td>\n",
       "      <td>1</td>\n",
       "      <td>1</td>\n",
       "      <td>1</td>\n",
       "      <td>1</td>\n",
       "      <td>3</td>\n",
       "      <td>5</td>\n",
       "      <td>2</td>\n",
       "      <td>1</td>\n",
       "      <td>...</td>\n",
       "      <td>1</td>\n",
       "      <td>1</td>\n",
       "      <td>1</td>\n",
       "      <td>1</td>\n",
       "      <td>1</td>\n",
       "      <td>0</td>\n",
       "      <td>0</td>\n",
       "      <td>0</td>\n",
       "      <td>0</td>\n",
       "      <td>0</td>\n",
       "    </tr>\n",
       "    <tr>\n",
       "      <th>6</th>\n",
       "      <td>1</td>\n",
       "      <td>1</td>\n",
       "      <td>1</td>\n",
       "      <td>1</td>\n",
       "      <td>1</td>\n",
       "      <td>1</td>\n",
       "      <td>3</td>\n",
       "      <td>4</td>\n",
       "      <td>2</td>\n",
       "      <td>1</td>\n",
       "      <td>...</td>\n",
       "      <td>1</td>\n",
       "      <td>1</td>\n",
       "      <td>1</td>\n",
       "      <td>1</td>\n",
       "      <td>1</td>\n",
       "      <td>0</td>\n",
       "      <td>1</td>\n",
       "      <td>0</td>\n",
       "      <td>0</td>\n",
       "      <td>0</td>\n",
       "    </tr>\n",
       "    <tr>\n",
       "      <th>7</th>\n",
       "      <td>1</td>\n",
       "      <td>1</td>\n",
       "      <td>1</td>\n",
       "      <td>1</td>\n",
       "      <td>1</td>\n",
       "      <td>1</td>\n",
       "      <td>4</td>\n",
       "      <td>4</td>\n",
       "      <td>2</td>\n",
       "      <td>1</td>\n",
       "      <td>...</td>\n",
       "      <td>1</td>\n",
       "      <td>1</td>\n",
       "      <td>1</td>\n",
       "      <td>1</td>\n",
       "      <td>1</td>\n",
       "      <td>0</td>\n",
       "      <td>0</td>\n",
       "      <td>0</td>\n",
       "      <td>0</td>\n",
       "      <td>1</td>\n",
       "    </tr>\n",
       "    <tr>\n",
       "      <th>8</th>\n",
       "      <td>1</td>\n",
       "      <td>1</td>\n",
       "      <td>1</td>\n",
       "      <td>1</td>\n",
       "      <td>2</td>\n",
       "      <td>1</td>\n",
       "      <td>1</td>\n",
       "      <td>2</td>\n",
       "      <td>1</td>\n",
       "      <td>1</td>\n",
       "      <td>...</td>\n",
       "      <td>1</td>\n",
       "      <td>1</td>\n",
       "      <td>1</td>\n",
       "      <td>1</td>\n",
       "      <td>1</td>\n",
       "      <td>1</td>\n",
       "      <td>0</td>\n",
       "      <td>0</td>\n",
       "      <td>0</td>\n",
       "      <td>0</td>\n",
       "    </tr>\n",
       "    <tr>\n",
       "      <th>9</th>\n",
       "      <td>1</td>\n",
       "      <td>1</td>\n",
       "      <td>1</td>\n",
       "      <td>1</td>\n",
       "      <td>2</td>\n",
       "      <td>1</td>\n",
       "      <td>1</td>\n",
       "      <td>5</td>\n",
       "      <td>1</td>\n",
       "      <td>1</td>\n",
       "      <td>...</td>\n",
       "      <td>1</td>\n",
       "      <td>1</td>\n",
       "      <td>1</td>\n",
       "      <td>1</td>\n",
       "      <td>1</td>\n",
       "      <td>0</td>\n",
       "      <td>0</td>\n",
       "      <td>0</td>\n",
       "      <td>0</td>\n",
       "      <td>0</td>\n",
       "    </tr>\n",
       "  </tbody>\n",
       "</table>\n",
       "<p>10 rows × 21 columns</p>\n",
       "</div>"
      ],
      "text/plain": [
       "   Maliyet  Ağırlık Sınıfı  Özerk Yapı  Kontrol Sistemi  Faydalı Yük  Motor  \\\n",
       "0        1               1           1                1            1      1   \n",
       "1        1               1           1                1            1      1   \n",
       "2        1               1           1                1            1      1   \n",
       "3        1               1           1                1            1      1   \n",
       "4        1               1           1                1            1      1   \n",
       "5        1               1           1                1            1      1   \n",
       "6        1               1           1                1            1      1   \n",
       "7        1               1           1                1            1      1   \n",
       "8        1               1           1                1            2      1   \n",
       "9        1               1           1                1            2      1   \n",
       "\n",
       "   Arazi Tipi  Yönlendirme Sistemi  Süspansiyon Sistemi  Gövde Malzemesi  ...  \\\n",
       "0           1                    2                    1                1  ...   \n",
       "1           1                    5                    1                1  ...   \n",
       "2           2                    2                    1                1  ...   \n",
       "3           2                    5                    1                1  ...   \n",
       "4           3                    2                    2                1  ...   \n",
       "5           3                    5                    2                1  ...   \n",
       "6           3                    4                    2                1  ...   \n",
       "7           4                    4                    2                1  ...   \n",
       "8           1                    2                    1                1  ...   \n",
       "9           1                    5                    1                1  ...   \n",
       "\n",
       "   Güç Aktarma Sistemi  Fren Sistemi  Isı Yönetim Sistemi  Elektrik Sistemi  \\\n",
       "0                    1             1                    1                 1   \n",
       "1                    1             1                    1                 1   \n",
       "2                    1             1                    1                 1   \n",
       "3                    1             1                    1                 1   \n",
       "4                    1             1                    1                 1   \n",
       "5                    1             1                    1                 1   \n",
       "6                    1             1                    1                 1   \n",
       "7                    1             1                    1                 1   \n",
       "8                    1             1                    1                 1   \n",
       "9                    1             1                    1                 1   \n",
       "\n",
       "   Elektronik Üniteler  2 Tekerlekli  4 Tekerlekli   6 Tekerlekli   \\\n",
       "0                    1             1              0              0   \n",
       "1                    1             0              0              0   \n",
       "2                    1             1              0              0   \n",
       "3                    1             0              0              0   \n",
       "4                    1             1              0              0   \n",
       "5                    1             0              0              0   \n",
       "6                    1             0              1              0   \n",
       "7                    1             0              0              0   \n",
       "8                    1             1              0              0   \n",
       "9                    1             0              0              0   \n",
       "\n",
       "   8 Tekerlekli   Paletli   \n",
       "0              0         0  \n",
       "1              0         0  \n",
       "2              0         0  \n",
       "3              0         0  \n",
       "4              0         0  \n",
       "5              0         0  \n",
       "6              0         0  \n",
       "7              0         1  \n",
       "8              0         0  \n",
       "9              0         0  \n",
       "\n",
       "[10 rows x 21 columns]"
      ]
     },
     "execution_count": 3,
     "metadata": {},
     "output_type": "execute_result"
    }
   ],
   "source": [
    "# Veri setinin ilk 10 verisini ekrana ver\n",
    "data.head(10)"
   ]
  },
  {
   "cell_type": "code",
   "execution_count": 4,
   "id": "c23f390b",
   "metadata": {},
   "outputs": [
    {
     "data": {
      "text/plain": [
       "Maliyet                0\n",
       "Ağırlık Sınıfı         0\n",
       "Özerk Yapı             0\n",
       "Kontrol Sistemi        0\n",
       "Faydalı Yük            0\n",
       "Motor                  0\n",
       "Arazi Tipi             0\n",
       "Yönlendirme Sistemi    0\n",
       "Süspansiyon Sistemi    0\n",
       "Gövde Malzemesi        0\n",
       "Enerji Sistemi         0\n",
       "Güç Aktarma Sistemi    0\n",
       "Fren Sistemi           0\n",
       "Isı Yönetim Sistemi    0\n",
       "Elektrik Sistemi       0\n",
       "Elektronik Üniteler    0\n",
       "2 Tekerlekli           0\n",
       "4 Tekerlekli           0\n",
       "6 Tekerlekli           0\n",
       "8 Tekerlekli           0\n",
       "Paletli                0\n",
       "dtype: int64"
      ]
     },
     "execution_count": 4,
     "metadata": {},
     "output_type": "execute_result"
    }
   ],
   "source": [
    "# Veri setinde boş veya eksik veri var mi?\n",
    "data.isna().sum()"
   ]
  },
  {
   "cell_type": "code",
   "execution_count": 5,
   "id": "e35ddf7c",
   "metadata": {},
   "outputs": [
    {
     "data": {
      "text/html": [
       "<div>\n",
       "<style scoped>\n",
       "    .dataframe tbody tr th:only-of-type {\n",
       "        vertical-align: middle;\n",
       "    }\n",
       "\n",
       "    .dataframe tbody tr th {\n",
       "        vertical-align: top;\n",
       "    }\n",
       "\n",
       "    .dataframe thead th {\n",
       "        text-align: right;\n",
       "    }\n",
       "</style>\n",
       "<table border=\"1\" class=\"dataframe\">\n",
       "  <thead>\n",
       "    <tr style=\"text-align: right;\">\n",
       "      <th></th>\n",
       "      <th>Maliyet</th>\n",
       "      <th>Ağırlık Sınıfı</th>\n",
       "      <th>Özerk Yapı</th>\n",
       "      <th>Kontrol Sistemi</th>\n",
       "      <th>Faydalı Yük</th>\n",
       "      <th>Motor</th>\n",
       "      <th>Arazi Tipi</th>\n",
       "      <th>Yönlendirme Sistemi</th>\n",
       "      <th>Süspansiyon Sistemi</th>\n",
       "      <th>Gövde Malzemesi</th>\n",
       "      <th>...</th>\n",
       "      <th>Güç Aktarma Sistemi</th>\n",
       "      <th>Fren Sistemi</th>\n",
       "      <th>Isı Yönetim Sistemi</th>\n",
       "      <th>Elektrik Sistemi</th>\n",
       "      <th>Elektronik Üniteler</th>\n",
       "      <th>2 Tekerlekli</th>\n",
       "      <th>4 Tekerlekli</th>\n",
       "      <th>6 Tekerlekli</th>\n",
       "      <th>8 Tekerlekli</th>\n",
       "      <th>Paletli</th>\n",
       "    </tr>\n",
       "  </thead>\n",
       "  <tbody>\n",
       "    <tr>\n",
       "      <th>Maliyet</th>\n",
       "      <td>1.000000</td>\n",
       "      <td>0.566347</td>\n",
       "      <td>-0.010819</td>\n",
       "      <td>-0.004671</td>\n",
       "      <td>0.139245</td>\n",
       "      <td>0.265021</td>\n",
       "      <td>-0.005914</td>\n",
       "      <td>0.201652</td>\n",
       "      <td>0.830228</td>\n",
       "      <td>0.662083</td>\n",
       "      <td>...</td>\n",
       "      <td>0.269209</td>\n",
       "      <td>-0.117431</td>\n",
       "      <td>0.566579</td>\n",
       "      <td>0.473147</td>\n",
       "      <td>NaN</td>\n",
       "      <td>-0.221177</td>\n",
       "      <td>-0.274421</td>\n",
       "      <td>0.059463</td>\n",
       "      <td>0.364839</td>\n",
       "      <td>0.054104</td>\n",
       "    </tr>\n",
       "    <tr>\n",
       "      <th>Ağırlık Sınıfı</th>\n",
       "      <td>0.566347</td>\n",
       "      <td>1.000000</td>\n",
       "      <td>-0.007337</td>\n",
       "      <td>-0.006933</td>\n",
       "      <td>0.249858</td>\n",
       "      <td>0.471730</td>\n",
       "      <td>0.001125</td>\n",
       "      <td>0.062402</td>\n",
       "      <td>0.733189</td>\n",
       "      <td>0.734020</td>\n",
       "      <td>...</td>\n",
       "      <td>0.416010</td>\n",
       "      <td>0.374500</td>\n",
       "      <td>0.832614</td>\n",
       "      <td>0.831747</td>\n",
       "      <td>NaN</td>\n",
       "      <td>-0.390185</td>\n",
       "      <td>-0.200937</td>\n",
       "      <td>0.095586</td>\n",
       "      <td>0.350182</td>\n",
       "      <td>0.095296</td>\n",
       "    </tr>\n",
       "    <tr>\n",
       "      <th>Özerk Yapı</th>\n",
       "      <td>-0.010819</td>\n",
       "      <td>-0.007337</td>\n",
       "      <td>1.000000</td>\n",
       "      <td>-0.009285</td>\n",
       "      <td>-0.003233</td>\n",
       "      <td>-0.012535</td>\n",
       "      <td>0.002204</td>\n",
       "      <td>0.003819</td>\n",
       "      <td>-0.009681</td>\n",
       "      <td>-0.019154</td>\n",
       "      <td>...</td>\n",
       "      <td>-0.014975</td>\n",
       "      <td>-0.004379</td>\n",
       "      <td>-0.008569</td>\n",
       "      <td>-0.010842</td>\n",
       "      <td>NaN</td>\n",
       "      <td>0.016646</td>\n",
       "      <td>-0.011714</td>\n",
       "      <td>-0.005941</td>\n",
       "      <td>-0.009729</td>\n",
       "      <td>0.010381</td>\n",
       "    </tr>\n",
       "    <tr>\n",
       "      <th>Kontrol Sistemi</th>\n",
       "      <td>-0.004671</td>\n",
       "      <td>-0.006933</td>\n",
       "      <td>-0.009285</td>\n",
       "      <td>1.000000</td>\n",
       "      <td>-0.003363</td>\n",
       "      <td>-0.004935</td>\n",
       "      <td>0.006094</td>\n",
       "      <td>-0.001254</td>\n",
       "      <td>-0.005644</td>\n",
       "      <td>-0.010492</td>\n",
       "      <td>...</td>\n",
       "      <td>-0.007487</td>\n",
       "      <td>-0.002195</td>\n",
       "      <td>-0.006320</td>\n",
       "      <td>-0.007037</td>\n",
       "      <td>NaN</td>\n",
       "      <td>0.006936</td>\n",
       "      <td>0.003519</td>\n",
       "      <td>-0.003526</td>\n",
       "      <td>-0.005220</td>\n",
       "      <td>-0.000576</td>\n",
       "    </tr>\n",
       "    <tr>\n",
       "      <th>Faydalı Yük</th>\n",
       "      <td>0.139245</td>\n",
       "      <td>0.249858</td>\n",
       "      <td>-0.003233</td>\n",
       "      <td>-0.003363</td>\n",
       "      <td>1.000000</td>\n",
       "      <td>0.147140</td>\n",
       "      <td>-0.001336</td>\n",
       "      <td>0.000613</td>\n",
       "      <td>0.179520</td>\n",
       "      <td>0.239133</td>\n",
       "      <td>...</td>\n",
       "      <td>0.165366</td>\n",
       "      <td>0.145480</td>\n",
       "      <td>0.255212</td>\n",
       "      <td>0.262682</td>\n",
       "      <td>NaN</td>\n",
       "      <td>-0.167192</td>\n",
       "      <td>-0.013353</td>\n",
       "      <td>0.039729</td>\n",
       "      <td>0.069176</td>\n",
       "      <td>0.043760</td>\n",
       "    </tr>\n",
       "    <tr>\n",
       "      <th>Motor</th>\n",
       "      <td>0.265021</td>\n",
       "      <td>0.471730</td>\n",
       "      <td>-0.012535</td>\n",
       "      <td>-0.004935</td>\n",
       "      <td>0.147140</td>\n",
       "      <td>1.000000</td>\n",
       "      <td>0.004890</td>\n",
       "      <td>0.005069</td>\n",
       "      <td>0.325434</td>\n",
       "      <td>0.413725</td>\n",
       "      <td>...</td>\n",
       "      <td>0.851013</td>\n",
       "      <td>0.418363</td>\n",
       "      <td>0.403593</td>\n",
       "      <td>0.421920</td>\n",
       "      <td>NaN</td>\n",
       "      <td>-0.303466</td>\n",
       "      <td>-0.034062</td>\n",
       "      <td>0.078275</td>\n",
       "      <td>0.141668</td>\n",
       "      <td>0.069120</td>\n",
       "    </tr>\n",
       "    <tr>\n",
       "      <th>Arazi Tipi</th>\n",
       "      <td>-0.005914</td>\n",
       "      <td>0.001125</td>\n",
       "      <td>0.002204</td>\n",
       "      <td>0.006094</td>\n",
       "      <td>-0.001336</td>\n",
       "      <td>0.004890</td>\n",
       "      <td>1.000000</td>\n",
       "      <td>0.006004</td>\n",
       "      <td>-0.015048</td>\n",
       "      <td>-0.002548</td>\n",
       "      <td>...</td>\n",
       "      <td>0.006086</td>\n",
       "      <td>0.007165</td>\n",
       "      <td>0.001031</td>\n",
       "      <td>-0.000578</td>\n",
       "      <td>NaN</td>\n",
       "      <td>-0.004320</td>\n",
       "      <td>-0.000576</td>\n",
       "      <td>0.005280</td>\n",
       "      <td>-0.009497</td>\n",
       "      <td>0.005547</td>\n",
       "    </tr>\n",
       "    <tr>\n",
       "      <th>Yönlendirme Sistemi</th>\n",
       "      <td>0.201652</td>\n",
       "      <td>0.062402</td>\n",
       "      <td>0.003819</td>\n",
       "      <td>-0.001254</td>\n",
       "      <td>0.000613</td>\n",
       "      <td>0.005069</td>\n",
       "      <td>0.006004</td>\n",
       "      <td>1.000000</td>\n",
       "      <td>0.273453</td>\n",
       "      <td>-0.136441</td>\n",
       "      <td>...</td>\n",
       "      <td>0.011099</td>\n",
       "      <td>0.151497</td>\n",
       "      <td>0.120573</td>\n",
       "      <td>0.019163</td>\n",
       "      <td>NaN</td>\n",
       "      <td>-0.183143</td>\n",
       "      <td>-0.455412</td>\n",
       "      <td>-0.020240</td>\n",
       "      <td>0.445404</td>\n",
       "      <td>0.037451</td>\n",
       "    </tr>\n",
       "    <tr>\n",
       "      <th>Süspansiyon Sistemi</th>\n",
       "      <td>0.830228</td>\n",
       "      <td>0.733189</td>\n",
       "      <td>-0.009681</td>\n",
       "      <td>-0.005644</td>\n",
       "      <td>0.179520</td>\n",
       "      <td>0.325434</td>\n",
       "      <td>-0.015048</td>\n",
       "      <td>0.273453</td>\n",
       "      <td>1.000000</td>\n",
       "      <td>0.720653</td>\n",
       "      <td>...</td>\n",
       "      <td>0.273606</td>\n",
       "      <td>0.074316</td>\n",
       "      <td>0.665866</td>\n",
       "      <td>0.642705</td>\n",
       "      <td>NaN</td>\n",
       "      <td>-0.235574</td>\n",
       "      <td>-0.272959</td>\n",
       "      <td>0.088171</td>\n",
       "      <td>0.561253</td>\n",
       "      <td>-0.112923</td>\n",
       "    </tr>\n",
       "    <tr>\n",
       "      <th>Gövde Malzemesi</th>\n",
       "      <td>0.662083</td>\n",
       "      <td>0.734020</td>\n",
       "      <td>-0.019154</td>\n",
       "      <td>-0.010492</td>\n",
       "      <td>0.239133</td>\n",
       "      <td>0.413725</td>\n",
       "      <td>-0.002548</td>\n",
       "      <td>-0.136441</td>\n",
       "      <td>0.720653</td>\n",
       "      <td>1.000000</td>\n",
       "      <td>...</td>\n",
       "      <td>0.415673</td>\n",
       "      <td>0.049049</td>\n",
       "      <td>0.625625</td>\n",
       "      <td>0.730452</td>\n",
       "      <td>NaN</td>\n",
       "      <td>-0.446011</td>\n",
       "      <td>-0.155546</td>\n",
       "      <td>0.119385</td>\n",
       "      <td>0.310852</td>\n",
       "      <td>0.105785</td>\n",
       "    </tr>\n",
       "    <tr>\n",
       "      <th>Enerji Sistemi</th>\n",
       "      <td>0.295739</td>\n",
       "      <td>0.525281</td>\n",
       "      <td>-0.018092</td>\n",
       "      <td>-0.009740</td>\n",
       "      <td>0.204688</td>\n",
       "      <td>0.831187</td>\n",
       "      <td>0.006295</td>\n",
       "      <td>-0.027143</td>\n",
       "      <td>0.345088</td>\n",
       "      <td>0.558030</td>\n",
       "      <td>...</td>\n",
       "      <td>0.960373</td>\n",
       "      <td>0.508303</td>\n",
       "      <td>0.500460</td>\n",
       "      <td>0.539006</td>\n",
       "      <td>NaN</td>\n",
       "      <td>-0.482144</td>\n",
       "      <td>0.037569</td>\n",
       "      <td>0.130192</td>\n",
       "      <td>0.115689</td>\n",
       "      <td>0.111724</td>\n",
       "    </tr>\n",
       "    <tr>\n",
       "      <th>Güç Aktarma Sistemi</th>\n",
       "      <td>0.269209</td>\n",
       "      <td>0.416010</td>\n",
       "      <td>-0.014975</td>\n",
       "      <td>-0.007487</td>\n",
       "      <td>0.165366</td>\n",
       "      <td>0.851013</td>\n",
       "      <td>0.006086</td>\n",
       "      <td>0.011099</td>\n",
       "      <td>0.273606</td>\n",
       "      <td>0.415673</td>\n",
       "      <td>...</td>\n",
       "      <td>1.000000</td>\n",
       "      <td>0.455224</td>\n",
       "      <td>0.427786</td>\n",
       "      <td>0.426473</td>\n",
       "      <td>NaN</td>\n",
       "      <td>-0.399437</td>\n",
       "      <td>0.037567</td>\n",
       "      <td>0.108368</td>\n",
       "      <td>0.089414</td>\n",
       "      <td>0.091647</td>\n",
       "    </tr>\n",
       "    <tr>\n",
       "      <th>Fren Sistemi</th>\n",
       "      <td>-0.117431</td>\n",
       "      <td>0.374500</td>\n",
       "      <td>-0.004379</td>\n",
       "      <td>-0.002195</td>\n",
       "      <td>0.145480</td>\n",
       "      <td>0.418363</td>\n",
       "      <td>0.007165</td>\n",
       "      <td>0.151497</td>\n",
       "      <td>0.074316</td>\n",
       "      <td>0.049049</td>\n",
       "      <td>...</td>\n",
       "      <td>0.455224</td>\n",
       "      <td>1.000000</td>\n",
       "      <td>0.401869</td>\n",
       "      <td>0.397061</td>\n",
       "      <td>NaN</td>\n",
       "      <td>-0.314432</td>\n",
       "      <td>0.134475</td>\n",
       "      <td>0.086468</td>\n",
       "      <td>-0.038896</td>\n",
       "      <td>0.067899</td>\n",
       "    </tr>\n",
       "    <tr>\n",
       "      <th>Isı Yönetim Sistemi</th>\n",
       "      <td>0.566579</td>\n",
       "      <td>0.832614</td>\n",
       "      <td>-0.008569</td>\n",
       "      <td>-0.006320</td>\n",
       "      <td>0.255212</td>\n",
       "      <td>0.403593</td>\n",
       "      <td>0.001031</td>\n",
       "      <td>0.120573</td>\n",
       "      <td>0.665866</td>\n",
       "      <td>0.625625</td>\n",
       "      <td>...</td>\n",
       "      <td>0.427786</td>\n",
       "      <td>0.401869</td>\n",
       "      <td>1.000000</td>\n",
       "      <td>0.894093</td>\n",
       "      <td>NaN</td>\n",
       "      <td>-0.348140</td>\n",
       "      <td>-0.124395</td>\n",
       "      <td>0.092136</td>\n",
       "      <td>0.246176</td>\n",
       "      <td>0.083390</td>\n",
       "    </tr>\n",
       "    <tr>\n",
       "      <th>Elektrik Sistemi</th>\n",
       "      <td>0.473147</td>\n",
       "      <td>0.831747</td>\n",
       "      <td>-0.010842</td>\n",
       "      <td>-0.007037</td>\n",
       "      <td>0.262682</td>\n",
       "      <td>0.421920</td>\n",
       "      <td>-0.000578</td>\n",
       "      <td>0.019163</td>\n",
       "      <td>0.642705</td>\n",
       "      <td>0.730452</td>\n",
       "      <td>...</td>\n",
       "      <td>0.426473</td>\n",
       "      <td>0.397061</td>\n",
       "      <td>0.894093</td>\n",
       "      <td>1.000000</td>\n",
       "      <td>NaN</td>\n",
       "      <td>-0.389519</td>\n",
       "      <td>-0.104412</td>\n",
       "      <td>0.104030</td>\n",
       "      <td>0.239048</td>\n",
       "      <td>0.091461</td>\n",
       "    </tr>\n",
       "    <tr>\n",
       "      <th>Elektronik Üniteler</th>\n",
       "      <td>NaN</td>\n",
       "      <td>NaN</td>\n",
       "      <td>NaN</td>\n",
       "      <td>NaN</td>\n",
       "      <td>NaN</td>\n",
       "      <td>NaN</td>\n",
       "      <td>NaN</td>\n",
       "      <td>NaN</td>\n",
       "      <td>NaN</td>\n",
       "      <td>NaN</td>\n",
       "      <td>...</td>\n",
       "      <td>NaN</td>\n",
       "      <td>NaN</td>\n",
       "      <td>NaN</td>\n",
       "      <td>NaN</td>\n",
       "      <td>NaN</td>\n",
       "      <td>NaN</td>\n",
       "      <td>NaN</td>\n",
       "      <td>NaN</td>\n",
       "      <td>NaN</td>\n",
       "      <td>NaN</td>\n",
       "    </tr>\n",
       "    <tr>\n",
       "      <th>2 Tekerlekli</th>\n",
       "      <td>-0.221177</td>\n",
       "      <td>-0.390185</td>\n",
       "      <td>0.016646</td>\n",
       "      <td>0.006936</td>\n",
       "      <td>-0.167192</td>\n",
       "      <td>-0.303466</td>\n",
       "      <td>-0.004320</td>\n",
       "      <td>-0.183143</td>\n",
       "      <td>-0.235574</td>\n",
       "      <td>-0.446011</td>\n",
       "      <td>...</td>\n",
       "      <td>-0.399437</td>\n",
       "      <td>-0.314432</td>\n",
       "      <td>-0.348140</td>\n",
       "      <td>-0.389519</td>\n",
       "      <td>NaN</td>\n",
       "      <td>1.000000</td>\n",
       "      <td>-0.081031</td>\n",
       "      <td>-0.120699</td>\n",
       "      <td>-0.072382</td>\n",
       "      <td>-0.119942</td>\n",
       "    </tr>\n",
       "    <tr>\n",
       "      <th>4 Tekerlekli</th>\n",
       "      <td>-0.274421</td>\n",
       "      <td>-0.200937</td>\n",
       "      <td>-0.011714</td>\n",
       "      <td>0.003519</td>\n",
       "      <td>-0.013353</td>\n",
       "      <td>-0.034062</td>\n",
       "      <td>-0.000576</td>\n",
       "      <td>-0.455412</td>\n",
       "      <td>-0.272959</td>\n",
       "      <td>-0.155546</td>\n",
       "      <td>...</td>\n",
       "      <td>0.037567</td>\n",
       "      <td>0.134475</td>\n",
       "      <td>-0.124395</td>\n",
       "      <td>-0.104412</td>\n",
       "      <td>NaN</td>\n",
       "      <td>-0.081031</td>\n",
       "      <td>1.000000</td>\n",
       "      <td>-0.307609</td>\n",
       "      <td>-0.184470</td>\n",
       "      <td>-0.305678</td>\n",
       "    </tr>\n",
       "    <tr>\n",
       "      <th>6 Tekerlekli</th>\n",
       "      <td>0.059463</td>\n",
       "      <td>0.095586</td>\n",
       "      <td>-0.005941</td>\n",
       "      <td>-0.003526</td>\n",
       "      <td>0.039729</td>\n",
       "      <td>0.078275</td>\n",
       "      <td>0.005280</td>\n",
       "      <td>-0.020240</td>\n",
       "      <td>0.088171</td>\n",
       "      <td>0.119385</td>\n",
       "      <td>...</td>\n",
       "      <td>0.108368</td>\n",
       "      <td>0.086468</td>\n",
       "      <td>0.092136</td>\n",
       "      <td>0.104030</td>\n",
       "      <td>NaN</td>\n",
       "      <td>-0.120699</td>\n",
       "      <td>-0.307609</td>\n",
       "      <td>1.000000</td>\n",
       "      <td>-0.274777</td>\n",
       "      <td>-0.455320</td>\n",
       "    </tr>\n",
       "    <tr>\n",
       "      <th>8 Tekerlekli</th>\n",
       "      <td>0.364839</td>\n",
       "      <td>0.350182</td>\n",
       "      <td>-0.009729</td>\n",
       "      <td>-0.005220</td>\n",
       "      <td>0.069176</td>\n",
       "      <td>0.141668</td>\n",
       "      <td>-0.009497</td>\n",
       "      <td>0.445404</td>\n",
       "      <td>0.561253</td>\n",
       "      <td>0.310852</td>\n",
       "      <td>...</td>\n",
       "      <td>0.089414</td>\n",
       "      <td>-0.038896</td>\n",
       "      <td>0.246176</td>\n",
       "      <td>0.239048</td>\n",
       "      <td>NaN</td>\n",
       "      <td>-0.072382</td>\n",
       "      <td>-0.184470</td>\n",
       "      <td>-0.274777</td>\n",
       "      <td>1.000000</td>\n",
       "      <td>-0.273052</td>\n",
       "    </tr>\n",
       "    <tr>\n",
       "      <th>Paletli</th>\n",
       "      <td>0.054104</td>\n",
       "      <td>0.095296</td>\n",
       "      <td>0.010381</td>\n",
       "      <td>-0.000576</td>\n",
       "      <td>0.043760</td>\n",
       "      <td>0.069120</td>\n",
       "      <td>0.005547</td>\n",
       "      <td>0.037451</td>\n",
       "      <td>-0.112923</td>\n",
       "      <td>0.105785</td>\n",
       "      <td>...</td>\n",
       "      <td>0.091647</td>\n",
       "      <td>0.067899</td>\n",
       "      <td>0.083390</td>\n",
       "      <td>0.091461</td>\n",
       "      <td>NaN</td>\n",
       "      <td>-0.119942</td>\n",
       "      <td>-0.305678</td>\n",
       "      <td>-0.455320</td>\n",
       "      <td>-0.273052</td>\n",
       "      <td>1.000000</td>\n",
       "    </tr>\n",
       "  </tbody>\n",
       "</table>\n",
       "<p>21 rows × 21 columns</p>\n",
       "</div>"
      ],
      "text/plain": [
       "                      Maliyet  Ağırlık Sınıfı  Özerk Yapı  Kontrol Sistemi  \\\n",
       "Maliyet              1.000000        0.566347   -0.010819        -0.004671   \n",
       "Ağırlık Sınıfı       0.566347        1.000000   -0.007337        -0.006933   \n",
       "Özerk Yapı          -0.010819       -0.007337    1.000000        -0.009285   \n",
       "Kontrol Sistemi     -0.004671       -0.006933   -0.009285         1.000000   \n",
       "Faydalı Yük          0.139245        0.249858   -0.003233        -0.003363   \n",
       "Motor                0.265021        0.471730   -0.012535        -0.004935   \n",
       "Arazi Tipi          -0.005914        0.001125    0.002204         0.006094   \n",
       "Yönlendirme Sistemi  0.201652        0.062402    0.003819        -0.001254   \n",
       "Süspansiyon Sistemi  0.830228        0.733189   -0.009681        -0.005644   \n",
       "Gövde Malzemesi      0.662083        0.734020   -0.019154        -0.010492   \n",
       "Enerji Sistemi       0.295739        0.525281   -0.018092        -0.009740   \n",
       "Güç Aktarma Sistemi  0.269209        0.416010   -0.014975        -0.007487   \n",
       "Fren Sistemi        -0.117431        0.374500   -0.004379        -0.002195   \n",
       "Isı Yönetim Sistemi  0.566579        0.832614   -0.008569        -0.006320   \n",
       "Elektrik Sistemi     0.473147        0.831747   -0.010842        -0.007037   \n",
       "Elektronik Üniteler       NaN             NaN         NaN              NaN   \n",
       "2 Tekerlekli        -0.221177       -0.390185    0.016646         0.006936   \n",
       "4 Tekerlekli        -0.274421       -0.200937   -0.011714         0.003519   \n",
       "6 Tekerlekli         0.059463        0.095586   -0.005941        -0.003526   \n",
       "8 Tekerlekli         0.364839        0.350182   -0.009729        -0.005220   \n",
       "Paletli              0.054104        0.095296    0.010381        -0.000576   \n",
       "\n",
       "                     Faydalı Yük     Motor  Arazi Tipi  Yönlendirme Sistemi  \\\n",
       "Maliyet                 0.139245  0.265021   -0.005914             0.201652   \n",
       "Ağırlık Sınıfı          0.249858  0.471730    0.001125             0.062402   \n",
       "Özerk Yapı             -0.003233 -0.012535    0.002204             0.003819   \n",
       "Kontrol Sistemi        -0.003363 -0.004935    0.006094            -0.001254   \n",
       "Faydalı Yük             1.000000  0.147140   -0.001336             0.000613   \n",
       "Motor                   0.147140  1.000000    0.004890             0.005069   \n",
       "Arazi Tipi             -0.001336  0.004890    1.000000             0.006004   \n",
       "Yönlendirme Sistemi     0.000613  0.005069    0.006004             1.000000   \n",
       "Süspansiyon Sistemi     0.179520  0.325434   -0.015048             0.273453   \n",
       "Gövde Malzemesi         0.239133  0.413725   -0.002548            -0.136441   \n",
       "Enerji Sistemi          0.204688  0.831187    0.006295            -0.027143   \n",
       "Güç Aktarma Sistemi     0.165366  0.851013    0.006086             0.011099   \n",
       "Fren Sistemi            0.145480  0.418363    0.007165             0.151497   \n",
       "Isı Yönetim Sistemi     0.255212  0.403593    0.001031             0.120573   \n",
       "Elektrik Sistemi        0.262682  0.421920   -0.000578             0.019163   \n",
       "Elektronik Üniteler          NaN       NaN         NaN                  NaN   \n",
       "2 Tekerlekli           -0.167192 -0.303466   -0.004320            -0.183143   \n",
       "4 Tekerlekli           -0.013353 -0.034062   -0.000576            -0.455412   \n",
       "6 Tekerlekli            0.039729  0.078275    0.005280            -0.020240   \n",
       "8 Tekerlekli            0.069176  0.141668   -0.009497             0.445404   \n",
       "Paletli                 0.043760  0.069120    0.005547             0.037451   \n",
       "\n",
       "                     Süspansiyon Sistemi  Gövde Malzemesi  ...  \\\n",
       "Maliyet                         0.830228         0.662083  ...   \n",
       "Ağırlık Sınıfı                  0.733189         0.734020  ...   \n",
       "Özerk Yapı                     -0.009681        -0.019154  ...   \n",
       "Kontrol Sistemi                -0.005644        -0.010492  ...   \n",
       "Faydalı Yük                     0.179520         0.239133  ...   \n",
       "Motor                           0.325434         0.413725  ...   \n",
       "Arazi Tipi                     -0.015048        -0.002548  ...   \n",
       "Yönlendirme Sistemi             0.273453        -0.136441  ...   \n",
       "Süspansiyon Sistemi             1.000000         0.720653  ...   \n",
       "Gövde Malzemesi                 0.720653         1.000000  ...   \n",
       "Enerji Sistemi                  0.345088         0.558030  ...   \n",
       "Güç Aktarma Sistemi             0.273606         0.415673  ...   \n",
       "Fren Sistemi                    0.074316         0.049049  ...   \n",
       "Isı Yönetim Sistemi             0.665866         0.625625  ...   \n",
       "Elektrik Sistemi                0.642705         0.730452  ...   \n",
       "Elektronik Üniteler                  NaN              NaN  ...   \n",
       "2 Tekerlekli                   -0.235574        -0.446011  ...   \n",
       "4 Tekerlekli                   -0.272959        -0.155546  ...   \n",
       "6 Tekerlekli                    0.088171         0.119385  ...   \n",
       "8 Tekerlekli                    0.561253         0.310852  ...   \n",
       "Paletli                        -0.112923         0.105785  ...   \n",
       "\n",
       "                     Güç Aktarma Sistemi  Fren Sistemi  Isı Yönetim Sistemi  \\\n",
       "Maliyet                         0.269209     -0.117431             0.566579   \n",
       "Ağırlık Sınıfı                  0.416010      0.374500             0.832614   \n",
       "Özerk Yapı                     -0.014975     -0.004379            -0.008569   \n",
       "Kontrol Sistemi                -0.007487     -0.002195            -0.006320   \n",
       "Faydalı Yük                     0.165366      0.145480             0.255212   \n",
       "Motor                           0.851013      0.418363             0.403593   \n",
       "Arazi Tipi                      0.006086      0.007165             0.001031   \n",
       "Yönlendirme Sistemi             0.011099      0.151497             0.120573   \n",
       "Süspansiyon Sistemi             0.273606      0.074316             0.665866   \n",
       "Gövde Malzemesi                 0.415673      0.049049             0.625625   \n",
       "Enerji Sistemi                  0.960373      0.508303             0.500460   \n",
       "Güç Aktarma Sistemi             1.000000      0.455224             0.427786   \n",
       "Fren Sistemi                    0.455224      1.000000             0.401869   \n",
       "Isı Yönetim Sistemi             0.427786      0.401869             1.000000   \n",
       "Elektrik Sistemi                0.426473      0.397061             0.894093   \n",
       "Elektronik Üniteler                  NaN           NaN                  NaN   \n",
       "2 Tekerlekli                   -0.399437     -0.314432            -0.348140   \n",
       "4 Tekerlekli                    0.037567      0.134475            -0.124395   \n",
       "6 Tekerlekli                    0.108368      0.086468             0.092136   \n",
       "8 Tekerlekli                    0.089414     -0.038896             0.246176   \n",
       "Paletli                         0.091647      0.067899             0.083390   \n",
       "\n",
       "                     Elektrik Sistemi  Elektronik Üniteler  2 Tekerlekli  \\\n",
       "Maliyet                      0.473147                  NaN     -0.221177   \n",
       "Ağırlık Sınıfı               0.831747                  NaN     -0.390185   \n",
       "Özerk Yapı                  -0.010842                  NaN      0.016646   \n",
       "Kontrol Sistemi             -0.007037                  NaN      0.006936   \n",
       "Faydalı Yük                  0.262682                  NaN     -0.167192   \n",
       "Motor                        0.421920                  NaN     -0.303466   \n",
       "Arazi Tipi                  -0.000578                  NaN     -0.004320   \n",
       "Yönlendirme Sistemi          0.019163                  NaN     -0.183143   \n",
       "Süspansiyon Sistemi          0.642705                  NaN     -0.235574   \n",
       "Gövde Malzemesi              0.730452                  NaN     -0.446011   \n",
       "Enerji Sistemi               0.539006                  NaN     -0.482144   \n",
       "Güç Aktarma Sistemi          0.426473                  NaN     -0.399437   \n",
       "Fren Sistemi                 0.397061                  NaN     -0.314432   \n",
       "Isı Yönetim Sistemi          0.894093                  NaN     -0.348140   \n",
       "Elektrik Sistemi             1.000000                  NaN     -0.389519   \n",
       "Elektronik Üniteler               NaN                  NaN           NaN   \n",
       "2 Tekerlekli                -0.389519                  NaN      1.000000   \n",
       "4 Tekerlekli                -0.104412                  NaN     -0.081031   \n",
       "6 Tekerlekli                 0.104030                  NaN     -0.120699   \n",
       "8 Tekerlekli                 0.239048                  NaN     -0.072382   \n",
       "Paletli                      0.091461                  NaN     -0.119942   \n",
       "\n",
       "                     4 Tekerlekli   6 Tekerlekli   8 Tekerlekli   Paletli   \n",
       "Maliyet                  -0.274421       0.059463       0.364839  0.054104  \n",
       "Ağırlık Sınıfı           -0.200937       0.095586       0.350182  0.095296  \n",
       "Özerk Yapı               -0.011714      -0.005941      -0.009729  0.010381  \n",
       "Kontrol Sistemi           0.003519      -0.003526      -0.005220 -0.000576  \n",
       "Faydalı Yük              -0.013353       0.039729       0.069176  0.043760  \n",
       "Motor                    -0.034062       0.078275       0.141668  0.069120  \n",
       "Arazi Tipi               -0.000576       0.005280      -0.009497  0.005547  \n",
       "Yönlendirme Sistemi      -0.455412      -0.020240       0.445404  0.037451  \n",
       "Süspansiyon Sistemi      -0.272959       0.088171       0.561253 -0.112923  \n",
       "Gövde Malzemesi          -0.155546       0.119385       0.310852  0.105785  \n",
       "Enerji Sistemi            0.037569       0.130192       0.115689  0.111724  \n",
       "Güç Aktarma Sistemi       0.037567       0.108368       0.089414  0.091647  \n",
       "Fren Sistemi              0.134475       0.086468      -0.038896  0.067899  \n",
       "Isı Yönetim Sistemi      -0.124395       0.092136       0.246176  0.083390  \n",
       "Elektrik Sistemi         -0.104412       0.104030       0.239048  0.091461  \n",
       "Elektronik Üniteler            NaN            NaN            NaN       NaN  \n",
       "2 Tekerlekli             -0.081031      -0.120699      -0.072382 -0.119942  \n",
       "4 Tekerlekli              1.000000      -0.307609      -0.184470 -0.305678  \n",
       "6 Tekerlekli             -0.307609       1.000000      -0.274777 -0.455320  \n",
       "8 Tekerlekli             -0.184470      -0.274777       1.000000 -0.273052  \n",
       "Paletli                  -0.305678      -0.455320      -0.273052  1.000000  \n",
       "\n",
       "[21 rows x 21 columns]"
      ]
     },
     "execution_count": 5,
     "metadata": {},
     "output_type": "execute_result"
    }
   ],
   "source": [
    "# Veri Setindeki corelasyon\n",
    "data.corr()"
   ]
  },
  {
   "cell_type": "code",
   "execution_count": 6,
   "id": "7acf8e4d",
   "metadata": {},
   "outputs": [
    {
     "data": {
      "text/plain": [
       "<Axes: >"
      ]
     },
     "execution_count": 6,
     "metadata": {},
     "output_type": "execute_result"
    },
    {
     "data": {
      "image/png": "[encoded data removed]",
      "text/plain": [
       "<Figure size 640x480 with 2 Axes>"
      ]
     },
     "metadata": {},
     "output_type": "display_data"
    }
   ],
   "source": [
    "sns.heatmap(data.corr())"
   ]
  },
  {
   "cell_type": "code",
   "execution_count": 7,
   "id": "2bd6a166",
   "metadata": {},
   "outputs": [],
   "source": [
    "X = data.iloc[:,:15]"
   ]
  },
  {
   "cell_type": "code",
   "execution_count": 8,
   "id": "c42b8dce",
   "metadata": {},
   "outputs": [],
   "source": [
    "y = data.iloc[:,16:]"
   ]
  },
  {
   "cell_type": "code",
   "execution_count": 9,
   "id": "7e137182",
   "metadata": {},
   "outputs": [
    {
     "data": {
      "text/plain": [
       "Index(['Maliyet', 'Ağırlık Sınıfı', 'Özerk Yapı', 'Kontrol Sistemi',\n",
       "       'Faydalı Yük', 'Motor', 'Arazi Tipi', 'Yönlendirme Sistemi',\n",
       "       'Süspansiyon Sistemi', 'Gövde Malzemesi', 'Enerji Sistemi',\n",
       "       'Güç Aktarma Sistemi', 'Fren Sistemi', 'Isı Yönetim Sistemi',\n",
       "       'Elektrik Sistemi'],\n",
       "      dtype='object')"
      ]
     },
     "execution_count": 9,
     "metadata": {},
     "output_type": "execute_result"
    }
   ],
   "source": [
    "X.columns"
   ]
  },
  {
   "cell_type": "code",
   "execution_count": 10,
   "id": "0d82c50a",
   "metadata": {},
   "outputs": [],
   "source": [
    "X = pd.get_dummies(X,columns=['Maliyet', 'Ağırlık Sınıfı', 'Özerk Yapı', 'Kontrol Sistemi',\n",
    "       'Faydalı Yük', 'Motor', 'Arazi Tipi', 'Yönlendirme Sistemi',\n",
    "       'Süspansiyon Sistemi', 'Gövde Malzemesi', 'Enerji Sistemi',\n",
    "       'Güç Aktarma Sistemi', 'Fren Sistemi', 'Isı Yönetim Sistemi',\n",
    "       'Elektrik Sistemi'],drop_first=True)"
   ]
  },
  {
   "cell_type": "code",
   "execution_count": 11,
   "id": "f1d0bdee",
   "metadata": {},
   "outputs": [],
   "source": [
    "x_train, x_test, y_train, y_test = train_test_split(X.apply(lambda x:x*1),y,test_size=0.2,shuffle=True)"
   ]
  },
  {
   "cell_type": "code",
   "execution_count": 12,
   "id": "4cb2e8e2",
   "metadata": {},
   "outputs": [],
   "source": [
    "x_train, x_valid, y_train, y_valid = train_test_split(x_train,y_train,test_size=0.25,shuffle=True)"
   ]
  },
  {
   "cell_type": "code",
   "execution_count": 13,
   "id": "a97bd315",
   "metadata": {},
   "outputs": [
    {
     "data": {
      "text/plain": [
       "(2142, 51)"
      ]
     },
     "execution_count": 13,
     "metadata": {},
     "output_type": "execute_result"
    }
   ],
   "source": [
    "x_valid.shape"
   ]
  },
  {
   "cell_type": "code",
   "execution_count": null,
   "id": "4d072014",
   "metadata": {},
   "outputs": [],
   "source": [
    "x_test[:5].values"
   ]
  },
  {
   "cell_type": "code",
   "execution_count": null,
   "id": "c7176886",
   "metadata": {},
   "outputs": [],
   "source": [
    "from tensorflow.keras import optimizers\n",
    "adam = optimizers.Adam(learning_rate=0.01)\n",
    "adagrad = optimizers.Adagrad(learning_rate=0.01)\n",
    "nadam = optimizers.Nadam(learning_rate=0.001)\n",
    "sgd = optimizers.SGD(learning_rate=0.001)"
   ]
  },
  {
   "cell_type": "markdown",
   "id": "f2f49cc0",
   "metadata": {},
   "source": [
    "### KNN Classification"
   ]
  },
  {
   "cell_type": "code",
   "execution_count": null,
   "id": "b52a4960",
   "metadata": {},
   "outputs": [],
   "source": [
    "knn = KNeighborsClassifier(n_neighbors=41)"
   ]
  },
  {
   "cell_type": "code",
   "execution_count": null,
   "id": "57641ed8",
   "metadata": {},
   "outputs": [],
   "source": [
    "knn.fit(x_train,y_train)"
   ]
  },
  {
   "cell_type": "code",
   "execution_count": null,
   "id": "e084d8c4",
   "metadata": {},
   "outputs": [],
   "source": [
    "predict = knn.predict(x_test)"
   ]
  },
  {
   "cell_type": "code",
   "execution_count": null,
   "id": "cd910ce5",
   "metadata": {},
   "outputs": [],
   "source": [
    "f1_score = classification_report(predict,y_test)"
   ]
  },
  {
   "cell_type": "code",
   "execution_count": null,
   "id": "7c6e73f1",
   "metadata": {},
   "outputs": [],
   "source": [
    "acc = accuracy_score(predict,y_test)\n",
    "acc"
   ]
  },
  {
   "cell_type": "markdown",
   "id": "f487be67",
   "metadata": {},
   "source": [
    "### Decision Tree"
   ]
  },
  {
   "cell_type": "code",
   "execution_count": null,
   "id": "c48f93b1",
   "metadata": {},
   "outputs": [],
   "source": [
    "dt = DecisionTreeClassifier(criterion='gini',\n",
    "    splitter='best')"
   ]
  },
  {
   "cell_type": "code",
   "execution_count": null,
   "id": "a0d0e52a",
   "metadata": {},
   "outputs": [],
   "source": [
    "dt.fit(x_train,y_train)"
   ]
  },
  {
   "cell_type": "code",
   "execution_count": null,
   "id": "3f235682",
   "metadata": {},
   "outputs": [],
   "source": [
    "predict = dt.predict(x_test)"
   ]
  },
  {
   "cell_type": "code",
   "execution_count": null,
   "id": "d234807a",
   "metadata": {},
   "outputs": [],
   "source": [
    "acc = accuracy_score(predict,y_test)"
   ]
  },
  {
   "cell_type": "code",
   "execution_count": null,
   "id": "721fcdbd",
   "metadata": {},
   "outputs": [],
   "source": [
    "acc"
   ]
  },
  {
   "cell_type": "markdown",
   "id": "685f9883",
   "metadata": {},
   "source": [
    "### Random Forest"
   ]
  },
  {
   "cell_type": "code",
   "execution_count": null,
   "id": "f975b67a",
   "metadata": {},
   "outputs": [],
   "source": [
    "rf = RandomForestClassifier(n_estimators=150)"
   ]
  },
  {
   "cell_type": "code",
   "execution_count": null,
   "id": "6b4544d2",
   "metadata": {},
   "outputs": [],
   "source": [
    "rf.fit(x_train,y_train)"
   ]
  },
  {
   "cell_type": "code",
   "execution_count": null,
   "id": "2bc09a2b",
   "metadata": {},
   "outputs": [],
   "source": [
    "predict = rf.predict(x_test)"
   ]
  },
  {
   "cell_type": "code",
   "execution_count": null,
   "id": "c071c4d1",
   "metadata": {},
   "outputs": [],
   "source": [
    "acc = accuracy_score(predict,y_test)"
   ]
  },
  {
   "cell_type": "code",
   "execution_count": null,
   "id": "17b87d42",
   "metadata": {},
   "outputs": [],
   "source": [
    "acc"
   ]
  },
  {
   "cell_type": "markdown",
   "id": "e7d02fd6",
   "metadata": {},
   "source": [
    "### Naive Biase"
   ]
  },
  {
   "cell_type": "code",
   "execution_count": null,
   "id": "ad059018",
   "metadata": {},
   "outputs": [],
   "source": [
    "nb = MultiOutputClassifier(MultinomialNB())"
   ]
  },
  {
   "cell_type": "code",
   "execution_count": null,
   "id": "4a8dc659",
   "metadata": {},
   "outputs": [],
   "source": [
    "nb.fit(x_train,y_train)"
   ]
  },
  {
   "cell_type": "code",
   "execution_count": null,
   "id": "46b2d7f0",
   "metadata": {},
   "outputs": [],
   "source": [
    "predict = nb.predict(x_test)"
   ]
  },
  {
   "cell_type": "code",
   "execution_count": null,
   "id": "09d78b8a",
   "metadata": {},
   "outputs": [],
   "source": [
    "acc = accuracy_score(predict,y_test)"
   ]
  },
  {
   "cell_type": "code",
   "execution_count": null,
   "id": "609abe72",
   "metadata": {},
   "outputs": [],
   "source": [
    "acc"
   ]
  },
  {
   "cell_type": "code",
   "execution_count": null,
   "id": "b9be849e",
   "metadata": {},
   "outputs": [],
   "source": [
    "x_train.shape\n",
    "x_train.shape"
   ]
  },
  {
   "cell_type": "markdown",
   "id": "a045c77e",
   "metadata": {},
   "source": [
    "### Support Vector Machine"
   ]
  },
  {
   "cell_type": "code",
   "execution_count": null,
   "id": "7cf0b8f6",
   "metadata": {},
   "outputs": [],
   "source": [
    "svm = SVC()"
   ]
  },
  {
   "cell_type": "code",
   "execution_count": null,
   "id": "50da3162",
   "metadata": {},
   "outputs": [],
   "source": [
    "y_train_new = y_train.to_numpy()\n",
    "y_new = y_train_new.reshape(-1,1)\n",
    "x_train = x_train.to_numpy()"
   ]
  },
  {
   "cell_type": "code",
   "execution_count": null,
   "id": "b9faac31",
   "metadata": {},
   "outputs": [],
   "source": [
    "print(x_train.shape)\n",
    "print(y_new.shape)"
   ]
  },
  {
   "cell_type": "code",
   "execution_count": null,
   "id": "f457bd38",
   "metadata": {},
   "outputs": [],
   "source": [
    "svm.fit(x_train,y_train_new.argmax(axis=1))"
   ]
  },
  {
   "cell_type": "code",
   "execution_count": null,
   "id": "a0784762",
   "metadata": {},
   "outputs": [],
   "source": [
    "predictions = svm.predict(x_test.to_numpy())"
   ]
  },
  {
   "cell_type": "code",
   "execution_count": null,
   "id": "b43c8b78",
   "metadata": {},
   "outputs": [],
   "source": [
    "acc = accuracy_score(predictions,y_test.to_numpy().argmax(axis=1))"
   ]
  },
  {
   "cell_type": "code",
   "execution_count": null,
   "id": "2b5cae42",
   "metadata": {},
   "outputs": [],
   "source": [
    "acc"
   ]
  },
  {
   "cell_type": "code",
   "execution_count": null,
   "id": "7fa8e0ed",
   "metadata": {},
   "outputs": [],
   "source": []
  },
  {
   "cell_type": "code",
   "execution_count": null,
   "id": "bfdea436",
   "metadata": {},
   "outputs": [],
   "source": [
    "from tensorflow.keras.callbacks import EarlyStopping"
   ]
  },
  {
   "cell_type": "code",
   "execution_count": null,
   "id": "0112ef69",
   "metadata": {},
   "outputs": [],
   "source": [
    "early_stop = EarlyStopping(monitor='val_loss',patience=5,verbose=1,restore_best_weights=True)"
   ]
  },
  {
   "cell_type": "markdown",
   "id": "7a0c51cd",
   "metadata": {},
   "source": [
    "### ANN"
   ]
  },
  {
   "cell_type": "code",
   "execution_count": null,
   "id": "78070e29",
   "metadata": {},
   "outputs": [],
   "source": [
    "model = Sequential()\n",
    "\n",
    "model.add(Dense(64,activation=\"tanh\",input_shape=(None,66)))\n",
    "model.add(Dropout(0.5))\n",
    "model.add(Dense(128,activation=\"tanh\"))\n",
    "model.add(Dropout(0.5))\n",
    "model.add(Dense(64,activation=\"tanh\"))\n",
    "model.add(Dropout(0.5))\n",
    "model.add(Dense(16,activation=\"tanh\"));\n",
    "model.add(Dropout(0.5))\n",
    "model.add(Dense(5,activation=\"softmax\"))\n",
    "\n",
    "model.compile(optimizer=sgd, loss=\"categorical_crossentropy\", metrics=[\"accuracy\"])"
   ]
  },
  {
   "cell_type": "code",
   "execution_count": null,
   "id": "e2f69494",
   "metadata": {
    "scrolled": true
   },
   "outputs": [],
   "source": [
    "model.summary()"
   ]
  },
  {
   "cell_type": "code",
   "execution_count": null,
   "id": "a63a90bb",
   "metadata": {},
   "outputs": [],
   "source": [
    "model.fit(x_train,\n",
    "          y_train,\n",
    "          verbose=1,\n",
    "          epochs=150,\n",
    "          batch_size=32,\n",
    "          validation_data=(x_valid,y_valid)\n",
    "         )"
   ]
  },
  {
   "cell_type": "code",
   "execution_count": null,
   "id": "dabb91e9",
   "metadata": {},
   "outputs": [],
   "source": [
    "# print(model.history.history)"
   ]
  },
  {
   "cell_type": "code",
   "execution_count": null,
   "id": "9325d174",
   "metadata": {},
   "outputs": [],
   "source": [
    "plt.plot(model.history.history['accuracy'])\n",
    "plt.plot(model.history.history['val_accuracy'])\n",
    "plt.title('model accuracy')\n",
    "plt.ylabel('Accuracy')\n",
    "plt.xlabel('Epoch')\n",
    "plt.legend(['train', 'val'], loc='lower right')\n",
    "plt.savefig('acc.png')\n",
    "plt.show()"
   ]
  },
  {
   "cell_type": "code",
   "execution_count": null,
   "id": "e673cf53",
   "metadata": {
    "scrolled": false
   },
   "outputs": [],
   "source": [
    "plt.plot(model.history.history['loss'])\n",
    "plt.plot(model.history.history['val_loss'])\n",
    "plt.title('model loss')\n",
    "plt.ylabel('loss')\n",
    "plt.xlabel('epoch')\n",
    "plt.legend(['train', 'val'], loc='upper right')\n",
    "plt.savefig('loss.png')\n",
    "plt.show()"
   ]
  },
  {
   "cell_type": "code",
   "execution_count": null,
   "id": "787fd854",
   "metadata": {},
   "outputs": [],
   "source": [
    "h = model.history.history"
   ]
  },
  {
   "cell_type": "code",
   "execution_count": 15,
   "id": "8dbaf3c7",
   "metadata": {},
   "outputs": [],
   "source": [
    "from tensorflow.keras.models import load_model"
   ]
  },
  {
   "cell_type": "code",
   "execution_count": null,
   "id": "759d963c",
   "metadata": {},
   "outputs": [],
   "source": [
    " model.save(\"ysa_sgd_tanh.keras\")"
   ]
  },
  {
   "cell_type": "code",
   "execution_count": 16,
   "id": "511974b3",
   "metadata": {},
   "outputs": [
    {
     "name": "stdout",
     "output_type": "stream",
     "text": [
      "WARNING:tensorflow:From C:\\Users\\D4rkS\\anaconda3\\lib\\site-packages\\keras\\src\\backend.py:1398: The name tf.executing_eagerly_outside_functions is deprecated. Please use tf.compat.v1.executing_eagerly_outside_functions instead.\n",
      "\n",
      "WARNING:tensorflow:From C:\\Users\\D4rkS\\anaconda3\\lib\\site-packages\\keras\\src\\optimizers\\__init__.py:309: The name tf.train.Optimizer is deprecated. Please use tf.compat.v1.train.Optimizer instead.\n",
      "\n"
     ]
    }
   ],
   "source": [
    "model = load_model('ysa2.keras')"
   ]
  },
  {
   "cell_type": "code",
   "execution_count": 17,
   "id": "f034134e",
   "metadata": {},
   "outputs": [
    {
     "name": "stdout",
     "output_type": "stream",
     "text": [
      "67/67 [==============================] - 0s 816us/step\n"
     ]
    }
   ],
   "source": [
    "predict = model.predict(x_test)\n",
    "predict = (predict>0.5)*1\n",
    "acc = accuracy_score(y_test,predict)"
   ]
  },
  {
   "cell_type": "code",
   "execution_count": 18,
   "id": "b376ff43",
   "metadata": {},
   "outputs": [
    {
     "data": {
      "text/plain": [
       "0.9981325863678805"
      ]
     },
     "execution_count": 18,
     "metadata": {},
     "output_type": "execute_result"
    }
   ],
   "source": [
    "acc"
   ]
  },
  {
   "cell_type": "code",
   "execution_count": null,
   "id": "acbe148f",
   "metadata": {},
   "outputs": [],
   "source": [
    "predict"
   ]
  },
  {
   "cell_type": "code",
   "execution_count": null,
   "id": "1680864a",
   "metadata": {},
   "outputs": [],
   "source": [
    "data.shape"
   ]
  },
  {
   "cell_type": "markdown",
   "id": "f0c1f03b",
   "metadata": {},
   "source": [
    "### Cross Validaiton on ANN"
   ]
  },
  {
   "cell_type": "code",
   "execution_count": null,
   "id": "bcee5e75",
   "metadata": {},
   "outputs": [],
   "source": [
    "from sklearn.model_selection import cross_val_score, KFold,cross_validate"
   ]
  },
  {
   "cell_type": "code",
   "execution_count": null,
   "id": "64768526",
   "metadata": {},
   "outputs": [],
   "source": [
    "X*1"
   ]
  },
  {
   "cell_type": "code",
   "execution_count": null,
   "id": "31ae33e7",
   "metadata": {},
   "outputs": [],
   "source": [
    "X = np.array(X)*1\n",
    "y = np.array(y)*1"
   ]
  },
  {
   "cell_type": "code",
   "execution_count": null,
   "id": "d4a38be0",
   "metadata": {},
   "outputs": [],
   "source": [
    "kf = KFold(n_splits=10, shuffle=True, random_state=42)\n"
   ]
  },
  {
   "cell_type": "code",
   "execution_count": null,
   "id": "432edd81",
   "metadata": {},
   "outputs": [],
   "source": [
    "epoch = 50\n",
    "\n",
    "fold_number = 1\n",
    "\n",
    "batch_size = 32\n",
    "\n",
    "acc_per_fold = []\n",
    "\n",
    "loss_per_fold = []\n",
    "\n",
    "for train,test in kf.split(X,y):\n",
    "    \n",
    "    model = Sequential()\n",
    "\n",
    "    model.add(Dense(32,activation=\"relu\",input_shape=(None,51)))\n",
    "    model.add(Dropout(0.5))\n",
    "    model.add(Dense(64,activation=\"relu\"))\n",
    "    model.add(Dropout(0.5))\n",
    "    model.add(Dense(128,activation=\"relu\"))\n",
    "    model.add(Dropout(0.5))\n",
    "    model.add(Dense(64,activation=\"relu\"))\n",
    "    model.add(Dropout(0.5))\n",
    "    model.add(Dense(6,activation=\"softmax\"))\n",
    "\n",
    "    model.compile(loss=\"categorical_crossentropy\",optimizer=\"adam\", metrics=[\"accuracy\"])\n",
    "    \n",
    "    print('------------------------------------------------------------')\n",
    "    print(f'Trainin for {fold_number} fold')\n",
    "    \n",
    "    model.fit(X[train],\n",
    "              y[train],\n",
    "              batch_size=batch_size,\n",
    "              epochs=epoch)\n",
    "    \n",
    "    scores = model.evaluate(X[test],y[test])\n",
    "    print(f\"Score for {fold_number} fold: = {model.metrics_names[0]} of {scores[0]}; {model.metrics_names[1]} of {scores[1]*100}%\")\n",
    "    \n",
    "    acc_per_fold.append(scores[1]*100)\n",
    "    loss_per_fold.append(scores[0])\n",
    "    \n",
    "    fold_number +=1"
   ]
  },
  {
   "cell_type": "code",
   "execution_count": null,
   "id": "ebc88162",
   "metadata": {},
   "outputs": [],
   "source": [
    "acc_per_fold"
   ]
  },
  {
   "cell_type": "markdown",
   "id": "d7dbf6de",
   "metadata": {},
   "source": [
    "### Plot the result of the model"
   ]
  },
  {
   "cell_type": "code",
   "execution_count": 19,
   "id": "87fefcac",
   "metadata": {},
   "outputs": [],
   "source": [
    "from sklearn.metrics import confusion_matrix,classification_report,f1_score"
   ]
  },
  {
   "cell_type": "code",
   "execution_count": 20,
   "id": "9dd1a09c",
   "metadata": {
    "scrolled": false
   },
   "outputs": [
    {
     "name": "stdout",
     "output_type": "stream",
     "text": [
      "              precision    recall  f1-score   support\n",
      "\n",
      "           0       1.00      1.00      1.00       134\n",
      "           1       1.00      0.99      0.99       366\n",
      "           2       1.00      1.00      1.00       655\n",
      "           3       1.00      1.00      1.00       321\n",
      "           4       0.99      1.00      1.00       666\n",
      "\n",
      "    accuracy                           1.00      2142\n",
      "   macro avg       1.00      1.00      1.00      2142\n",
      "weighted avg       1.00      1.00      1.00      2142\n",
      "\n"
     ]
    }
   ],
   "source": [
    "print(classification_report(np.array(y_test).argmax(axis=1),predict.argmax(axis=1)))"
   ]
  },
  {
   "cell_type": "code",
   "execution_count": 23,
   "id": "2d2d3085",
   "metadata": {},
   "outputs": [],
   "source": [
    "cm = confusion_matrix(np.array(y_test).argmax(axis=1),predict.argmax(axis=1))"
   ]
  },
  {
   "cell_type": "code",
   "execution_count": 24,
   "id": "797586f3",
   "metadata": {},
   "outputs": [
    {
     "data": {
      "text/plain": [
       "0.9981325863678805"
      ]
     },
     "execution_count": 24,
     "metadata": {},
     "output_type": "execute_result"
    }
   ],
   "source": [
    "f1_score_ = f1_score(np.array(y_test).argmax(axis=1),predict.argmax(axis=1),\n",
    "                                           average='micro') \n",
    "f1_score_"
   ]
  },
  {
   "cell_type": "code",
   "execution_count": 25,
   "id": "3c0136be",
   "metadata": {},
   "outputs": [
    {
     "data": {
      "image/png": "[encoded data removed]",
      "text/plain": [
       "<Figure size 1000x800 with 2 Axes>"
      ]
     },
     "metadata": {},
     "output_type": "display_data"
    }
   ],
   "source": [
    "class_labels = ['2 Tekerlekli', '4 Tekerlekli', '6 Tekerlekli', '8 Tekerlekli', 'Paletli']\n",
    "\n",
    "# Create a heatmap using Seaborn\n",
    "plt.figure(figsize=(10, 8))\n",
    "sns.heatmap(cm,annot=True,  annot_kws={\"size\": 12},fmt='d', cmap='Blues', xticklabels=class_labels, yticklabels=class_labels)\n",
    "plt.xlabel('Predicted Labels')\n",
    "plt.ylabel('True Labels')\n",
    "plt.title('Confusion Matrix')\n",
    "plt.savefig('confusion.png')\n",
    "plt.show()"
   ]
  },
  {
   "cell_type": "code",
   "execution_count": null,
   "id": "c58ea60e",
   "metadata": {},
   "outputs": [],
   "source": [
    "y_test['3 Tekerlekli'].sum()\n"
   ]
  },
  {
   "cell_type": "code",
   "execution_count": null,
   "id": "97c9bcd5",
   "metadata": {},
   "outputs": [],
   "source": [
    "predict"
   ]
  },
  {
   "cell_type": "code",
   "execution_count": null,
   "id": "1cd41032",
   "metadata": {},
   "outputs": [],
   "source": [
    "np.array(predict).argmax(axis=1)"
   ]
  },
  {
   "cell_type": "code",
   "execution_count": null,
   "id": "02104e9a",
   "metadata": {},
   "outputs": [],
   "source": [
    "cr = classification_report(predict,y_test)"
   ]
  },
  {
   "cell_type": "code",
   "execution_count": null,
   "id": "08f73d03",
   "metadata": {},
   "outputs": [],
   "source": [
    "predict = model.predict(x_test)"
   ]
  },
  {
   "cell_type": "code",
   "execution_count": null,
   "id": "d26c35e7",
   "metadata": {},
   "outputs": [],
   "source": [
    "predict = predict>0.5"
   ]
  },
  {
   "cell_type": "code",
   "execution_count": null,
   "id": "80cb1115",
   "metadata": {},
   "outputs": [],
   "source": [
    "predict = predict*1"
   ]
  },
  {
   "cell_type": "code",
   "execution_count": null,
   "id": "28b06b9a",
   "metadata": {},
   "outputs": [],
   "source": [
    "sum_ = []"
   ]
  },
  {
   "cell_type": "code",
   "execution_count": null,
   "id": "1f68ee9e",
   "metadata": {},
   "outputs": [],
   "source": [
    "for x in predict:\n",
    "    if x[1]==1:\n",
    "        sum_.append(x[1])"
   ]
  },
  {
   "cell_type": "code",
   "execution_count": null,
   "id": "d8aab56d",
   "metadata": {},
   "outputs": [],
   "source": []
  },
  {
   "cell_type": "code",
   "execution_count": null,
   "id": "e3fe4dcb",
   "metadata": {},
   "outputs": [],
   "source": [
    "len(sum_)"
   ]
  },
  {
   "cell_type": "code",
   "execution_count": null,
   "id": "4347bc40",
   "metadata": {},
   "outputs": [],
   "source": [
    "len(y_test)"
   ]
  },
  {
   "cell_type": "code",
   "execution_count": null,
   "id": "bf3e16d7",
   "metadata": {},
   "outputs": [],
   "source": [
    "len(predict)"
   ]
  },
  {
   "cell_type": "code",
   "execution_count": null,
   "id": "d12894da",
   "metadata": {},
   "outputs": [],
   "source": [
    "predict = model.predict(x_test)"
   ]
  },
  {
   "cell_type": "code",
   "execution_count": null,
   "id": "2af55c00",
   "metadata": {},
   "outputs": [],
   "source": [
    "for x in predict:\n",
    "    print(x[1]>0.5)"
   ]
  },
  {
   "cell_type": "code",
   "execution_count": null,
   "id": "246dba79",
   "metadata": {},
   "outputs": [],
   "source": [
    "a = 1\n",
    "for x in np.array(y):        \n",
    "    if x[1]==1:\n",
    "        a+=1\n",
    "    "
   ]
  },
  {
   "cell_type": "code",
   "execution_count": null,
   "id": "102a0922",
   "metadata": {},
   "outputs": [],
   "source": [
    "a"
   ]
  },
  {
   "cell_type": "code",
   "execution_count": null,
   "id": "06a804c4",
   "metadata": {},
   "outputs": [],
   "source": [
    "model.history.history"
   ]
  },
  {
   "cell_type": "code",
   "execution_count": 28,
   "id": "52551bc7",
   "metadata": {},
   "outputs": [],
   "source": [
    "data = {'maliyet': 1, 'agirlik_sinifi': 2, 'ozerk_yapi': 1, 'kontrol_sis': 2, 'faydali_yuk': 1, 'motor': 2, 'arazi_tipi': 1, 'yonlendirme_sis': 4, 'suspansiyon_sis': 2, 'govde_malzemesi': 3, 'enerji_sis': 2, 'guc_aktarma': 1, 'fren_sistemi': 1, 'isi_yonetim': 1, 'elektrik_sistemi': 2, 'elektronik_unite': 1}"
   ]
  },
  {
   "cell_type": "code",
   "execution_count": 31,
   "id": "d2c8aa2a",
   "metadata": {},
   "outputs": [
    {
     "ename": "TypeError",
     "evalue": "Index(...) must be called with a collection of some kind, 1 was passed",
     "output_type": "error",
     "traceback": [
      "\u001b[1;31m---------------------------------------------------------------------------\u001b[0m",
      "\u001b[1;31mTypeError\u001b[0m                                 Traceback (most recent call last)",
      "Cell \u001b[1;32mIn[31], line 1\u001b[0m\n\u001b[1;32m----> 1\u001b[0m df \u001b[38;5;241m=\u001b[39m \u001b[43mpd\u001b[49m\u001b[38;5;241;43m.\u001b[39;49m\u001b[43mDataFrame\u001b[49m\u001b[43m(\u001b[49m\u001b[43mdata\u001b[49m\u001b[43m,\u001b[49m\u001b[43mindex\u001b[49m\u001b[38;5;241;43m=\u001b[39;49m\u001b[38;5;241;43m1\u001b[39;49m\u001b[43m)\u001b[49m\n",
      "File \u001b[1;32m~\\anaconda3\\lib\\site-packages\\pandas\\core\\frame.py:733\u001b[0m, in \u001b[0;36mDataFrame.__init__\u001b[1;34m(self, data, index, columns, dtype, copy)\u001b[0m\n\u001b[0;32m    727\u001b[0m     mgr \u001b[38;5;241m=\u001b[39m \u001b[38;5;28mself\u001b[39m\u001b[38;5;241m.\u001b[39m_init_mgr(\n\u001b[0;32m    728\u001b[0m         data, axes\u001b[38;5;241m=\u001b[39m{\u001b[38;5;124m\"\u001b[39m\u001b[38;5;124mindex\u001b[39m\u001b[38;5;124m\"\u001b[39m: index, \u001b[38;5;124m\"\u001b[39m\u001b[38;5;124mcolumns\u001b[39m\u001b[38;5;124m\"\u001b[39m: columns}, dtype\u001b[38;5;241m=\u001b[39mdtype, copy\u001b[38;5;241m=\u001b[39mcopy\n\u001b[0;32m    729\u001b[0m     )\n\u001b[0;32m    731\u001b[0m \u001b[38;5;28;01melif\u001b[39;00m \u001b[38;5;28misinstance\u001b[39m(data, \u001b[38;5;28mdict\u001b[39m):\n\u001b[0;32m    732\u001b[0m     \u001b[38;5;66;03m# GH#38939 de facto copy defaults to False only in non-dict cases\u001b[39;00m\n\u001b[1;32m--> 733\u001b[0m     mgr \u001b[38;5;241m=\u001b[39m \u001b[43mdict_to_mgr\u001b[49m\u001b[43m(\u001b[49m\u001b[43mdata\u001b[49m\u001b[43m,\u001b[49m\u001b[43m \u001b[49m\u001b[43mindex\u001b[49m\u001b[43m,\u001b[49m\u001b[43m \u001b[49m\u001b[43mcolumns\u001b[49m\u001b[43m,\u001b[49m\u001b[43m \u001b[49m\u001b[43mdtype\u001b[49m\u001b[38;5;241;43m=\u001b[39;49m\u001b[43mdtype\u001b[49m\u001b[43m,\u001b[49m\u001b[43m \u001b[49m\u001b[43mcopy\u001b[49m\u001b[38;5;241;43m=\u001b[39;49m\u001b[43mcopy\u001b[49m\u001b[43m,\u001b[49m\u001b[43m \u001b[49m\u001b[43mtyp\u001b[49m\u001b[38;5;241;43m=\u001b[39;49m\u001b[43mmanager\u001b[49m\u001b[43m)\u001b[49m\n\u001b[0;32m    734\u001b[0m \u001b[38;5;28;01melif\u001b[39;00m \u001b[38;5;28misinstance\u001b[39m(data, ma\u001b[38;5;241m.\u001b[39mMaskedArray):\n\u001b[0;32m    735\u001b[0m     \u001b[38;5;28;01mfrom\u001b[39;00m \u001b[38;5;21;01mnumpy\u001b[39;00m\u001b[38;5;21;01m.\u001b[39;00m\u001b[38;5;21;01mma\u001b[39;00m \u001b[38;5;28;01mimport\u001b[39;00m mrecords\n",
      "File \u001b[1;32m~\\anaconda3\\lib\\site-packages\\pandas\\core\\internals\\construction.py:503\u001b[0m, in \u001b[0;36mdict_to_mgr\u001b[1;34m(data, index, columns, dtype, typ, copy)\u001b[0m\n\u001b[0;32m    499\u001b[0m     \u001b[38;5;28;01melse\u001b[39;00m:\n\u001b[0;32m    500\u001b[0m         \u001b[38;5;66;03m# dtype check to exclude e.g. range objects, scalars\u001b[39;00m\n\u001b[0;32m    501\u001b[0m         arrays \u001b[38;5;241m=\u001b[39m [x\u001b[38;5;241m.\u001b[39mcopy() \u001b[38;5;28;01mif\u001b[39;00m \u001b[38;5;28mhasattr\u001b[39m(x, \u001b[38;5;124m\"\u001b[39m\u001b[38;5;124mdtype\u001b[39m\u001b[38;5;124m\"\u001b[39m) \u001b[38;5;28;01melse\u001b[39;00m x \u001b[38;5;28;01mfor\u001b[39;00m x \u001b[38;5;129;01min\u001b[39;00m arrays]\n\u001b[1;32m--> 503\u001b[0m \u001b[38;5;28;01mreturn\u001b[39;00m \u001b[43marrays_to_mgr\u001b[49m\u001b[43m(\u001b[49m\u001b[43marrays\u001b[49m\u001b[43m,\u001b[49m\u001b[43m \u001b[49m\u001b[43mcolumns\u001b[49m\u001b[43m,\u001b[49m\u001b[43m \u001b[49m\u001b[43mindex\u001b[49m\u001b[43m,\u001b[49m\u001b[43m \u001b[49m\u001b[43mdtype\u001b[49m\u001b[38;5;241;43m=\u001b[39;49m\u001b[43mdtype\u001b[49m\u001b[43m,\u001b[49m\u001b[43m \u001b[49m\u001b[43mtyp\u001b[49m\u001b[38;5;241;43m=\u001b[39;49m\u001b[43mtyp\u001b[49m\u001b[43m,\u001b[49m\u001b[43m \u001b[49m\u001b[43mconsolidate\u001b[49m\u001b[38;5;241;43m=\u001b[39;49m\u001b[43mcopy\u001b[49m\u001b[43m)\u001b[49m\n",
      "File \u001b[1;32m~\\anaconda3\\lib\\site-packages\\pandas\\core\\internals\\construction.py:116\u001b[0m, in \u001b[0;36marrays_to_mgr\u001b[1;34m(arrays, columns, index, dtype, verify_integrity, typ, consolidate)\u001b[0m\n\u001b[0;32m    114\u001b[0m     index \u001b[38;5;241m=\u001b[39m _extract_index(arrays)\n\u001b[0;32m    115\u001b[0m \u001b[38;5;28;01melse\u001b[39;00m:\n\u001b[1;32m--> 116\u001b[0m     index \u001b[38;5;241m=\u001b[39m \u001b[43mensure_index\u001b[49m\u001b[43m(\u001b[49m\u001b[43mindex\u001b[49m\u001b[43m)\u001b[49m\n\u001b[0;32m    118\u001b[0m \u001b[38;5;66;03m# don't force copy because getting jammed in an ndarray anyway\u001b[39;00m\n\u001b[0;32m    119\u001b[0m arrays, refs \u001b[38;5;241m=\u001b[39m _homogenize(arrays, index, dtype)\n",
      "File \u001b[1;32m~\\anaconda3\\lib\\site-packages\\pandas\\core\\indexes\\base.py:7577\u001b[0m, in \u001b[0;36mensure_index\u001b[1;34m(index_like, copy)\u001b[0m\n\u001b[0;32m   7575\u001b[0m         \u001b[38;5;28;01mreturn\u001b[39;00m Index(index_like, copy\u001b[38;5;241m=\u001b[39mcopy, tupleize_cols\u001b[38;5;241m=\u001b[39m\u001b[38;5;28;01mFalse\u001b[39;00m)\n\u001b[0;32m   7576\u001b[0m \u001b[38;5;28;01melse\u001b[39;00m:\n\u001b[1;32m-> 7577\u001b[0m     \u001b[38;5;28;01mreturn\u001b[39;00m \u001b[43mIndex\u001b[49m\u001b[43m(\u001b[49m\u001b[43mindex_like\u001b[49m\u001b[43m,\u001b[49m\u001b[43m \u001b[49m\u001b[43mcopy\u001b[49m\u001b[38;5;241;43m=\u001b[39;49m\u001b[43mcopy\u001b[49m\u001b[43m)\u001b[49m\n",
      "File \u001b[1;32m~\\anaconda3\\lib\\site-packages\\pandas\\core\\indexes\\base.py:525\u001b[0m, in \u001b[0;36mIndex.__new__\u001b[1;34m(cls, data, dtype, copy, name, tupleize_cols)\u001b[0m\n\u001b[0;32m    522\u001b[0m         data \u001b[38;5;241m=\u001b[39m com\u001b[38;5;241m.\u001b[39masarray_tuplesafe(data, dtype\u001b[38;5;241m=\u001b[39m_dtype_obj)\n\u001b[0;32m    524\u001b[0m \u001b[38;5;28;01melif\u001b[39;00m is_scalar(data):\n\u001b[1;32m--> 525\u001b[0m     \u001b[38;5;28;01mraise\u001b[39;00m \u001b[38;5;28;43mcls\u001b[39;49m\u001b[38;5;241;43m.\u001b[39;49m\u001b[43m_raise_scalar_data_error\u001b[49m\u001b[43m(\u001b[49m\u001b[43mdata\u001b[49m\u001b[43m)\u001b[49m\n\u001b[0;32m    526\u001b[0m \u001b[38;5;28;01melif\u001b[39;00m \u001b[38;5;28mhasattr\u001b[39m(data, \u001b[38;5;124m\"\u001b[39m\u001b[38;5;124m__array__\u001b[39m\u001b[38;5;124m\"\u001b[39m):\n\u001b[0;32m    527\u001b[0m     \u001b[38;5;28;01mreturn\u001b[39;00m Index(np\u001b[38;5;241m.\u001b[39masarray(data), dtype\u001b[38;5;241m=\u001b[39mdtype, copy\u001b[38;5;241m=\u001b[39mcopy, name\u001b[38;5;241m=\u001b[39mname)\n",
      "File \u001b[1;32m~\\anaconda3\\lib\\site-packages\\pandas\\core\\indexes\\base.py:5266\u001b[0m, in \u001b[0;36mIndex._raise_scalar_data_error\u001b[1;34m(cls, data)\u001b[0m\n\u001b[0;32m   5261\u001b[0m \u001b[38;5;129m@final\u001b[39m\n\u001b[0;32m   5262\u001b[0m \u001b[38;5;129m@classmethod\u001b[39m\n\u001b[0;32m   5263\u001b[0m \u001b[38;5;28;01mdef\u001b[39;00m \u001b[38;5;21m_raise_scalar_data_error\u001b[39m(\u001b[38;5;28mcls\u001b[39m, data):\n\u001b[0;32m   5264\u001b[0m     \u001b[38;5;66;03m# We return the TypeError so that we can raise it from the constructor\u001b[39;00m\n\u001b[0;32m   5265\u001b[0m     \u001b[38;5;66;03m#  in order to keep mypy happy\u001b[39;00m\n\u001b[1;32m-> 5266\u001b[0m     \u001b[38;5;28;01mraise\u001b[39;00m \u001b[38;5;167;01mTypeError\u001b[39;00m(\n\u001b[0;32m   5267\u001b[0m         \u001b[38;5;124mf\u001b[39m\u001b[38;5;124m\"\u001b[39m\u001b[38;5;132;01m{\u001b[39;00m\u001b[38;5;28mcls\u001b[39m\u001b[38;5;241m.\u001b[39m\u001b[38;5;18m__name__\u001b[39m\u001b[38;5;132;01m}\u001b[39;00m\u001b[38;5;124m(...) must be called with a collection of some \u001b[39m\u001b[38;5;124m\"\u001b[39m\n\u001b[0;32m   5268\u001b[0m         \u001b[38;5;124mf\u001b[39m\u001b[38;5;124m\"\u001b[39m\u001b[38;5;124mkind, \u001b[39m\u001b[38;5;132;01m{\u001b[39;00m\u001b[38;5;28mrepr\u001b[39m(data)\u001b[38;5;250m \u001b[39m\u001b[38;5;28;01mif\u001b[39;00m\u001b[38;5;250m \u001b[39m\u001b[38;5;129;01mnot\u001b[39;00m\u001b[38;5;250m \u001b[39m\u001b[38;5;28misinstance\u001b[39m(data,\u001b[38;5;250m \u001b[39mnp\u001b[38;5;241m.\u001b[39mgeneric)\u001b[38;5;250m \u001b[39m\u001b[38;5;28;01melse\u001b[39;00m\u001b[38;5;250m \u001b[39m\u001b[38;5;28mstr\u001b[39m(data)\u001b[38;5;132;01m}\u001b[39;00m\u001b[38;5;124m \u001b[39m\u001b[38;5;124m\"\u001b[39m\n\u001b[0;32m   5269\u001b[0m         \u001b[38;5;124m\"\u001b[39m\u001b[38;5;124mwas passed\u001b[39m\u001b[38;5;124m\"\u001b[39m\n\u001b[0;32m   5270\u001b[0m     )\n",
      "\u001b[1;31mTypeError\u001b[0m: Index(...) must be called with a collection of some kind, 1 was passed"
     ]
    }
   ],
   "source": [
    "df = pd.DataFrame(data,index=None)"
   ]
  },
  {
   "cell_type": "code",
   "execution_count": null,
   "id": "94dc9c7c",
   "metadata": {},
   "outputs": [],
   "source": []
  }
 ],
 "metadata": {
  "kernelspec": {
   "display_name": "Python 3 (ipykernel)",
   "language": "python",
   "name": "python3"
  },
  "language_info": {
   "codemirror_mode": {
    "name": "ipython",
    "version": 3
   },
   "file_extension": ".py",
   "mimetype": "text/x-python",
   "name": "python",
   "nbconvert_exporter": "python",
   "pygments_lexer": "ipython3",
   "version": "3.10.13"
  }
 },
 "nbformat": 4,
 "nbformat_minor": 5
}
